{
  "cells": [
    {
      "cell_type": "markdown",
      "source": [
        "#**import library**"
      ],
      "metadata": {
        "id": "KAbdK-8hZmHu"
      }
    },
    {
      "cell_type": "markdown",
      "source": [
        "deskripsi proses :\n",
        "\n",
        "*   melakukan import library yang dibutuhkan untuk melakukan data exploration ,data preprocesing , data visualisastion\n",
        "\n"
      ],
      "metadata": {
        "id": "wE1XS5Q8oYDP"
      }
    },
    {
      "cell_type": "code",
      "execution_count": null,
      "metadata": {
        "id": "bLwFQ3Z-Ioa3"
      },
      "outputs": [],
      "source": [
        "# import library yang dibutuhkan\n",
        "import pandas as pd\n",
        "import numpy as np\n",
        "import matplotlib.pyplot as plt\n",
        "import seaborn as sns"
      ]
    },
    {
      "cell_type": "markdown",
      "source": [
        "# **read dataset**"
      ],
      "metadata": {
        "id": "rb6rRffSZsNw"
      }
    },
    {
      "cell_type": "markdown",
      "source": [
        "deskripsi proses :\n",
        "*   melakukan import source data yaitu file transaction.json kedalam google colabs melalui google drive\n",
        "*   serta membaca file tersebut kedalam bentuk dataframe\n"
      ],
      "metadata": {
        "id": "nE2di4mWo8IV"
      }
    },
    {
      "cell_type": "code",
      "execution_count": null,
      "metadata": {
        "colab": {
          "base_uri": "https://localhost:8080/"
        },
        "id": "YbswfsGypzvf",
        "outputId": "2d4a8104-8bce-4c74-c87a-42c18eea2443"
      },
      "outputs": [
        {
          "output_type": "stream",
          "name": "stdout",
          "text": [
            "Drive already mounted at /content/drive; to attempt to forcibly remount, call drive.mount(\"/content/drive\", force_remount=True).\n"
          ]
        }
      ],
      "source": [
        "# upload file json ke google drive\n",
        "from google.colab import drive\n",
        "drive.mount('/content/drive')"
      ]
    },
    {
      "cell_type": "code",
      "execution_count": null,
      "metadata": {
        "id": "YH7nGljKIdp4"
      },
      "outputs": [],
      "source": [
        "# read file jsonya kedalam dataframe\n",
        "df=pd.read_json(\"/content/drive/MyDrive/finalproject/transactions.json\", lines = True)\n",
        "pd.set_option('display.max_columns', None)"
      ]
    },
    {
      "cell_type": "markdown",
      "source": [
        "# **explore dataset**"
      ],
      "metadata": {
        "id": "NcLxTWG9ZwI3"
      }
    },
    {
      "cell_type": "markdown",
      "metadata": {
        "id": "C8YLQ97lOGAG"
      },
      "source": [
        "deskripsi proses :    \n",
        "\n",
        "*   melakukan eksplorasi terhadap dataset seperti menampilkan baris paling atas , baris paling bawah , jumlah baris dan kolom dari dataset\n",
        "* menampilkan kolom-kolom , menampilkan informasi dari dataset serta tipe data nya, menghitung tipe data, serta menampilkan jumlah value unik dari setiap kolomnya.   \n",
        "\n"
      ]
    },
    {
      "cell_type": "code",
      "execution_count": null,
      "metadata": {
        "colab": {
          "base_uri": "https://localhost:8080/"
        },
        "id": "P--HXiLNJFLj",
        "outputId": "ee436530-d534-48e7-a6ec-9739dc4fcb58"
      },
      "outputs": [
        {
          "output_type": "execute_result",
          "data": {
            "text/plain": [
              "   accountNumber  customerId  creditLimit  availableMoney  \\\n",
              "0      733493772   733493772         5000         5000.00   \n",
              "1      733493772   733493772         5000         4888.67   \n",
              "2      733493772   733493772         5000         4863.92   \n",
              "3      733493772   733493772         5000         4676.52   \n",
              "4      733493772   733493772         5000         4449.18   \n",
              "5      733493772   733493772         5000         4449.18   \n",
              "6      733493772   733493772         5000         4439.38   \n",
              "7      733493772   733493772         5000         4191.39   \n",
              "8      733493772   733493772         5000         4191.39   \n",
              "9      733493772   733493772         5000         4179.85   \n",
              "\n",
              "   transactionDateTime  transactionAmount             merchantName acqCountry  \\\n",
              "0  2016-01-08T19:04:50             111.33                     Lyft         US   \n",
              "1  2016-01-09T22:32:39              24.75                     Uber         US   \n",
              "2  2016-01-11T13:36:55             187.40                     Lyft         US   \n",
              "3  2016-01-11T22:47:46             227.34                     Lyft         US   \n",
              "4  2016-01-16T01:41:11               0.00                     Lyft         US   \n",
              "5  2016-01-16T21:35:27               9.80             Fresh eCards         US   \n",
              "6  2016-01-24T07:54:01             247.99                     Uber              \n",
              "7  2016-01-26T05:28:24               0.00  Universe Massage #95463         US   \n",
              "8  2016-01-26T12:18:14              11.54  Universe Massage #70014         US   \n",
              "9  2016-01-26T12:19:15              11.54  Universe Massage #70014         US   \n",
              "\n",
              "  merchantCountryCode posEntryMode posConditionCode merchantCategoryCode  \\\n",
              "0                  US           05               01            rideshare   \n",
              "1                  US           09               01            rideshare   \n",
              "2                  US           05               01            rideshare   \n",
              "3                  US           02               01            rideshare   \n",
              "4                  US           02               01            rideshare   \n",
              "5                  US           05               01         online_gifts   \n",
              "6                  US           05               01            rideshare   \n",
              "7                  US           05               01        personal care   \n",
              "8                  US           05               01        personal care   \n",
              "9                  US           05               01        personal care   \n",
              "\n",
              "  currentExpDate accountOpenDate dateOfLastAddressChange  cardCVV  enteredCVV  \\\n",
              "0        04/2020      2014-08-03              2014-08-03      492         492   \n",
              "1        06/2023      2014-08-03              2014-08-03      492         492   \n",
              "2        12/2027      2014-08-03              2014-08-03      492         492   \n",
              "3        09/2029      2014-08-03              2014-08-03      492         492   \n",
              "4        10/2024      2014-08-03              2014-08-03      492         492   \n",
              "5        02/2021      2014-08-03              2014-08-03      492         492   \n",
              "6        01/2026      2014-08-03              2014-08-03      492         492   \n",
              "7        12/2031      2014-08-03              2014-08-03      492         492   \n",
              "8        04/2024      2014-08-03              2014-08-03      492         492   \n",
              "9        04/2024      2014-08-03              2014-08-03      492         492   \n",
              "\n",
              "   cardLast4Digits       transactionType  isFraud echoBuffer  currentBalance  \\\n",
              "0             9184              PURCHASE     True                       0.00   \n",
              "1             9184              PURCHASE    False                     111.33   \n",
              "2             9184              PURCHASE    False                     136.08   \n",
              "3             9184              PURCHASE     True                     323.48   \n",
              "4             9184  ADDRESS_VERIFICATION    False                     550.82   \n",
              "5             9184              PURCHASE    False                     550.82   \n",
              "6             9184              PURCHASE    False                     560.62   \n",
              "7             9184  ADDRESS_VERIFICATION    False                     808.61   \n",
              "8             9184              PURCHASE    False                     808.61   \n",
              "9             9184              REVERSAL    False                     820.15   \n",
              "\n",
              "  merchantCity merchantState merchantZip  cardPresent posOnPremises  \\\n",
              "0                                               False                 \n",
              "1                                               False                 \n",
              "2                                               False                 \n",
              "3                                               False                 \n",
              "4                                               False                 \n",
              "5                                               False                 \n",
              "6                                               False                 \n",
              "7                                               False                 \n",
              "8                                                True                 \n",
              "9                                                True                 \n",
              "\n",
              "  recurringAuthInd  expirationDateKeyInMatch  \n",
              "0                                      False  \n",
              "1                                      False  \n",
              "2                                      False  \n",
              "3                                      False  \n",
              "4                                      False  \n",
              "5                                      False  \n",
              "6                                      False  \n",
              "7                                      False  \n",
              "8                                      False  \n",
              "9                                      False  "
            ],
            "text/html": [
              "\n",
              "  <div id=\"df-93b01070-0b03-4f71-b371-3e8e78bf7c74\">\n",
              "    <div class=\"colab-df-container\">\n",
              "      <div>\n",
              "<style scoped>\n",
              "    .dataframe tbody tr th:only-of-type {\n",
              "        vertical-align: middle;\n",
              "    }\n",
              "\n",
              "    .dataframe tbody tr th {\n",
              "        vertical-align: top;\n",
              "    }\n",
              "\n",
              "    .dataframe thead th {\n",
              "        text-align: right;\n",
              "    }\n",
              "</style>\n",
              "<table border=\"1\" class=\"dataframe\">\n",
              "  <thead>\n",
              "    <tr style=\"text-align: right;\">\n",
              "      <th></th>\n",
              "      <th>accountNumber</th>\n",
              "      <th>customerId</th>\n",
              "      <th>creditLimit</th>\n",
              "      <th>availableMoney</th>\n",
              "      <th>transactionDateTime</th>\n",
              "      <th>transactionAmount</th>\n",
              "      <th>merchantName</th>\n",
              "      <th>acqCountry</th>\n",
              "      <th>merchantCountryCode</th>\n",
              "      <th>posEntryMode</th>\n",
              "      <th>posConditionCode</th>\n",
              "      <th>merchantCategoryCode</th>\n",
              "      <th>currentExpDate</th>\n",
              "      <th>accountOpenDate</th>\n",
              "      <th>dateOfLastAddressChange</th>\n",
              "      <th>cardCVV</th>\n",
              "      <th>enteredCVV</th>\n",
              "      <th>cardLast4Digits</th>\n",
              "      <th>transactionType</th>\n",
              "      <th>isFraud</th>\n",
              "      <th>echoBuffer</th>\n",
              "      <th>currentBalance</th>\n",
              "      <th>merchantCity</th>\n",
              "      <th>merchantState</th>\n",
              "      <th>merchantZip</th>\n",
              "      <th>cardPresent</th>\n",
              "      <th>posOnPremises</th>\n",
              "      <th>recurringAuthInd</th>\n",
              "      <th>expirationDateKeyInMatch</th>\n",
              "    </tr>\n",
              "  </thead>\n",
              "  <tbody>\n",
              "    <tr>\n",
              "      <th>0</th>\n",
              "      <td>733493772</td>\n",
              "      <td>733493772</td>\n",
              "      <td>5000</td>\n",
              "      <td>5000.00</td>\n",
              "      <td>2016-01-08T19:04:50</td>\n",
              "      <td>111.33</td>\n",
              "      <td>Lyft</td>\n",
              "      <td>US</td>\n",
              "      <td>US</td>\n",
              "      <td>05</td>\n",
              "      <td>01</td>\n",
              "      <td>rideshare</td>\n",
              "      <td>04/2020</td>\n",
              "      <td>2014-08-03</td>\n",
              "      <td>2014-08-03</td>\n",
              "      <td>492</td>\n",
              "      <td>492</td>\n",
              "      <td>9184</td>\n",
              "      <td>PURCHASE</td>\n",
              "      <td>True</td>\n",
              "      <td></td>\n",
              "      <td>0.00</td>\n",
              "      <td></td>\n",
              "      <td></td>\n",
              "      <td></td>\n",
              "      <td>False</td>\n",
              "      <td></td>\n",
              "      <td></td>\n",
              "      <td>False</td>\n",
              "    </tr>\n",
              "    <tr>\n",
              "      <th>1</th>\n",
              "      <td>733493772</td>\n",
              "      <td>733493772</td>\n",
              "      <td>5000</td>\n",
              "      <td>4888.67</td>\n",
              "      <td>2016-01-09T22:32:39</td>\n",
              "      <td>24.75</td>\n",
              "      <td>Uber</td>\n",
              "      <td>US</td>\n",
              "      <td>US</td>\n",
              "      <td>09</td>\n",
              "      <td>01</td>\n",
              "      <td>rideshare</td>\n",
              "      <td>06/2023</td>\n",
              "      <td>2014-08-03</td>\n",
              "      <td>2014-08-03</td>\n",
              "      <td>492</td>\n",
              "      <td>492</td>\n",
              "      <td>9184</td>\n",
              "      <td>PURCHASE</td>\n",
              "      <td>False</td>\n",
              "      <td></td>\n",
              "      <td>111.33</td>\n",
              "      <td></td>\n",
              "      <td></td>\n",
              "      <td></td>\n",
              "      <td>False</td>\n",
              "      <td></td>\n",
              "      <td></td>\n",
              "      <td>False</td>\n",
              "    </tr>\n",
              "    <tr>\n",
              "      <th>2</th>\n",
              "      <td>733493772</td>\n",
              "      <td>733493772</td>\n",
              "      <td>5000</td>\n",
              "      <td>4863.92</td>\n",
              "      <td>2016-01-11T13:36:55</td>\n",
              "      <td>187.40</td>\n",
              "      <td>Lyft</td>\n",
              "      <td>US</td>\n",
              "      <td>US</td>\n",
              "      <td>05</td>\n",
              "      <td>01</td>\n",
              "      <td>rideshare</td>\n",
              "      <td>12/2027</td>\n",
              "      <td>2014-08-03</td>\n",
              "      <td>2014-08-03</td>\n",
              "      <td>492</td>\n",
              "      <td>492</td>\n",
              "      <td>9184</td>\n",
              "      <td>PURCHASE</td>\n",
              "      <td>False</td>\n",
              "      <td></td>\n",
              "      <td>136.08</td>\n",
              "      <td></td>\n",
              "      <td></td>\n",
              "      <td></td>\n",
              "      <td>False</td>\n",
              "      <td></td>\n",
              "      <td></td>\n",
              "      <td>False</td>\n",
              "    </tr>\n",
              "    <tr>\n",
              "      <th>3</th>\n",
              "      <td>733493772</td>\n",
              "      <td>733493772</td>\n",
              "      <td>5000</td>\n",
              "      <td>4676.52</td>\n",
              "      <td>2016-01-11T22:47:46</td>\n",
              "      <td>227.34</td>\n",
              "      <td>Lyft</td>\n",
              "      <td>US</td>\n",
              "      <td>US</td>\n",
              "      <td>02</td>\n",
              "      <td>01</td>\n",
              "      <td>rideshare</td>\n",
              "      <td>09/2029</td>\n",
              "      <td>2014-08-03</td>\n",
              "      <td>2014-08-03</td>\n",
              "      <td>492</td>\n",
              "      <td>492</td>\n",
              "      <td>9184</td>\n",
              "      <td>PURCHASE</td>\n",
              "      <td>True</td>\n",
              "      <td></td>\n",
              "      <td>323.48</td>\n",
              "      <td></td>\n",
              "      <td></td>\n",
              "      <td></td>\n",
              "      <td>False</td>\n",
              "      <td></td>\n",
              "      <td></td>\n",
              "      <td>False</td>\n",
              "    </tr>\n",
              "    <tr>\n",
              "      <th>4</th>\n",
              "      <td>733493772</td>\n",
              "      <td>733493772</td>\n",
              "      <td>5000</td>\n",
              "      <td>4449.18</td>\n",
              "      <td>2016-01-16T01:41:11</td>\n",
              "      <td>0.00</td>\n",
              "      <td>Lyft</td>\n",
              "      <td>US</td>\n",
              "      <td>US</td>\n",
              "      <td>02</td>\n",
              "      <td>01</td>\n",
              "      <td>rideshare</td>\n",
              "      <td>10/2024</td>\n",
              "      <td>2014-08-03</td>\n",
              "      <td>2014-08-03</td>\n",
              "      <td>492</td>\n",
              "      <td>492</td>\n",
              "      <td>9184</td>\n",
              "      <td>ADDRESS_VERIFICATION</td>\n",
              "      <td>False</td>\n",
              "      <td></td>\n",
              "      <td>550.82</td>\n",
              "      <td></td>\n",
              "      <td></td>\n",
              "      <td></td>\n",
              "      <td>False</td>\n",
              "      <td></td>\n",
              "      <td></td>\n",
              "      <td>False</td>\n",
              "    </tr>\n",
              "    <tr>\n",
              "      <th>5</th>\n",
              "      <td>733493772</td>\n",
              "      <td>733493772</td>\n",
              "      <td>5000</td>\n",
              "      <td>4449.18</td>\n",
              "      <td>2016-01-16T21:35:27</td>\n",
              "      <td>9.80</td>\n",
              "      <td>Fresh eCards</td>\n",
              "      <td>US</td>\n",
              "      <td>US</td>\n",
              "      <td>05</td>\n",
              "      <td>01</td>\n",
              "      <td>online_gifts</td>\n",
              "      <td>02/2021</td>\n",
              "      <td>2014-08-03</td>\n",
              "      <td>2014-08-03</td>\n",
              "      <td>492</td>\n",
              "      <td>492</td>\n",
              "      <td>9184</td>\n",
              "      <td>PURCHASE</td>\n",
              "      <td>False</td>\n",
              "      <td></td>\n",
              "      <td>550.82</td>\n",
              "      <td></td>\n",
              "      <td></td>\n",
              "      <td></td>\n",
              "      <td>False</td>\n",
              "      <td></td>\n",
              "      <td></td>\n",
              "      <td>False</td>\n",
              "    </tr>\n",
              "    <tr>\n",
              "      <th>6</th>\n",
              "      <td>733493772</td>\n",
              "      <td>733493772</td>\n",
              "      <td>5000</td>\n",
              "      <td>4439.38</td>\n",
              "      <td>2016-01-24T07:54:01</td>\n",
              "      <td>247.99</td>\n",
              "      <td>Uber</td>\n",
              "      <td></td>\n",
              "      <td>US</td>\n",
              "      <td>05</td>\n",
              "      <td>01</td>\n",
              "      <td>rideshare</td>\n",
              "      <td>01/2026</td>\n",
              "      <td>2014-08-03</td>\n",
              "      <td>2014-08-03</td>\n",
              "      <td>492</td>\n",
              "      <td>492</td>\n",
              "      <td>9184</td>\n",
              "      <td>PURCHASE</td>\n",
              "      <td>False</td>\n",
              "      <td></td>\n",
              "      <td>560.62</td>\n",
              "      <td></td>\n",
              "      <td></td>\n",
              "      <td></td>\n",
              "      <td>False</td>\n",
              "      <td></td>\n",
              "      <td></td>\n",
              "      <td>False</td>\n",
              "    </tr>\n",
              "    <tr>\n",
              "      <th>7</th>\n",
              "      <td>733493772</td>\n",
              "      <td>733493772</td>\n",
              "      <td>5000</td>\n",
              "      <td>4191.39</td>\n",
              "      <td>2016-01-26T05:28:24</td>\n",
              "      <td>0.00</td>\n",
              "      <td>Universe Massage #95463</td>\n",
              "      <td>US</td>\n",
              "      <td>US</td>\n",
              "      <td>05</td>\n",
              "      <td>01</td>\n",
              "      <td>personal care</td>\n",
              "      <td>12/2031</td>\n",
              "      <td>2014-08-03</td>\n",
              "      <td>2014-08-03</td>\n",
              "      <td>492</td>\n",
              "      <td>492</td>\n",
              "      <td>9184</td>\n",
              "      <td>ADDRESS_VERIFICATION</td>\n",
              "      <td>False</td>\n",
              "      <td></td>\n",
              "      <td>808.61</td>\n",
              "      <td></td>\n",
              "      <td></td>\n",
              "      <td></td>\n",
              "      <td>False</td>\n",
              "      <td></td>\n",
              "      <td></td>\n",
              "      <td>False</td>\n",
              "    </tr>\n",
              "    <tr>\n",
              "      <th>8</th>\n",
              "      <td>733493772</td>\n",
              "      <td>733493772</td>\n",
              "      <td>5000</td>\n",
              "      <td>4191.39</td>\n",
              "      <td>2016-01-26T12:18:14</td>\n",
              "      <td>11.54</td>\n",
              "      <td>Universe Massage #70014</td>\n",
              "      <td>US</td>\n",
              "      <td>US</td>\n",
              "      <td>05</td>\n",
              "      <td>01</td>\n",
              "      <td>personal care</td>\n",
              "      <td>04/2024</td>\n",
              "      <td>2014-08-03</td>\n",
              "      <td>2014-08-03</td>\n",
              "      <td>492</td>\n",
              "      <td>492</td>\n",
              "      <td>9184</td>\n",
              "      <td>PURCHASE</td>\n",
              "      <td>False</td>\n",
              "      <td></td>\n",
              "      <td>808.61</td>\n",
              "      <td></td>\n",
              "      <td></td>\n",
              "      <td></td>\n",
              "      <td>True</td>\n",
              "      <td></td>\n",
              "      <td></td>\n",
              "      <td>False</td>\n",
              "    </tr>\n",
              "    <tr>\n",
              "      <th>9</th>\n",
              "      <td>733493772</td>\n",
              "      <td>733493772</td>\n",
              "      <td>5000</td>\n",
              "      <td>4179.85</td>\n",
              "      <td>2016-01-26T12:19:15</td>\n",
              "      <td>11.54</td>\n",
              "      <td>Universe Massage #70014</td>\n",
              "      <td>US</td>\n",
              "      <td>US</td>\n",
              "      <td>05</td>\n",
              "      <td>01</td>\n",
              "      <td>personal care</td>\n",
              "      <td>04/2024</td>\n",
              "      <td>2014-08-03</td>\n",
              "      <td>2014-08-03</td>\n",
              "      <td>492</td>\n",
              "      <td>492</td>\n",
              "      <td>9184</td>\n",
              "      <td>REVERSAL</td>\n",
              "      <td>False</td>\n",
              "      <td></td>\n",
              "      <td>820.15</td>\n",
              "      <td></td>\n",
              "      <td></td>\n",
              "      <td></td>\n",
              "      <td>True</td>\n",
              "      <td></td>\n",
              "      <td></td>\n",
              "      <td>False</td>\n",
              "    </tr>\n",
              "  </tbody>\n",
              "</table>\n",
              "</div>\n",
              "      <button class=\"colab-df-convert\" onclick=\"convertToInteractive('df-93b01070-0b03-4f71-b371-3e8e78bf7c74')\"\n",
              "              title=\"Convert this dataframe to an interactive table.\"\n",
              "              style=\"display:none;\">\n",
              "        \n",
              "  <svg xmlns=\"http://www.w3.org/2000/svg\" height=\"24px\"viewBox=\"0 0 24 24\"\n",
              "       width=\"24px\">\n",
              "    <path d=\"M0 0h24v24H0V0z\" fill=\"none\"/>\n",
              "    <path d=\"M18.56 5.44l.94 2.06.94-2.06 2.06-.94-2.06-.94-.94-2.06-.94 2.06-2.06.94zm-11 1L8.5 8.5l.94-2.06 2.06-.94-2.06-.94L8.5 2.5l-.94 2.06-2.06.94zm10 10l.94 2.06.94-2.06 2.06-.94-2.06-.94-.94-2.06-.94 2.06-2.06.94z\"/><path d=\"M17.41 7.96l-1.37-1.37c-.4-.4-.92-.59-1.43-.59-.52 0-1.04.2-1.43.59L10.3 9.45l-7.72 7.72c-.78.78-.78 2.05 0 2.83L4 21.41c.39.39.9.59 1.41.59.51 0 1.02-.2 1.41-.59l7.78-7.78 2.81-2.81c.8-.78.8-2.07 0-2.86zM5.41 20L4 18.59l7.72-7.72 1.47 1.35L5.41 20z\"/>\n",
              "  </svg>\n",
              "      </button>\n",
              "      \n",
              "  <style>\n",
              "    .colab-df-container {\n",
              "      display:flex;\n",
              "      flex-wrap:wrap;\n",
              "      gap: 12px;\n",
              "    }\n",
              "\n",
              "    .colab-df-convert {\n",
              "      background-color: #E8F0FE;\n",
              "      border: none;\n",
              "      border-radius: 50%;\n",
              "      cursor: pointer;\n",
              "      display: none;\n",
              "      fill: #1967D2;\n",
              "      height: 32px;\n",
              "      padding: 0 0 0 0;\n",
              "      width: 32px;\n",
              "    }\n",
              "\n",
              "    .colab-df-convert:hover {\n",
              "      background-color: #E2EBFA;\n",
              "      box-shadow: 0px 1px 2px rgba(60, 64, 67, 0.3), 0px 1px 3px 1px rgba(60, 64, 67, 0.15);\n",
              "      fill: #174EA6;\n",
              "    }\n",
              "\n",
              "    [theme=dark] .colab-df-convert {\n",
              "      background-color: #3B4455;\n",
              "      fill: #D2E3FC;\n",
              "    }\n",
              "\n",
              "    [theme=dark] .colab-df-convert:hover {\n",
              "      background-color: #434B5C;\n",
              "      box-shadow: 0px 1px 3px 1px rgba(0, 0, 0, 0.15);\n",
              "      filter: drop-shadow(0px 1px 2px rgba(0, 0, 0, 0.3));\n",
              "      fill: #FFFFFF;\n",
              "    }\n",
              "  </style>\n",
              "\n",
              "      <script>\n",
              "        const buttonEl =\n",
              "          document.querySelector('#df-93b01070-0b03-4f71-b371-3e8e78bf7c74 button.colab-df-convert');\n",
              "        buttonEl.style.display =\n",
              "          google.colab.kernel.accessAllowed ? 'block' : 'none';\n",
              "\n",
              "        async function convertToInteractive(key) {\n",
              "          const element = document.querySelector('#df-93b01070-0b03-4f71-b371-3e8e78bf7c74');\n",
              "          const dataTable =\n",
              "            await google.colab.kernel.invokeFunction('convertToInteractive',\n",
              "                                                     [key], {});\n",
              "          if (!dataTable) return;\n",
              "\n",
              "          const docLinkHtml = 'Like what you see? Visit the ' +\n",
              "            '<a target=\"_blank\" href=https://colab.research.google.com/notebooks/data_table.ipynb>data table notebook</a>'\n",
              "            + ' to learn more about interactive tables.';\n",
              "          element.innerHTML = '';\n",
              "          dataTable['output_type'] = 'display_data';\n",
              "          await google.colab.output.renderOutput(dataTable, element);\n",
              "          const docLink = document.createElement('div');\n",
              "          docLink.innerHTML = docLinkHtml;\n",
              "          element.appendChild(docLink);\n",
              "        }\n",
              "      </script>\n",
              "    </div>\n",
              "  </div>\n",
              "  "
            ]
          },
          "metadata": {},
          "execution_count": 119
        }
      ],
      "source": [
        "# menampilkan 10 baris paling atas dari dataset\n",
        "df.head(10)"
      ]
    },
    {
      "cell_type": "code",
      "execution_count": null,
      "metadata": {
        "colab": {
          "base_uri": "https://localhost:8080/"
        },
        "id": "KfA1U7PlVGdf",
        "outputId": "bffa2a92-a0a3-4f6b-8ab0-1a734b4a8bc2"
      },
      "outputs": [
        {
          "output_type": "execute_result",
          "data": {
            "text/plain": [
              "        accountNumber  customerId  creditLimit  availableMoney  \\\n",
              "641904      186770399   186770399         7500         3619.56   \n",
              "641905      186770399   186770399         7500         3614.19   \n",
              "641906      186770399   186770399         7500         3466.22   \n",
              "641907      186770399   186770399         7500         2582.43   \n",
              "641908      186770399   186770399         7500         2566.12   \n",
              "641909      186770399   186770399         7500         2574.02   \n",
              "641910      186770399   186770399         7500         2568.65   \n",
              "641911      186770399   186770399         7500         2344.95   \n",
              "641912      186770399   186770399         7500         2206.53   \n",
              "641913      186770399   186770399         7500         2190.22   \n",
              "\n",
              "        transactionDateTime  transactionAmount                   merchantName  \\\n",
              "641904  2016-11-04T01:33:34               5.37                   Apple iTunes   \n",
              "641905  2016-11-07T20:48:59             147.97  Blue Mountain Online Services   \n",
              "641906  2016-11-12T11:02:33             883.79          Fresh Online Services   \n",
              "641907  2016-11-17T06:45:58              16.31                        abc.com   \n",
              "641908  2016-11-18T19:50:45              17.10       Next Day Online Services   \n",
              "641909  2016-12-04T12:29:21               5.37                   Apple iTunes   \n",
              "641910  2016-12-09T04:20:35             223.70           Blue Mountain eCards   \n",
              "641911  2016-12-16T07:58:23             138.42                  Fresh Flowers   \n",
              "641912  2016-12-19T02:30:35              16.31                        abc.com   \n",
              "641913  2016-12-28T11:14:14              32.53       Next Day Online Services   \n",
              "\n",
              "       acqCountry merchantCountryCode posEntryMode posConditionCode  \\\n",
              "641904         US                  US           05               08   \n",
              "641905         US                  US           02               01   \n",
              "641906         US                  US           09               01   \n",
              "641907         US                  US           09               08   \n",
              "641908         US                  US           05               01   \n",
              "641909         US                  US           05               08   \n",
              "641910         US                  US           09               01   \n",
              "641911         US                  US           02               01   \n",
              "641912         US                  US           09               08   \n",
              "641913         US                  US           09               01   \n",
              "\n",
              "        merchantCategoryCode currentExpDate accountOpenDate  \\\n",
              "641904            mobileapps        01/2030      2015-11-04   \n",
              "641905          online_gifts        05/2030      2015-11-04   \n",
              "641906          online_gifts        11/2029      2015-11-04   \n",
              "641907  online_subscriptions        11/2029      2015-11-04   \n",
              "641908          online_gifts        05/2025      2015-11-04   \n",
              "641909            mobileapps        01/2030      2015-11-04   \n",
              "641910          online_gifts        05/2026      2015-11-04   \n",
              "641911          online_gifts        10/2019      2015-11-04   \n",
              "641912  online_subscriptions        11/2029      2015-11-04   \n",
              "641913          online_gifts        08/2025      2015-11-04   \n",
              "\n",
              "       dateOfLastAddressChange  cardCVV  enteredCVV  cardLast4Digits  \\\n",
              "641904              2016-06-03      127         127             5432   \n",
              "641905              2016-06-03      127         127             5432   \n",
              "641906              2016-06-03      127         127             5432   \n",
              "641907              2016-06-03      127         127             5432   \n",
              "641908              2016-06-03      127         127             5432   \n",
              "641909              2016-06-03      127         127             5432   \n",
              "641910              2016-06-03      127         127             5432   \n",
              "641911              2016-06-03      127         127             5432   \n",
              "641912              2016-06-03      127         127             5432   \n",
              "641913              2016-06-03      127         127             5432   \n",
              "\n",
              "       transactionType  isFraud echoBuffer  currentBalance merchantCity  \\\n",
              "641904        PURCHASE    False                    3880.44                \n",
              "641905        PURCHASE    False                    3885.81                \n",
              "641906        PURCHASE    False                    4033.78                \n",
              "641907        PURCHASE    False                    4917.57                \n",
              "641908        PURCHASE    False                    4933.88                \n",
              "641909        PURCHASE    False                    4925.98                \n",
              "641910        PURCHASE    False                    4931.35                \n",
              "641911        PURCHASE    False                    5155.05                \n",
              "641912        PURCHASE    False                    5293.47                \n",
              "641913        PURCHASE    False                    5309.78                \n",
              "\n",
              "       merchantState merchantZip  cardPresent posOnPremises recurringAuthInd  \\\n",
              "641904                                  False                                  \n",
              "641905                                  False                                  \n",
              "641906                                  False                                  \n",
              "641907                                  False                                  \n",
              "641908                                  False                                  \n",
              "641909                                  False                                  \n",
              "641910                                  False                                  \n",
              "641911                                  False                                  \n",
              "641912                                  False                                  \n",
              "641913                                  False                                  \n",
              "\n",
              "        expirationDateKeyInMatch  \n",
              "641904                     False  \n",
              "641905                     False  \n",
              "641906                     False  \n",
              "641907                     False  \n",
              "641908                     False  \n",
              "641909                     False  \n",
              "641910                     False  \n",
              "641911                     False  \n",
              "641912                     False  \n",
              "641913                     False  "
            ],
            "text/html": [
              "\n",
              "  <div id=\"df-59436f9e-e943-410d-987e-234915a3a050\">\n",
              "    <div class=\"colab-df-container\">\n",
              "      <div>\n",
              "<style scoped>\n",
              "    .dataframe tbody tr th:only-of-type {\n",
              "        vertical-align: middle;\n",
              "    }\n",
              "\n",
              "    .dataframe tbody tr th {\n",
              "        vertical-align: top;\n",
              "    }\n",
              "\n",
              "    .dataframe thead th {\n",
              "        text-align: right;\n",
              "    }\n",
              "</style>\n",
              "<table border=\"1\" class=\"dataframe\">\n",
              "  <thead>\n",
              "    <tr style=\"text-align: right;\">\n",
              "      <th></th>\n",
              "      <th>accountNumber</th>\n",
              "      <th>customerId</th>\n",
              "      <th>creditLimit</th>\n",
              "      <th>availableMoney</th>\n",
              "      <th>transactionDateTime</th>\n",
              "      <th>transactionAmount</th>\n",
              "      <th>merchantName</th>\n",
              "      <th>acqCountry</th>\n",
              "      <th>merchantCountryCode</th>\n",
              "      <th>posEntryMode</th>\n",
              "      <th>posConditionCode</th>\n",
              "      <th>merchantCategoryCode</th>\n",
              "      <th>currentExpDate</th>\n",
              "      <th>accountOpenDate</th>\n",
              "      <th>dateOfLastAddressChange</th>\n",
              "      <th>cardCVV</th>\n",
              "      <th>enteredCVV</th>\n",
              "      <th>cardLast4Digits</th>\n",
              "      <th>transactionType</th>\n",
              "      <th>isFraud</th>\n",
              "      <th>echoBuffer</th>\n",
              "      <th>currentBalance</th>\n",
              "      <th>merchantCity</th>\n",
              "      <th>merchantState</th>\n",
              "      <th>merchantZip</th>\n",
              "      <th>cardPresent</th>\n",
              "      <th>posOnPremises</th>\n",
              "      <th>recurringAuthInd</th>\n",
              "      <th>expirationDateKeyInMatch</th>\n",
              "    </tr>\n",
              "  </thead>\n",
              "  <tbody>\n",
              "    <tr>\n",
              "      <th>641904</th>\n",
              "      <td>186770399</td>\n",
              "      <td>186770399</td>\n",
              "      <td>7500</td>\n",
              "      <td>3619.56</td>\n",
              "      <td>2016-11-04T01:33:34</td>\n",
              "      <td>5.37</td>\n",
              "      <td>Apple iTunes</td>\n",
              "      <td>US</td>\n",
              "      <td>US</td>\n",
              "      <td>05</td>\n",
              "      <td>08</td>\n",
              "      <td>mobileapps</td>\n",
              "      <td>01/2030</td>\n",
              "      <td>2015-11-04</td>\n",
              "      <td>2016-06-03</td>\n",
              "      <td>127</td>\n",
              "      <td>127</td>\n",
              "      <td>5432</td>\n",
              "      <td>PURCHASE</td>\n",
              "      <td>False</td>\n",
              "      <td></td>\n",
              "      <td>3880.44</td>\n",
              "      <td></td>\n",
              "      <td></td>\n",
              "      <td></td>\n",
              "      <td>False</td>\n",
              "      <td></td>\n",
              "      <td></td>\n",
              "      <td>False</td>\n",
              "    </tr>\n",
              "    <tr>\n",
              "      <th>641905</th>\n",
              "      <td>186770399</td>\n",
              "      <td>186770399</td>\n",
              "      <td>7500</td>\n",
              "      <td>3614.19</td>\n",
              "      <td>2016-11-07T20:48:59</td>\n",
              "      <td>147.97</td>\n",
              "      <td>Blue Mountain Online Services</td>\n",
              "      <td>US</td>\n",
              "      <td>US</td>\n",
              "      <td>02</td>\n",
              "      <td>01</td>\n",
              "      <td>online_gifts</td>\n",
              "      <td>05/2030</td>\n",
              "      <td>2015-11-04</td>\n",
              "      <td>2016-06-03</td>\n",
              "      <td>127</td>\n",
              "      <td>127</td>\n",
              "      <td>5432</td>\n",
              "      <td>PURCHASE</td>\n",
              "      <td>False</td>\n",
              "      <td></td>\n",
              "      <td>3885.81</td>\n",
              "      <td></td>\n",
              "      <td></td>\n",
              "      <td></td>\n",
              "      <td>False</td>\n",
              "      <td></td>\n",
              "      <td></td>\n",
              "      <td>False</td>\n",
              "    </tr>\n",
              "    <tr>\n",
              "      <th>641906</th>\n",
              "      <td>186770399</td>\n",
              "      <td>186770399</td>\n",
              "      <td>7500</td>\n",
              "      <td>3466.22</td>\n",
              "      <td>2016-11-12T11:02:33</td>\n",
              "      <td>883.79</td>\n",
              "      <td>Fresh Online Services</td>\n",
              "      <td>US</td>\n",
              "      <td>US</td>\n",
              "      <td>09</td>\n",
              "      <td>01</td>\n",
              "      <td>online_gifts</td>\n",
              "      <td>11/2029</td>\n",
              "      <td>2015-11-04</td>\n",
              "      <td>2016-06-03</td>\n",
              "      <td>127</td>\n",
              "      <td>127</td>\n",
              "      <td>5432</td>\n",
              "      <td>PURCHASE</td>\n",
              "      <td>False</td>\n",
              "      <td></td>\n",
              "      <td>4033.78</td>\n",
              "      <td></td>\n",
              "      <td></td>\n",
              "      <td></td>\n",
              "      <td>False</td>\n",
              "      <td></td>\n",
              "      <td></td>\n",
              "      <td>False</td>\n",
              "    </tr>\n",
              "    <tr>\n",
              "      <th>641907</th>\n",
              "      <td>186770399</td>\n",
              "      <td>186770399</td>\n",
              "      <td>7500</td>\n",
              "      <td>2582.43</td>\n",
              "      <td>2016-11-17T06:45:58</td>\n",
              "      <td>16.31</td>\n",
              "      <td>abc.com</td>\n",
              "      <td>US</td>\n",
              "      <td>US</td>\n",
              "      <td>09</td>\n",
              "      <td>08</td>\n",
              "      <td>online_subscriptions</td>\n",
              "      <td>11/2029</td>\n",
              "      <td>2015-11-04</td>\n",
              "      <td>2016-06-03</td>\n",
              "      <td>127</td>\n",
              "      <td>127</td>\n",
              "      <td>5432</td>\n",
              "      <td>PURCHASE</td>\n",
              "      <td>False</td>\n",
              "      <td></td>\n",
              "      <td>4917.57</td>\n",
              "      <td></td>\n",
              "      <td></td>\n",
              "      <td></td>\n",
              "      <td>False</td>\n",
              "      <td></td>\n",
              "      <td></td>\n",
              "      <td>False</td>\n",
              "    </tr>\n",
              "    <tr>\n",
              "      <th>641908</th>\n",
              "      <td>186770399</td>\n",
              "      <td>186770399</td>\n",
              "      <td>7500</td>\n",
              "      <td>2566.12</td>\n",
              "      <td>2016-11-18T19:50:45</td>\n",
              "      <td>17.10</td>\n",
              "      <td>Next Day Online Services</td>\n",
              "      <td>US</td>\n",
              "      <td>US</td>\n",
              "      <td>05</td>\n",
              "      <td>01</td>\n",
              "      <td>online_gifts</td>\n",
              "      <td>05/2025</td>\n",
              "      <td>2015-11-04</td>\n",
              "      <td>2016-06-03</td>\n",
              "      <td>127</td>\n",
              "      <td>127</td>\n",
              "      <td>5432</td>\n",
              "      <td>PURCHASE</td>\n",
              "      <td>False</td>\n",
              "      <td></td>\n",
              "      <td>4933.88</td>\n",
              "      <td></td>\n",
              "      <td></td>\n",
              "      <td></td>\n",
              "      <td>False</td>\n",
              "      <td></td>\n",
              "      <td></td>\n",
              "      <td>False</td>\n",
              "    </tr>\n",
              "    <tr>\n",
              "      <th>641909</th>\n",
              "      <td>186770399</td>\n",
              "      <td>186770399</td>\n",
              "      <td>7500</td>\n",
              "      <td>2574.02</td>\n",
              "      <td>2016-12-04T12:29:21</td>\n",
              "      <td>5.37</td>\n",
              "      <td>Apple iTunes</td>\n",
              "      <td>US</td>\n",
              "      <td>US</td>\n",
              "      <td>05</td>\n",
              "      <td>08</td>\n",
              "      <td>mobileapps</td>\n",
              "      <td>01/2030</td>\n",
              "      <td>2015-11-04</td>\n",
              "      <td>2016-06-03</td>\n",
              "      <td>127</td>\n",
              "      <td>127</td>\n",
              "      <td>5432</td>\n",
              "      <td>PURCHASE</td>\n",
              "      <td>False</td>\n",
              "      <td></td>\n",
              "      <td>4925.98</td>\n",
              "      <td></td>\n",
              "      <td></td>\n",
              "      <td></td>\n",
              "      <td>False</td>\n",
              "      <td></td>\n",
              "      <td></td>\n",
              "      <td>False</td>\n",
              "    </tr>\n",
              "    <tr>\n",
              "      <th>641910</th>\n",
              "      <td>186770399</td>\n",
              "      <td>186770399</td>\n",
              "      <td>7500</td>\n",
              "      <td>2568.65</td>\n",
              "      <td>2016-12-09T04:20:35</td>\n",
              "      <td>223.70</td>\n",
              "      <td>Blue Mountain eCards</td>\n",
              "      <td>US</td>\n",
              "      <td>US</td>\n",
              "      <td>09</td>\n",
              "      <td>01</td>\n",
              "      <td>online_gifts</td>\n",
              "      <td>05/2026</td>\n",
              "      <td>2015-11-04</td>\n",
              "      <td>2016-06-03</td>\n",
              "      <td>127</td>\n",
              "      <td>127</td>\n",
              "      <td>5432</td>\n",
              "      <td>PURCHASE</td>\n",
              "      <td>False</td>\n",
              "      <td></td>\n",
              "      <td>4931.35</td>\n",
              "      <td></td>\n",
              "      <td></td>\n",
              "      <td></td>\n",
              "      <td>False</td>\n",
              "      <td></td>\n",
              "      <td></td>\n",
              "      <td>False</td>\n",
              "    </tr>\n",
              "    <tr>\n",
              "      <th>641911</th>\n",
              "      <td>186770399</td>\n",
              "      <td>186770399</td>\n",
              "      <td>7500</td>\n",
              "      <td>2344.95</td>\n",
              "      <td>2016-12-16T07:58:23</td>\n",
              "      <td>138.42</td>\n",
              "      <td>Fresh Flowers</td>\n",
              "      <td>US</td>\n",
              "      <td>US</td>\n",
              "      <td>02</td>\n",
              "      <td>01</td>\n",
              "      <td>online_gifts</td>\n",
              "      <td>10/2019</td>\n",
              "      <td>2015-11-04</td>\n",
              "      <td>2016-06-03</td>\n",
              "      <td>127</td>\n",
              "      <td>127</td>\n",
              "      <td>5432</td>\n",
              "      <td>PURCHASE</td>\n",
              "      <td>False</td>\n",
              "      <td></td>\n",
              "      <td>5155.05</td>\n",
              "      <td></td>\n",
              "      <td></td>\n",
              "      <td></td>\n",
              "      <td>False</td>\n",
              "      <td></td>\n",
              "      <td></td>\n",
              "      <td>False</td>\n",
              "    </tr>\n",
              "    <tr>\n",
              "      <th>641912</th>\n",
              "      <td>186770399</td>\n",
              "      <td>186770399</td>\n",
              "      <td>7500</td>\n",
              "      <td>2206.53</td>\n",
              "      <td>2016-12-19T02:30:35</td>\n",
              "      <td>16.31</td>\n",
              "      <td>abc.com</td>\n",
              "      <td>US</td>\n",
              "      <td>US</td>\n",
              "      <td>09</td>\n",
              "      <td>08</td>\n",
              "      <td>online_subscriptions</td>\n",
              "      <td>11/2029</td>\n",
              "      <td>2015-11-04</td>\n",
              "      <td>2016-06-03</td>\n",
              "      <td>127</td>\n",
              "      <td>127</td>\n",
              "      <td>5432</td>\n",
              "      <td>PURCHASE</td>\n",
              "      <td>False</td>\n",
              "      <td></td>\n",
              "      <td>5293.47</td>\n",
              "      <td></td>\n",
              "      <td></td>\n",
              "      <td></td>\n",
              "      <td>False</td>\n",
              "      <td></td>\n",
              "      <td></td>\n",
              "      <td>False</td>\n",
              "    </tr>\n",
              "    <tr>\n",
              "      <th>641913</th>\n",
              "      <td>186770399</td>\n",
              "      <td>186770399</td>\n",
              "      <td>7500</td>\n",
              "      <td>2190.22</td>\n",
              "      <td>2016-12-28T11:14:14</td>\n",
              "      <td>32.53</td>\n",
              "      <td>Next Day Online Services</td>\n",
              "      <td>US</td>\n",
              "      <td>US</td>\n",
              "      <td>09</td>\n",
              "      <td>01</td>\n",
              "      <td>online_gifts</td>\n",
              "      <td>08/2025</td>\n",
              "      <td>2015-11-04</td>\n",
              "      <td>2016-06-03</td>\n",
              "      <td>127</td>\n",
              "      <td>127</td>\n",
              "      <td>5432</td>\n",
              "      <td>PURCHASE</td>\n",
              "      <td>False</td>\n",
              "      <td></td>\n",
              "      <td>5309.78</td>\n",
              "      <td></td>\n",
              "      <td></td>\n",
              "      <td></td>\n",
              "      <td>False</td>\n",
              "      <td></td>\n",
              "      <td></td>\n",
              "      <td>False</td>\n",
              "    </tr>\n",
              "  </tbody>\n",
              "</table>\n",
              "</div>\n",
              "      <button class=\"colab-df-convert\" onclick=\"convertToInteractive('df-59436f9e-e943-410d-987e-234915a3a050')\"\n",
              "              title=\"Convert this dataframe to an interactive table.\"\n",
              "              style=\"display:none;\">\n",
              "        \n",
              "  <svg xmlns=\"http://www.w3.org/2000/svg\" height=\"24px\"viewBox=\"0 0 24 24\"\n",
              "       width=\"24px\">\n",
              "    <path d=\"M0 0h24v24H0V0z\" fill=\"none\"/>\n",
              "    <path d=\"M18.56 5.44l.94 2.06.94-2.06 2.06-.94-2.06-.94-.94-2.06-.94 2.06-2.06.94zm-11 1L8.5 8.5l.94-2.06 2.06-.94-2.06-.94L8.5 2.5l-.94 2.06-2.06.94zm10 10l.94 2.06.94-2.06 2.06-.94-2.06-.94-.94-2.06-.94 2.06-2.06.94z\"/><path d=\"M17.41 7.96l-1.37-1.37c-.4-.4-.92-.59-1.43-.59-.52 0-1.04.2-1.43.59L10.3 9.45l-7.72 7.72c-.78.78-.78 2.05 0 2.83L4 21.41c.39.39.9.59 1.41.59.51 0 1.02-.2 1.41-.59l7.78-7.78 2.81-2.81c.8-.78.8-2.07 0-2.86zM5.41 20L4 18.59l7.72-7.72 1.47 1.35L5.41 20z\"/>\n",
              "  </svg>\n",
              "      </button>\n",
              "      \n",
              "  <style>\n",
              "    .colab-df-container {\n",
              "      display:flex;\n",
              "      flex-wrap:wrap;\n",
              "      gap: 12px;\n",
              "    }\n",
              "\n",
              "    .colab-df-convert {\n",
              "      background-color: #E8F0FE;\n",
              "      border: none;\n",
              "      border-radius: 50%;\n",
              "      cursor: pointer;\n",
              "      display: none;\n",
              "      fill: #1967D2;\n",
              "      height: 32px;\n",
              "      padding: 0 0 0 0;\n",
              "      width: 32px;\n",
              "    }\n",
              "\n",
              "    .colab-df-convert:hover {\n",
              "      background-color: #E2EBFA;\n",
              "      box-shadow: 0px 1px 2px rgba(60, 64, 67, 0.3), 0px 1px 3px 1px rgba(60, 64, 67, 0.15);\n",
              "      fill: #174EA6;\n",
              "    }\n",
              "\n",
              "    [theme=dark] .colab-df-convert {\n",
              "      background-color: #3B4455;\n",
              "      fill: #D2E3FC;\n",
              "    }\n",
              "\n",
              "    [theme=dark] .colab-df-convert:hover {\n",
              "      background-color: #434B5C;\n",
              "      box-shadow: 0px 1px 3px 1px rgba(0, 0, 0, 0.15);\n",
              "      filter: drop-shadow(0px 1px 2px rgba(0, 0, 0, 0.3));\n",
              "      fill: #FFFFFF;\n",
              "    }\n",
              "  </style>\n",
              "\n",
              "      <script>\n",
              "        const buttonEl =\n",
              "          document.querySelector('#df-59436f9e-e943-410d-987e-234915a3a050 button.colab-df-convert');\n",
              "        buttonEl.style.display =\n",
              "          google.colab.kernel.accessAllowed ? 'block' : 'none';\n",
              "\n",
              "        async function convertToInteractive(key) {\n",
              "          const element = document.querySelector('#df-59436f9e-e943-410d-987e-234915a3a050');\n",
              "          const dataTable =\n",
              "            await google.colab.kernel.invokeFunction('convertToInteractive',\n",
              "                                                     [key], {});\n",
              "          if (!dataTable) return;\n",
              "\n",
              "          const docLinkHtml = 'Like what you see? Visit the ' +\n",
              "            '<a target=\"_blank\" href=https://colab.research.google.com/notebooks/data_table.ipynb>data table notebook</a>'\n",
              "            + ' to learn more about interactive tables.';\n",
              "          element.innerHTML = '';\n",
              "          dataTable['output_type'] = 'display_data';\n",
              "          await google.colab.output.renderOutput(dataTable, element);\n",
              "          const docLink = document.createElement('div');\n",
              "          docLink.innerHTML = docLinkHtml;\n",
              "          element.appendChild(docLink);\n",
              "        }\n",
              "      </script>\n",
              "    </div>\n",
              "  </div>\n",
              "  "
            ]
          },
          "metadata": {},
          "execution_count": 120
        }
      ],
      "source": [
        "#menampilkan 10 baris paling akhir dari dataset\n",
        "df.tail(10)"
      ]
    },
    {
      "cell_type": "code",
      "execution_count": null,
      "metadata": {
        "colab": {
          "base_uri": "https://localhost:8080/"
        },
        "id": "f0xsZZA4QcUW",
        "outputId": "300228bf-f4c6-4169-ac41-5810b97dce49"
      },
      "outputs": [
        {
          "output_type": "execute_result",
          "data": {
            "text/plain": [
              "(641914, 29)"
            ]
          },
          "metadata": {},
          "execution_count": 121
        }
      ],
      "source": [
        "# menampilkan jumlah baris dan kolom dari dataset\n",
        "df.shape"
      ]
    },
    {
      "cell_type": "code",
      "execution_count": null,
      "metadata": {
        "colab": {
          "base_uri": "https://localhost:8080/"
        },
        "id": "qnExJInlUrK2",
        "outputId": "83aa64f2-f18f-4e18-a454-70f38fdc72a7"
      },
      "outputs": [
        {
          "output_type": "execute_result",
          "data": {
            "text/plain": [
              "Index(['accountNumber', 'customerId', 'creditLimit', 'availableMoney',\n",
              "       'transactionDateTime', 'transactionAmount', 'merchantName',\n",
              "       'acqCountry', 'merchantCountryCode', 'posEntryMode', 'posConditionCode',\n",
              "       'merchantCategoryCode', 'currentExpDate', 'accountOpenDate',\n",
              "       'dateOfLastAddressChange', 'cardCVV', 'enteredCVV', 'cardLast4Digits',\n",
              "       'transactionType', 'isFraud', 'echoBuffer', 'currentBalance',\n",
              "       'merchantCity', 'merchantState', 'merchantZip', 'cardPresent',\n",
              "       'posOnPremises', 'recurringAuthInd', 'expirationDateKeyInMatch'],\n",
              "      dtype='object')"
            ]
          },
          "metadata": {},
          "execution_count": 122
        }
      ],
      "source": [
        "#menampilkan kolom dari dataset\n",
        "df.columns"
      ]
    },
    {
      "cell_type": "code",
      "execution_count": null,
      "metadata": {
        "colab": {
          "base_uri": "https://localhost:8080/"
        },
        "id": "-ZKoXk7rJwyB",
        "outputId": "bf702ae9-3200-4aa2-ee60-75d4f7b9b09e"
      },
      "outputs": [
        {
          "output_type": "stream",
          "name": "stdout",
          "text": [
            "<class 'pandas.core.frame.DataFrame'>\n",
            "RangeIndex: 641914 entries, 0 to 641913\n",
            "Data columns (total 29 columns):\n",
            " #   Column                    Non-Null Count   Dtype  \n",
            "---  ------                    --------------   -----  \n",
            " 0   accountNumber             641914 non-null  int64  \n",
            " 1   customerId                641914 non-null  int64  \n",
            " 2   creditLimit               641914 non-null  int64  \n",
            " 3   availableMoney            641914 non-null  float64\n",
            " 4   transactionDateTime       641914 non-null  object \n",
            " 5   transactionAmount         641914 non-null  float64\n",
            " 6   merchantName              641914 non-null  object \n",
            " 7   acqCountry                641914 non-null  object \n",
            " 8   merchantCountryCode       641914 non-null  object \n",
            " 9   posEntryMode              641914 non-null  object \n",
            " 10  posConditionCode          641914 non-null  object \n",
            " 11  merchantCategoryCode      641914 non-null  object \n",
            " 12  currentExpDate            641914 non-null  object \n",
            " 13  accountOpenDate           641914 non-null  object \n",
            " 14  dateOfLastAddressChange   641914 non-null  object \n",
            " 15  cardCVV                   641914 non-null  int64  \n",
            " 16  enteredCVV                641914 non-null  int64  \n",
            " 17  cardLast4Digits           641914 non-null  int64  \n",
            " 18  transactionType           641914 non-null  object \n",
            " 19  isFraud                   641914 non-null  bool   \n",
            " 20  echoBuffer                641914 non-null  object \n",
            " 21  currentBalance            641914 non-null  float64\n",
            " 22  merchantCity              641914 non-null  object \n",
            " 23  merchantState             641914 non-null  object \n",
            " 24  merchantZip               641914 non-null  object \n",
            " 25  cardPresent               641914 non-null  bool   \n",
            " 26  posOnPremises             641914 non-null  object \n",
            " 27  recurringAuthInd          641914 non-null  object \n",
            " 28  expirationDateKeyInMatch  641914 non-null  bool   \n",
            "dtypes: bool(3), float64(3), int64(6), object(17)\n",
            "memory usage: 129.2+ MB\n"
          ]
        }
      ],
      "source": [
        "# menampilkan informasi dari dataset serta tipe data dari setiap kolom\n",
        "df.info()"
      ]
    },
    {
      "cell_type": "code",
      "execution_count": null,
      "metadata": {
        "colab": {
          "base_uri": "https://localhost:8080/"
        },
        "id": "fyC_xabbVZgr",
        "outputId": "29a88fe4-efa5-480d-d41a-460220560c18"
      },
      "outputs": [
        {
          "output_type": "execute_result",
          "data": {
            "text/plain": [
              "object     17\n",
              "int64       6\n",
              "float64     3\n",
              "bool        3\n",
              "dtype: int64"
            ]
          },
          "metadata": {},
          "execution_count": 124
        }
      ],
      "source": [
        "#menghitung jumlah tipe data\n",
        "df.dtypes.value_counts()"
      ]
    },
    {
      "cell_type": "code",
      "execution_count": null,
      "metadata": {
        "colab": {
          "base_uri": "https://localhost:8080/"
        },
        "id": "IlpbcbIB7CIH",
        "outputId": "4dda124f-b11b-4b1c-a1f1-1740008467e4"
      },
      "outputs": [
        {
          "output_type": "execute_result",
          "data": {
            "text/plain": [
              "accountNumber                 5000\n",
              "customerId                    5000\n",
              "creditLimit                     10\n",
              "availableMoney              450690\n",
              "transactionDateTime         635472\n",
              "transactionAmount            62735\n",
              "merchantName                  2493\n",
              "acqCountry                       5\n",
              "merchantCountryCode              5\n",
              "posEntryMode                     6\n",
              "posConditionCode                 4\n",
              "merchantCategoryCode            19\n",
              "currentExpDate                 165\n",
              "accountOpenDate               1826\n",
              "dateOfLastAddressChange       2186\n",
              "cardCVV                        899\n",
              "enteredCVV                     980\n",
              "cardLast4Digits               5134\n",
              "transactionType                  4\n",
              "isFraud                          2\n",
              "echoBuffer                       1\n",
              "currentBalance              406990\n",
              "merchantCity                     1\n",
              "merchantState                    1\n",
              "merchantZip                      1\n",
              "cardPresent                      2\n",
              "posOnPremises                    1\n",
              "recurringAuthInd                 1\n",
              "expirationDateKeyInMatch         2\n",
              "dtype: int64"
            ]
          },
          "metadata": {},
          "execution_count": 125
        }
      ],
      "source": [
        "# menghitung jumlah value yang unik dari setiap kolom\n",
        "df.nunique()"
      ]
    },
    {
      "cell_type": "code",
      "source": [
        "# # melakukan cek data kesamaan data\n",
        "df['accountNumber'].equals(df['customerId'])"
      ],
      "metadata": {
        "colab": {
          "base_uri": "https://localhost:8080/"
        },
        "id": "prID5OoFRdD2",
        "outputId": "60fc594a-a3ab-4a40-94e2-42cec3ee7a17"
      },
      "execution_count": null,
      "outputs": [
        {
          "output_type": "execute_result",
          "data": {
            "text/plain": [
              "True"
            ]
          },
          "metadata": {},
          "execution_count": 126
        }
      ]
    },
    {
      "cell_type": "code",
      "source": [
        "# melakukan cek data kesamaan data\n",
        "df['enteredCVV'].equals(df['cardCVV'])"
      ],
      "metadata": {
        "colab": {
          "base_uri": "https://localhost:8080/"
        },
        "id": "NZcLeWZIrK-k",
        "outputId": "ae56e96e-fa36-453c-9799-fd91821a260b"
      },
      "execution_count": null,
      "outputs": [
        {
          "output_type": "execute_result",
          "data": {
            "text/plain": [
              "False"
            ]
          },
          "metadata": {},
          "execution_count": 127
        }
      ]
    },
    {
      "cell_type": "markdown",
      "source": [
        "# **data preprocesing**"
      ],
      "metadata": {
        "id": "KyULx642Z3tw"
      }
    },
    {
      "cell_type": "markdown",
      "source": [
        "**DATA MANIPULATION 1**\n",
        "\n",
        "*   meencari value dari kolom enterCVV dan CVV dengan membuat kolom baru berisi kesesuaian antar kedua kolom tersebut\n",
        "*   menghapus kolom yang kosong dan yang tidak relevan dengan pertanyaan dari soal\n",
        "*   melihat tipe data dari setiap kolom dan merubahnya kedalam tipe data yang seharusnya\n",
        "\n"
      ],
      "metadata": {
        "id": "i49y3JaBj9bQ"
      }
    },
    {
      "cell_type": "code",
      "source": [
        "# membuat kolom baru untuk menampung nilai dari  entered cvv equals cvv\n",
        "CVV_Valid = []\n",
        "\n",
        "for index, row in df.iterrows() :\n",
        "  if  df.loc[index,'enteredCVV'] == df.loc[index,'cardCVV'] :\n",
        "    CVV_Valid.append(1)\n",
        "  else :\n",
        "   CVV_Valid.append(0)\n",
        "\n",
        "df=df.assign(CVV_Valid=CVV_Valid)"
      ],
      "metadata": {
        "id": "OmQ1C74Ku3IZ"
      },
      "execution_count": null,
      "outputs": []
    },
    {
      "cell_type": "code",
      "source": [
        "# mengahpus data yang duplikat\n",
        "df.drop_duplicates(inplace=True)"
      ],
      "metadata": {
        "id": "-r85TqNvu7--"
      },
      "execution_count": null,
      "outputs": []
    },
    {
      "cell_type": "code",
      "source": [
        "df.columns"
      ],
      "metadata": {
        "id": "xohDt9Plvh4o",
        "colab": {
          "base_uri": "https://localhost:8080/"
        },
        "outputId": "d7cb8319-c0f8-4c9d-d937-6cb4bc17da3d"
      },
      "execution_count": null,
      "outputs": [
        {
          "output_type": "execute_result",
          "data": {
            "text/plain": [
              "Index(['accountNumber', 'customerId', 'creditLimit', 'availableMoney',\n",
              "       'transactionDateTime', 'transactionAmount', 'merchantName',\n",
              "       'acqCountry', 'merchantCountryCode', 'posEntryMode', 'posConditionCode',\n",
              "       'merchantCategoryCode', 'currentExpDate', 'accountOpenDate',\n",
              "       'dateOfLastAddressChange', 'cardCVV', 'enteredCVV', 'cardLast4Digits',\n",
              "       'transactionType', 'isFraud', 'echoBuffer', 'currentBalance',\n",
              "       'merchantCity', 'merchantState', 'merchantZip', 'cardPresent',\n",
              "       'posOnPremises', 'recurringAuthInd', 'expirationDateKeyInMatch',\n",
              "       'CVV_Valid'],\n",
              "      dtype='object')"
            ]
          },
          "metadata": {},
          "execution_count": 130
        }
      ]
    },
    {
      "cell_type": "code",
      "execution_count": null,
      "metadata": {
        "id": "K7pgoFiwLs26"
      },
      "outputs": [],
      "source": [
        "# menghapus kolom\n",
        "df=df.drop(['echoBuffer', 'posOnPremises', 'recurringAuthInd', 'merchantCity', 'merchantState', 'merchantZip', 'customerId','accountNumber','cardCVV','enteredCVV','cardLast4Digits'], axis=1)\n",
        "# df=df.drop(['echoBuffer', 'posOnPremises', 'recurringAuthInd', 'merchantCity', 'merchantState', 'merchantZip', 'customerId','cardCVV','enteredCVV','cardLast4Digits'], axis=1)"
      ]
    },
    {
      "cell_type": "code",
      "execution_count": null,
      "metadata": {
        "id": "elnuFqYRNhMK",
        "colab": {
          "base_uri": "https://localhost:8080/"
        },
        "outputId": "27ae2f9b-8c66-4656-e3a2-03c78883cb50"
      },
      "outputs": [
        {
          "output_type": "execute_result",
          "data": {
            "text/plain": [
              "creditLimit                   int64\n",
              "availableMoney              float64\n",
              "transactionDateTime          object\n",
              "transactionAmount           float64\n",
              "merchantName                 object\n",
              "acqCountry                   object\n",
              "merchantCountryCode          object\n",
              "posEntryMode                 object\n",
              "posConditionCode             object\n",
              "merchantCategoryCode         object\n",
              "currentExpDate               object\n",
              "accountOpenDate              object\n",
              "dateOfLastAddressChange      object\n",
              "transactionType              object\n",
              "isFraud                        bool\n",
              "currentBalance              float64\n",
              "cardPresent                    bool\n",
              "expirationDateKeyInMatch       bool\n",
              "CVV_Valid                     int64\n",
              "dtype: object"
            ]
          },
          "metadata": {},
          "execution_count": 132
        }
      ],
      "source": [
        "# melihat tipe data dari setiap kolom\n",
        "df.dtypes"
      ]
    },
    {
      "cell_type": "code",
      "execution_count": null,
      "metadata": {
        "id": "LwxpJ1UZOJOs",
        "colab": {
          "base_uri": "https://localhost:8080/",
          "height": 531
        },
        "outputId": "8c633156-073b-4b38-ef46-7bd28b625c13"
      },
      "outputs": [
        {
          "output_type": "execute_result",
          "data": {
            "text/plain": [
              "   creditLimit  availableMoney  transactionDateTime  transactionAmount  \\\n",
              "0         5000         5000.00  2016-01-08T19:04:50             111.33   \n",
              "1         5000         4888.67  2016-01-09T22:32:39              24.75   \n",
              "2         5000         4863.92  2016-01-11T13:36:55             187.40   \n",
              "3         5000         4676.52  2016-01-11T22:47:46             227.34   \n",
              "4         5000         4449.18  2016-01-16T01:41:11               0.00   \n",
              "5         5000         4449.18  2016-01-16T21:35:27               9.80   \n",
              "6         5000         4439.38  2016-01-24T07:54:01             247.99   \n",
              "7         5000         4191.39  2016-01-26T05:28:24               0.00   \n",
              "8         5000         4191.39  2016-01-26T12:18:14              11.54   \n",
              "9         5000         4179.85  2016-01-26T12:19:15              11.54   \n",
              "\n",
              "              merchantName acqCountry merchantCountryCode posEntryMode  \\\n",
              "0                     Lyft         US                  US           05   \n",
              "1                     Uber         US                  US           09   \n",
              "2                     Lyft         US                  US           05   \n",
              "3                     Lyft         US                  US           02   \n",
              "4                     Lyft         US                  US           02   \n",
              "5             Fresh eCards         US                  US           05   \n",
              "6                     Uber                             US           05   \n",
              "7  Universe Massage #95463         US                  US           05   \n",
              "8  Universe Massage #70014         US                  US           05   \n",
              "9  Universe Massage #70014         US                  US           05   \n",
              "\n",
              "  posConditionCode merchantCategoryCode currentExpDate accountOpenDate  \\\n",
              "0               01            rideshare        04/2020      2014-08-03   \n",
              "1               01            rideshare        06/2023      2014-08-03   \n",
              "2               01            rideshare        12/2027      2014-08-03   \n",
              "3               01            rideshare        09/2029      2014-08-03   \n",
              "4               01            rideshare        10/2024      2014-08-03   \n",
              "5               01         online_gifts        02/2021      2014-08-03   \n",
              "6               01            rideshare        01/2026      2014-08-03   \n",
              "7               01        personal care        12/2031      2014-08-03   \n",
              "8               01        personal care        04/2024      2014-08-03   \n",
              "9               01        personal care        04/2024      2014-08-03   \n",
              "\n",
              "  dateOfLastAddressChange       transactionType  isFraud  currentBalance  \\\n",
              "0              2014-08-03              PURCHASE     True            0.00   \n",
              "1              2014-08-03              PURCHASE    False          111.33   \n",
              "2              2014-08-03              PURCHASE    False          136.08   \n",
              "3              2014-08-03              PURCHASE     True          323.48   \n",
              "4              2014-08-03  ADDRESS_VERIFICATION    False          550.82   \n",
              "5              2014-08-03              PURCHASE    False          550.82   \n",
              "6              2014-08-03              PURCHASE    False          560.62   \n",
              "7              2014-08-03  ADDRESS_VERIFICATION    False          808.61   \n",
              "8              2014-08-03              PURCHASE    False          808.61   \n",
              "9              2014-08-03              REVERSAL    False          820.15   \n",
              "\n",
              "   cardPresent  expirationDateKeyInMatch  CVV_Valid  \n",
              "0        False                     False          1  \n",
              "1        False                     False          1  \n",
              "2        False                     False          1  \n",
              "3        False                     False          1  \n",
              "4        False                     False          1  \n",
              "5        False                     False          1  \n",
              "6        False                     False          1  \n",
              "7        False                     False          1  \n",
              "8         True                     False          1  \n",
              "9         True                     False          1  "
            ],
            "text/html": [
              "\n",
              "  <div id=\"df-dd1f669c-8e02-4ece-9f8d-b88f22185a8c\">\n",
              "    <div class=\"colab-df-container\">\n",
              "      <div>\n",
              "<style scoped>\n",
              "    .dataframe tbody tr th:only-of-type {\n",
              "        vertical-align: middle;\n",
              "    }\n",
              "\n",
              "    .dataframe tbody tr th {\n",
              "        vertical-align: top;\n",
              "    }\n",
              "\n",
              "    .dataframe thead th {\n",
              "        text-align: right;\n",
              "    }\n",
              "</style>\n",
              "<table border=\"1\" class=\"dataframe\">\n",
              "  <thead>\n",
              "    <tr style=\"text-align: right;\">\n",
              "      <th></th>\n",
              "      <th>creditLimit</th>\n",
              "      <th>availableMoney</th>\n",
              "      <th>transactionDateTime</th>\n",
              "      <th>transactionAmount</th>\n",
              "      <th>merchantName</th>\n",
              "      <th>acqCountry</th>\n",
              "      <th>merchantCountryCode</th>\n",
              "      <th>posEntryMode</th>\n",
              "      <th>posConditionCode</th>\n",
              "      <th>merchantCategoryCode</th>\n",
              "      <th>currentExpDate</th>\n",
              "      <th>accountOpenDate</th>\n",
              "      <th>dateOfLastAddressChange</th>\n",
              "      <th>transactionType</th>\n",
              "      <th>isFraud</th>\n",
              "      <th>currentBalance</th>\n",
              "      <th>cardPresent</th>\n",
              "      <th>expirationDateKeyInMatch</th>\n",
              "      <th>CVV_Valid</th>\n",
              "    </tr>\n",
              "  </thead>\n",
              "  <tbody>\n",
              "    <tr>\n",
              "      <th>0</th>\n",
              "      <td>5000</td>\n",
              "      <td>5000.00</td>\n",
              "      <td>2016-01-08T19:04:50</td>\n",
              "      <td>111.33</td>\n",
              "      <td>Lyft</td>\n",
              "      <td>US</td>\n",
              "      <td>US</td>\n",
              "      <td>05</td>\n",
              "      <td>01</td>\n",
              "      <td>rideshare</td>\n",
              "      <td>04/2020</td>\n",
              "      <td>2014-08-03</td>\n",
              "      <td>2014-08-03</td>\n",
              "      <td>PURCHASE</td>\n",
              "      <td>True</td>\n",
              "      <td>0.00</td>\n",
              "      <td>False</td>\n",
              "      <td>False</td>\n",
              "      <td>1</td>\n",
              "    </tr>\n",
              "    <tr>\n",
              "      <th>1</th>\n",
              "      <td>5000</td>\n",
              "      <td>4888.67</td>\n",
              "      <td>2016-01-09T22:32:39</td>\n",
              "      <td>24.75</td>\n",
              "      <td>Uber</td>\n",
              "      <td>US</td>\n",
              "      <td>US</td>\n",
              "      <td>09</td>\n",
              "      <td>01</td>\n",
              "      <td>rideshare</td>\n",
              "      <td>06/2023</td>\n",
              "      <td>2014-08-03</td>\n",
              "      <td>2014-08-03</td>\n",
              "      <td>PURCHASE</td>\n",
              "      <td>False</td>\n",
              "      <td>111.33</td>\n",
              "      <td>False</td>\n",
              "      <td>False</td>\n",
              "      <td>1</td>\n",
              "    </tr>\n",
              "    <tr>\n",
              "      <th>2</th>\n",
              "      <td>5000</td>\n",
              "      <td>4863.92</td>\n",
              "      <td>2016-01-11T13:36:55</td>\n",
              "      <td>187.40</td>\n",
              "      <td>Lyft</td>\n",
              "      <td>US</td>\n",
              "      <td>US</td>\n",
              "      <td>05</td>\n",
              "      <td>01</td>\n",
              "      <td>rideshare</td>\n",
              "      <td>12/2027</td>\n",
              "      <td>2014-08-03</td>\n",
              "      <td>2014-08-03</td>\n",
              "      <td>PURCHASE</td>\n",
              "      <td>False</td>\n",
              "      <td>136.08</td>\n",
              "      <td>False</td>\n",
              "      <td>False</td>\n",
              "      <td>1</td>\n",
              "    </tr>\n",
              "    <tr>\n",
              "      <th>3</th>\n",
              "      <td>5000</td>\n",
              "      <td>4676.52</td>\n",
              "      <td>2016-01-11T22:47:46</td>\n",
              "      <td>227.34</td>\n",
              "      <td>Lyft</td>\n",
              "      <td>US</td>\n",
              "      <td>US</td>\n",
              "      <td>02</td>\n",
              "      <td>01</td>\n",
              "      <td>rideshare</td>\n",
              "      <td>09/2029</td>\n",
              "      <td>2014-08-03</td>\n",
              "      <td>2014-08-03</td>\n",
              "      <td>PURCHASE</td>\n",
              "      <td>True</td>\n",
              "      <td>323.48</td>\n",
              "      <td>False</td>\n",
              "      <td>False</td>\n",
              "      <td>1</td>\n",
              "    </tr>\n",
              "    <tr>\n",
              "      <th>4</th>\n",
              "      <td>5000</td>\n",
              "      <td>4449.18</td>\n",
              "      <td>2016-01-16T01:41:11</td>\n",
              "      <td>0.00</td>\n",
              "      <td>Lyft</td>\n",
              "      <td>US</td>\n",
              "      <td>US</td>\n",
              "      <td>02</td>\n",
              "      <td>01</td>\n",
              "      <td>rideshare</td>\n",
              "      <td>10/2024</td>\n",
              "      <td>2014-08-03</td>\n",
              "      <td>2014-08-03</td>\n",
              "      <td>ADDRESS_VERIFICATION</td>\n",
              "      <td>False</td>\n",
              "      <td>550.82</td>\n",
              "      <td>False</td>\n",
              "      <td>False</td>\n",
              "      <td>1</td>\n",
              "    </tr>\n",
              "    <tr>\n",
              "      <th>5</th>\n",
              "      <td>5000</td>\n",
              "      <td>4449.18</td>\n",
              "      <td>2016-01-16T21:35:27</td>\n",
              "      <td>9.80</td>\n",
              "      <td>Fresh eCards</td>\n",
              "      <td>US</td>\n",
              "      <td>US</td>\n",
              "      <td>05</td>\n",
              "      <td>01</td>\n",
              "      <td>online_gifts</td>\n",
              "      <td>02/2021</td>\n",
              "      <td>2014-08-03</td>\n",
              "      <td>2014-08-03</td>\n",
              "      <td>PURCHASE</td>\n",
              "      <td>False</td>\n",
              "      <td>550.82</td>\n",
              "      <td>False</td>\n",
              "      <td>False</td>\n",
              "      <td>1</td>\n",
              "    </tr>\n",
              "    <tr>\n",
              "      <th>6</th>\n",
              "      <td>5000</td>\n",
              "      <td>4439.38</td>\n",
              "      <td>2016-01-24T07:54:01</td>\n",
              "      <td>247.99</td>\n",
              "      <td>Uber</td>\n",
              "      <td></td>\n",
              "      <td>US</td>\n",
              "      <td>05</td>\n",
              "      <td>01</td>\n",
              "      <td>rideshare</td>\n",
              "      <td>01/2026</td>\n",
              "      <td>2014-08-03</td>\n",
              "      <td>2014-08-03</td>\n",
              "      <td>PURCHASE</td>\n",
              "      <td>False</td>\n",
              "      <td>560.62</td>\n",
              "      <td>False</td>\n",
              "      <td>False</td>\n",
              "      <td>1</td>\n",
              "    </tr>\n",
              "    <tr>\n",
              "      <th>7</th>\n",
              "      <td>5000</td>\n",
              "      <td>4191.39</td>\n",
              "      <td>2016-01-26T05:28:24</td>\n",
              "      <td>0.00</td>\n",
              "      <td>Universe Massage #95463</td>\n",
              "      <td>US</td>\n",
              "      <td>US</td>\n",
              "      <td>05</td>\n",
              "      <td>01</td>\n",
              "      <td>personal care</td>\n",
              "      <td>12/2031</td>\n",
              "      <td>2014-08-03</td>\n",
              "      <td>2014-08-03</td>\n",
              "      <td>ADDRESS_VERIFICATION</td>\n",
              "      <td>False</td>\n",
              "      <td>808.61</td>\n",
              "      <td>False</td>\n",
              "      <td>False</td>\n",
              "      <td>1</td>\n",
              "    </tr>\n",
              "    <tr>\n",
              "      <th>8</th>\n",
              "      <td>5000</td>\n",
              "      <td>4191.39</td>\n",
              "      <td>2016-01-26T12:18:14</td>\n",
              "      <td>11.54</td>\n",
              "      <td>Universe Massage #70014</td>\n",
              "      <td>US</td>\n",
              "      <td>US</td>\n",
              "      <td>05</td>\n",
              "      <td>01</td>\n",
              "      <td>personal care</td>\n",
              "      <td>04/2024</td>\n",
              "      <td>2014-08-03</td>\n",
              "      <td>2014-08-03</td>\n",
              "      <td>PURCHASE</td>\n",
              "      <td>False</td>\n",
              "      <td>808.61</td>\n",
              "      <td>True</td>\n",
              "      <td>False</td>\n",
              "      <td>1</td>\n",
              "    </tr>\n",
              "    <tr>\n",
              "      <th>9</th>\n",
              "      <td>5000</td>\n",
              "      <td>4179.85</td>\n",
              "      <td>2016-01-26T12:19:15</td>\n",
              "      <td>11.54</td>\n",
              "      <td>Universe Massage #70014</td>\n",
              "      <td>US</td>\n",
              "      <td>US</td>\n",
              "      <td>05</td>\n",
              "      <td>01</td>\n",
              "      <td>personal care</td>\n",
              "      <td>04/2024</td>\n",
              "      <td>2014-08-03</td>\n",
              "      <td>2014-08-03</td>\n",
              "      <td>REVERSAL</td>\n",
              "      <td>False</td>\n",
              "      <td>820.15</td>\n",
              "      <td>True</td>\n",
              "      <td>False</td>\n",
              "      <td>1</td>\n",
              "    </tr>\n",
              "  </tbody>\n",
              "</table>\n",
              "</div>\n",
              "      <button class=\"colab-df-convert\" onclick=\"convertToInteractive('df-dd1f669c-8e02-4ece-9f8d-b88f22185a8c')\"\n",
              "              title=\"Convert this dataframe to an interactive table.\"\n",
              "              style=\"display:none;\">\n",
              "        \n",
              "  <svg xmlns=\"http://www.w3.org/2000/svg\" height=\"24px\"viewBox=\"0 0 24 24\"\n",
              "       width=\"24px\">\n",
              "    <path d=\"M0 0h24v24H0V0z\" fill=\"none\"/>\n",
              "    <path d=\"M18.56 5.44l.94 2.06.94-2.06 2.06-.94-2.06-.94-.94-2.06-.94 2.06-2.06.94zm-11 1L8.5 8.5l.94-2.06 2.06-.94-2.06-.94L8.5 2.5l-.94 2.06-2.06.94zm10 10l.94 2.06.94-2.06 2.06-.94-2.06-.94-.94-2.06-.94 2.06-2.06.94z\"/><path d=\"M17.41 7.96l-1.37-1.37c-.4-.4-.92-.59-1.43-.59-.52 0-1.04.2-1.43.59L10.3 9.45l-7.72 7.72c-.78.78-.78 2.05 0 2.83L4 21.41c.39.39.9.59 1.41.59.51 0 1.02-.2 1.41-.59l7.78-7.78 2.81-2.81c.8-.78.8-2.07 0-2.86zM5.41 20L4 18.59l7.72-7.72 1.47 1.35L5.41 20z\"/>\n",
              "  </svg>\n",
              "      </button>\n",
              "      \n",
              "  <style>\n",
              "    .colab-df-container {\n",
              "      display:flex;\n",
              "      flex-wrap:wrap;\n",
              "      gap: 12px;\n",
              "    }\n",
              "\n",
              "    .colab-df-convert {\n",
              "      background-color: #E8F0FE;\n",
              "      border: none;\n",
              "      border-radius: 50%;\n",
              "      cursor: pointer;\n",
              "      display: none;\n",
              "      fill: #1967D2;\n",
              "      height: 32px;\n",
              "      padding: 0 0 0 0;\n",
              "      width: 32px;\n",
              "    }\n",
              "\n",
              "    .colab-df-convert:hover {\n",
              "      background-color: #E2EBFA;\n",
              "      box-shadow: 0px 1px 2px rgba(60, 64, 67, 0.3), 0px 1px 3px 1px rgba(60, 64, 67, 0.15);\n",
              "      fill: #174EA6;\n",
              "    }\n",
              "\n",
              "    [theme=dark] .colab-df-convert {\n",
              "      background-color: #3B4455;\n",
              "      fill: #D2E3FC;\n",
              "    }\n",
              "\n",
              "    [theme=dark] .colab-df-convert:hover {\n",
              "      background-color: #434B5C;\n",
              "      box-shadow: 0px 1px 3px 1px rgba(0, 0, 0, 0.15);\n",
              "      filter: drop-shadow(0px 1px 2px rgba(0, 0, 0, 0.3));\n",
              "      fill: #FFFFFF;\n",
              "    }\n",
              "  </style>\n",
              "\n",
              "      <script>\n",
              "        const buttonEl =\n",
              "          document.querySelector('#df-dd1f669c-8e02-4ece-9f8d-b88f22185a8c button.colab-df-convert');\n",
              "        buttonEl.style.display =\n",
              "          google.colab.kernel.accessAllowed ? 'block' : 'none';\n",
              "\n",
              "        async function convertToInteractive(key) {\n",
              "          const element = document.querySelector('#df-dd1f669c-8e02-4ece-9f8d-b88f22185a8c');\n",
              "          const dataTable =\n",
              "            await google.colab.kernel.invokeFunction('convertToInteractive',\n",
              "                                                     [key], {});\n",
              "          if (!dataTable) return;\n",
              "\n",
              "          const docLinkHtml = 'Like what you see? Visit the ' +\n",
              "            '<a target=\"_blank\" href=https://colab.research.google.com/notebooks/data_table.ipynb>data table notebook</a>'\n",
              "            + ' to learn more about interactive tables.';\n",
              "          element.innerHTML = '';\n",
              "          dataTable['output_type'] = 'display_data';\n",
              "          await google.colab.output.renderOutput(dataTable, element);\n",
              "          const docLink = document.createElement('div');\n",
              "          docLink.innerHTML = docLinkHtml;\n",
              "          element.appendChild(docLink);\n",
              "        }\n",
              "      </script>\n",
              "    </div>\n",
              "  </div>\n",
              "  "
            ]
          },
          "metadata": {},
          "execution_count": 133
        }
      ],
      "source": [
        "df.head(10)"
      ]
    },
    {
      "cell_type": "code",
      "execution_count": null,
      "metadata": {
        "id": "ke-521dBMlm-"
      },
      "outputs": [],
      "source": [
        "# merubah tipe data yang salah dari beberapa kolom (Object - Datetime)\n",
        "df['transactionDateTime'] =  pd.to_datetime(df['transactionDateTime'], infer_datetime_format=True)\n",
        "df['currentExpDate'] =  pd.to_datetime(df['currentExpDate'], infer_datetime_format=True)\n",
        "df['accountOpenDate'] =  pd.to_datetime(df['accountOpenDate'], infer_datetime_format=True)\n",
        "df['dateOfLastAddressChange'] =  pd.to_datetime(df['dateOfLastAddressChange'], infer_datetime_format=True)\n"
      ]
    },
    {
      "cell_type": "code",
      "source": [
        "df.dtypes"
      ],
      "metadata": {
        "id": "LIiUjiRTh99R",
        "colab": {
          "base_uri": "https://localhost:8080/"
        },
        "outputId": "bd2cf1ae-ecc7-43f4-e5a5-08e55f701e8a"
      },
      "execution_count": null,
      "outputs": [
        {
          "output_type": "execute_result",
          "data": {
            "text/plain": [
              "creditLimit                          int64\n",
              "availableMoney                     float64\n",
              "transactionDateTime         datetime64[ns]\n",
              "transactionAmount                  float64\n",
              "merchantName                        object\n",
              "acqCountry                          object\n",
              "merchantCountryCode                 object\n",
              "posEntryMode                        object\n",
              "posConditionCode                    object\n",
              "merchantCategoryCode                object\n",
              "currentExpDate              datetime64[ns]\n",
              "accountOpenDate             datetime64[ns]\n",
              "dateOfLastAddressChange     datetime64[ns]\n",
              "transactionType                     object\n",
              "isFraud                               bool\n",
              "currentBalance                     float64\n",
              "cardPresent                           bool\n",
              "expirationDateKeyInMatch              bool\n",
              "CVV_Valid                            int64\n",
              "dtype: object"
            ]
          },
          "metadata": {},
          "execution_count": 135
        }
      ]
    },
    {
      "cell_type": "markdown",
      "metadata": {
        "id": "CpLxXZNpgejs"
      },
      "source": [
        " **DATA QUALITY ASSESSMENT**\n",
        "\n",
        "\n",
        "*   melakukan cek missing Values\n",
        "*   melakukan cek outlier pada kolom numeric dengan memvisualisasikanya kedalam boxplot\n",
        "*   melihat density dari kolom numeric\n",
        "\n"
      ]
    },
    {
      "cell_type": "code",
      "execution_count": null,
      "metadata": {
        "colab": {
          "base_uri": "https://localhost:8080/"
        },
        "id": "jg3kDyByjrdp",
        "outputId": "e86de8df-6ff0-411f-ab67-ce8b68698583"
      },
      "outputs": [
        {
          "output_type": "execute_result",
          "data": {
            "text/plain": [
              "creditLimit                 0\n",
              "availableMoney              0\n",
              "transactionDateTime         0\n",
              "transactionAmount           0\n",
              "merchantName                0\n",
              "acqCountry                  0\n",
              "merchantCountryCode         0\n",
              "posEntryMode                0\n",
              "posConditionCode            0\n",
              "merchantCategoryCode        0\n",
              "currentExpDate              0\n",
              "accountOpenDate             0\n",
              "dateOfLastAddressChange     0\n",
              "transactionType             0\n",
              "isFraud                     0\n",
              "currentBalance              0\n",
              "cardPresent                 0\n",
              "expirationDateKeyInMatch    0\n",
              "CVV_Valid                   0\n",
              "dtype: int64"
            ]
          },
          "metadata": {},
          "execution_count": 136
        }
      ],
      "source": [
        "# cek missing value\n",
        "df.isnull().sum()"
      ]
    },
    {
      "cell_type": "code",
      "execution_count": null,
      "metadata": {
        "id": "VKB6siBOqW1I"
      },
      "outputs": [],
      "source": [
        "# cek missing values yang tidak terdeteksi dengan mengisi semua blank space dengan NaN\n",
        "df = df.replace(r'^\\s*$', np.nan, regex=True)"
      ]
    },
    {
      "cell_type": "code",
      "execution_count": null,
      "metadata": {
        "colab": {
          "base_uri": "https://localhost:8080/"
        },
        "id": "rvLXgdwZWiMz",
        "outputId": "e7cae130-88f1-4149-87d4-23c1dd9d723f"
      },
      "outputs": [
        {
          "output_type": "execute_result",
          "data": {
            "text/plain": [
              "creditLimit                    0\n",
              "availableMoney                 0\n",
              "transactionDateTime            0\n",
              "transactionAmount              0\n",
              "merchantName                   0\n",
              "acqCountry                  3913\n",
              "merchantCountryCode          624\n",
              "posEntryMode                3345\n",
              "posConditionCode             287\n",
              "merchantCategoryCode           0\n",
              "currentExpDate                 0\n",
              "accountOpenDate                0\n",
              "dateOfLastAddressChange        0\n",
              "transactionType              589\n",
              "isFraud                        0\n",
              "currentBalance                 0\n",
              "cardPresent                    0\n",
              "expirationDateKeyInMatch       0\n",
              "CVV_Valid                      0\n",
              "dtype: int64"
            ]
          },
          "metadata": {},
          "execution_count": 138
        }
      ],
      "source": [
        "# hasil missing values yang terdapat pada dataset\n",
        "df.isnull().sum()"
      ]
    },
    {
      "cell_type": "code",
      "source": [
        "df.describe()"
      ],
      "metadata": {
        "colab": {
          "base_uri": "https://localhost:8080/",
          "height": 300
        },
        "id": "Yrp_1po83rOO",
        "outputId": "5da3deae-7352-4d8c-f4c4-ed667755b87e"
      },
      "execution_count": null,
      "outputs": [
        {
          "output_type": "execute_result",
          "data": {
            "text/plain": [
              "         creditLimit  availableMoney  transactionAmount  currentBalance  \\\n",
              "count  641914.000000   641914.000000      641914.000000   641914.000000   \n",
              "mean    10697.210608     6652.828573         135.162497     4044.382035   \n",
              "std     11460.359133     9227.132275         147.053302     5945.510224   \n",
              "min       250.000000    -1244.930000           0.000000        0.000000   \n",
              "25%      5000.000000     1114.970000          32.320000      502.442500   \n",
              "50%      7500.000000     3578.165000          85.800000     2151.860000   \n",
              "75%     15000.000000     8169.185000         189.030000     5005.890000   \n",
              "max     50000.000000    50000.000000        1825.250000    47496.500000   \n",
              "\n",
              "           CVV_Valid  \n",
              "count  641914.000000  \n",
              "mean        0.990751  \n",
              "std         0.095726  \n",
              "min         0.000000  \n",
              "25%         1.000000  \n",
              "50%         1.000000  \n",
              "75%         1.000000  \n",
              "max         1.000000  "
            ],
            "text/html": [
              "\n",
              "  <div id=\"df-962a80ef-6840-4dd3-91e2-c0b1d3b7f253\">\n",
              "    <div class=\"colab-df-container\">\n",
              "      <div>\n",
              "<style scoped>\n",
              "    .dataframe tbody tr th:only-of-type {\n",
              "        vertical-align: middle;\n",
              "    }\n",
              "\n",
              "    .dataframe tbody tr th {\n",
              "        vertical-align: top;\n",
              "    }\n",
              "\n",
              "    .dataframe thead th {\n",
              "        text-align: right;\n",
              "    }\n",
              "</style>\n",
              "<table border=\"1\" class=\"dataframe\">\n",
              "  <thead>\n",
              "    <tr style=\"text-align: right;\">\n",
              "      <th></th>\n",
              "      <th>creditLimit</th>\n",
              "      <th>availableMoney</th>\n",
              "      <th>transactionAmount</th>\n",
              "      <th>currentBalance</th>\n",
              "      <th>CVV_Valid</th>\n",
              "    </tr>\n",
              "  </thead>\n",
              "  <tbody>\n",
              "    <tr>\n",
              "      <th>count</th>\n",
              "      <td>641914.000000</td>\n",
              "      <td>641914.000000</td>\n",
              "      <td>641914.000000</td>\n",
              "      <td>641914.000000</td>\n",
              "      <td>641914.000000</td>\n",
              "    </tr>\n",
              "    <tr>\n",
              "      <th>mean</th>\n",
              "      <td>10697.210608</td>\n",
              "      <td>6652.828573</td>\n",
              "      <td>135.162497</td>\n",
              "      <td>4044.382035</td>\n",
              "      <td>0.990751</td>\n",
              "    </tr>\n",
              "    <tr>\n",
              "      <th>std</th>\n",
              "      <td>11460.359133</td>\n",
              "      <td>9227.132275</td>\n",
              "      <td>147.053302</td>\n",
              "      <td>5945.510224</td>\n",
              "      <td>0.095726</td>\n",
              "    </tr>\n",
              "    <tr>\n",
              "      <th>min</th>\n",
              "      <td>250.000000</td>\n",
              "      <td>-1244.930000</td>\n",
              "      <td>0.000000</td>\n",
              "      <td>0.000000</td>\n",
              "      <td>0.000000</td>\n",
              "    </tr>\n",
              "    <tr>\n",
              "      <th>25%</th>\n",
              "      <td>5000.000000</td>\n",
              "      <td>1114.970000</td>\n",
              "      <td>32.320000</td>\n",
              "      <td>502.442500</td>\n",
              "      <td>1.000000</td>\n",
              "    </tr>\n",
              "    <tr>\n",
              "      <th>50%</th>\n",
              "      <td>7500.000000</td>\n",
              "      <td>3578.165000</td>\n",
              "      <td>85.800000</td>\n",
              "      <td>2151.860000</td>\n",
              "      <td>1.000000</td>\n",
              "    </tr>\n",
              "    <tr>\n",
              "      <th>75%</th>\n",
              "      <td>15000.000000</td>\n",
              "      <td>8169.185000</td>\n",
              "      <td>189.030000</td>\n",
              "      <td>5005.890000</td>\n",
              "      <td>1.000000</td>\n",
              "    </tr>\n",
              "    <tr>\n",
              "      <th>max</th>\n",
              "      <td>50000.000000</td>\n",
              "      <td>50000.000000</td>\n",
              "      <td>1825.250000</td>\n",
              "      <td>47496.500000</td>\n",
              "      <td>1.000000</td>\n",
              "    </tr>\n",
              "  </tbody>\n",
              "</table>\n",
              "</div>\n",
              "      <button class=\"colab-df-convert\" onclick=\"convertToInteractive('df-962a80ef-6840-4dd3-91e2-c0b1d3b7f253')\"\n",
              "              title=\"Convert this dataframe to an interactive table.\"\n",
              "              style=\"display:none;\">\n",
              "        \n",
              "  <svg xmlns=\"http://www.w3.org/2000/svg\" height=\"24px\"viewBox=\"0 0 24 24\"\n",
              "       width=\"24px\">\n",
              "    <path d=\"M0 0h24v24H0V0z\" fill=\"none\"/>\n",
              "    <path d=\"M18.56 5.44l.94 2.06.94-2.06 2.06-.94-2.06-.94-.94-2.06-.94 2.06-2.06.94zm-11 1L8.5 8.5l.94-2.06 2.06-.94-2.06-.94L8.5 2.5l-.94 2.06-2.06.94zm10 10l.94 2.06.94-2.06 2.06-.94-2.06-.94-.94-2.06-.94 2.06-2.06.94z\"/><path d=\"M17.41 7.96l-1.37-1.37c-.4-.4-.92-.59-1.43-.59-.52 0-1.04.2-1.43.59L10.3 9.45l-7.72 7.72c-.78.78-.78 2.05 0 2.83L4 21.41c.39.39.9.59 1.41.59.51 0 1.02-.2 1.41-.59l7.78-7.78 2.81-2.81c.8-.78.8-2.07 0-2.86zM5.41 20L4 18.59l7.72-7.72 1.47 1.35L5.41 20z\"/>\n",
              "  </svg>\n",
              "      </button>\n",
              "      \n",
              "  <style>\n",
              "    .colab-df-container {\n",
              "      display:flex;\n",
              "      flex-wrap:wrap;\n",
              "      gap: 12px;\n",
              "    }\n",
              "\n",
              "    .colab-df-convert {\n",
              "      background-color: #E8F0FE;\n",
              "      border: none;\n",
              "      border-radius: 50%;\n",
              "      cursor: pointer;\n",
              "      display: none;\n",
              "      fill: #1967D2;\n",
              "      height: 32px;\n",
              "      padding: 0 0 0 0;\n",
              "      width: 32px;\n",
              "    }\n",
              "\n",
              "    .colab-df-convert:hover {\n",
              "      background-color: #E2EBFA;\n",
              "      box-shadow: 0px 1px 2px rgba(60, 64, 67, 0.3), 0px 1px 3px 1px rgba(60, 64, 67, 0.15);\n",
              "      fill: #174EA6;\n",
              "    }\n",
              "\n",
              "    [theme=dark] .colab-df-convert {\n",
              "      background-color: #3B4455;\n",
              "      fill: #D2E3FC;\n",
              "    }\n",
              "\n",
              "    [theme=dark] .colab-df-convert:hover {\n",
              "      background-color: #434B5C;\n",
              "      box-shadow: 0px 1px 3px 1px rgba(0, 0, 0, 0.15);\n",
              "      filter: drop-shadow(0px 1px 2px rgba(0, 0, 0, 0.3));\n",
              "      fill: #FFFFFF;\n",
              "    }\n",
              "  </style>\n",
              "\n",
              "      <script>\n",
              "        const buttonEl =\n",
              "          document.querySelector('#df-962a80ef-6840-4dd3-91e2-c0b1d3b7f253 button.colab-df-convert');\n",
              "        buttonEl.style.display =\n",
              "          google.colab.kernel.accessAllowed ? 'block' : 'none';\n",
              "\n",
              "        async function convertToInteractive(key) {\n",
              "          const element = document.querySelector('#df-962a80ef-6840-4dd3-91e2-c0b1d3b7f253');\n",
              "          const dataTable =\n",
              "            await google.colab.kernel.invokeFunction('convertToInteractive',\n",
              "                                                     [key], {});\n",
              "          if (!dataTable) return;\n",
              "\n",
              "          const docLinkHtml = 'Like what you see? Visit the ' +\n",
              "            '<a target=\"_blank\" href=https://colab.research.google.com/notebooks/data_table.ipynb>data table notebook</a>'\n",
              "            + ' to learn more about interactive tables.';\n",
              "          element.innerHTML = '';\n",
              "          dataTable['output_type'] = 'display_data';\n",
              "          await google.colab.output.renderOutput(dataTable, element);\n",
              "          const docLink = document.createElement('div');\n",
              "          docLink.innerHTML = docLinkHtml;\n",
              "          element.appendChild(docLink);\n",
              "        }\n",
              "      </script>\n",
              "    </div>\n",
              "  </div>\n",
              "  "
            ]
          },
          "metadata": {},
          "execution_count": 139
        }
      ]
    },
    {
      "cell_type": "markdown",
      "source": [
        "credit limit"
      ],
      "metadata": {
        "id": "ubn1N3sqwnbM"
      }
    },
    {
      "cell_type": "code",
      "source": [
        "# cek outlier dari credit limit\n",
        "sns.boxplot(x=df['creditLimit'])"
      ],
      "metadata": {
        "colab": {
          "base_uri": "https://localhost:8080/",
          "height": 296
        },
        "id": "NsI3JjP_PrwS",
        "outputId": "ec6a2ee4-5eb9-4b1d-f07a-ee899ee6d74f"
      },
      "execution_count": null,
      "outputs": [
        {
          "output_type": "execute_result",
          "data": {
            "text/plain": [
              "<matplotlib.axes._subplots.AxesSubplot at 0x7f5c902fba90>"
            ]
          },
          "metadata": {},
          "execution_count": 140
        },
        {
          "output_type": "display_data",
          "data": {
            "text/plain": [
              "<Figure size 432x288 with 1 Axes>"
            ],
            "image/png": "[encoded data removed]"
          },
          "metadata": {
            "needs_background": "light"
          }
        }
      ]
    },
    {
      "cell_type": "code",
      "source": [
        "# melihat distribusi dari credit limit\n",
        "sns.distplot(df['creditLimit'],bins=3)"
      ],
      "metadata": {
        "colab": {
          "base_uri": "https://localhost:8080/",
          "height": 351
        },
        "id": "xgZiEP2gZqO2",
        "outputId": "00fd5bbf-e1ab-4998-9abb-fdce771734e3"
      },
      "execution_count": null,
      "outputs": [
        {
          "output_type": "stream",
          "name": "stderr",
          "text": [
            "/usr/local/lib/python3.7/dist-packages/seaborn/distributions.py:2619: FutureWarning: `distplot` is a deprecated function and will be removed in a future version. Please adapt your code to use either `displot` (a figure-level function with similar flexibility) or `histplot` (an axes-level function for histograms).\n",
            "  warnings.warn(msg, FutureWarning)\n"
          ]
        },
        {
          "output_type": "execute_result",
          "data": {
            "text/plain": [
              "<matplotlib.axes._subplots.AxesSubplot at 0x7f5c90300110>"
            ]
          },
          "metadata": {},
          "execution_count": 141
        },
        {
          "output_type": "display_data",
          "data": {
            "text/plain": [
              "<Figure size 432x288 with 1 Axes>"
            ],
            "image/png": "[encoded data removed]"
          },
          "metadata": {
            "needs_background": "light"
          }
        }
      ]
    },
    {
      "cell_type": "markdown",
      "source": [
        "availabel money"
      ],
      "metadata": {
        "id": "We9AOQKzwkVt"
      }
    },
    {
      "cell_type": "code",
      "source": [
        "# cek outlier dari available money\n",
        "sns.boxplot(x=df['availableMoney'])"
      ],
      "metadata": {
        "colab": {
          "base_uri": "https://localhost:8080/",
          "height": 296
        },
        "id": "tmSzR7-3Xumd",
        "outputId": "ac6bdb02-c1d6-4182-ae71-d15701b70659"
      },
      "execution_count": null,
      "outputs": [
        {
          "output_type": "execute_result",
          "data": {
            "text/plain": [
              "<matplotlib.axes._subplots.AxesSubplot at 0x7f5c901ae890>"
            ]
          },
          "metadata": {},
          "execution_count": 142
        },
        {
          "output_type": "display_data",
          "data": {
            "text/plain": [
              "<Figure size 432x288 with 1 Axes>"
            ],
            "image/png": "[encoded data removed]"
          },
          "metadata": {
            "needs_background": "light"
          }
        }
      ]
    },
    {
      "cell_type": "code",
      "source": [
        "# melihat distribusi dari available money\n",
        "sns.distplot(df['availableMoney'], bins=15)"
      ],
      "metadata": {
        "colab": {
          "base_uri": "https://localhost:8080/",
          "height": 351
        },
        "id": "RtOMH_K_YzGr",
        "outputId": "49e8bf6c-69f7-40db-8ce9-0e2607770cce"
      },
      "execution_count": null,
      "outputs": [
        {
          "output_type": "stream",
          "name": "stderr",
          "text": [
            "/usr/local/lib/python3.7/dist-packages/seaborn/distributions.py:2619: FutureWarning: `distplot` is a deprecated function and will be removed in a future version. Please adapt your code to use either `displot` (a figure-level function with similar flexibility) or `histplot` (an axes-level function for histograms).\n",
            "  warnings.warn(msg, FutureWarning)\n"
          ]
        },
        {
          "output_type": "execute_result",
          "data": {
            "text/plain": [
              "<matplotlib.axes._subplots.AxesSubplot at 0x7f5c90351610>"
            ]
          },
          "metadata": {},
          "execution_count": 143
        },
        {
          "output_type": "display_data",
          "data": {
            "text/plain": [
              "<Figure size 432x288 with 1 Axes>"
            ],
            "image/png": "[encoded data removed]"
          },
          "metadata": {
            "needs_background": "light"
          }
        }
      ]
    },
    {
      "cell_type": "markdown",
      "source": [
        "transaction amount"
      ],
      "metadata": {
        "id": "DSx16-n_wgBp"
      }
    },
    {
      "cell_type": "code",
      "source": [
        "# cek outlier dari available transaction ammount\n",
        "sns.boxplot(x=df['transactionAmount'])\n"
      ],
      "metadata": {
        "colab": {
          "base_uri": "https://localhost:8080/",
          "height": 296
        },
        "id": "u9OKg9NAwArA",
        "outputId": "26b99912-6c72-4f3f-8609-c29c5123491d"
      },
      "execution_count": null,
      "outputs": [
        {
          "output_type": "execute_result",
          "data": {
            "text/plain": [
              "<matplotlib.axes._subplots.AxesSubplot at 0x7f5c90176e50>"
            ]
          },
          "metadata": {},
          "execution_count": 144
        },
        {
          "output_type": "display_data",
          "data": {
            "text/plain": [
              "<Figure size 432x288 with 1 Axes>"
            ],
            "image/png": "[encoded data removed]"
          },
          "metadata": {
            "needs_background": "light"
          }
        }
      ]
    },
    {
      "cell_type": "code",
      "source": [
        "# melihat distribusi dari transaction ammount\n",
        "sns.distplot(df['transactionAmount'], bins=15)"
      ],
      "metadata": {
        "colab": {
          "base_uri": "https://localhost:8080/",
          "height": 355
        },
        "id": "3Wv4ZfdSwbdx",
        "outputId": "6c9caee1-4574-4099-858e-1acc0fcd8163"
      },
      "execution_count": null,
      "outputs": [
        {
          "output_type": "stream",
          "name": "stderr",
          "text": [
            "/usr/local/lib/python3.7/dist-packages/seaborn/distributions.py:2619: FutureWarning: `distplot` is a deprecated function and will be removed in a future version. Please adapt your code to use either `displot` (a figure-level function with similar flexibility) or `histplot` (an axes-level function for histograms).\n",
            "  warnings.warn(msg, FutureWarning)\n"
          ]
        },
        {
          "output_type": "execute_result",
          "data": {
            "text/plain": [
              "<matplotlib.axes._subplots.AxesSubplot at 0x7f5c9012d210>"
            ]
          },
          "metadata": {},
          "execution_count": 145
        },
        {
          "output_type": "display_data",
          "data": {
            "text/plain": [
              "<Figure size 432x288 with 1 Axes>"
            ],
            "image/png": "[encoded data removed]"
          },
          "metadata": {
            "needs_background": "light"
          }
        }
      ]
    },
    {
      "cell_type": "markdown",
      "source": [
        "currentBalance"
      ],
      "metadata": {
        "id": "oKxhLVFBz5ca"
      }
    },
    {
      "cell_type": "code",
      "source": [
        "# cek outlier dari currentBalance\n",
        "sns.boxplot(x=df['currentBalance'])"
      ],
      "metadata": {
        "colab": {
          "base_uri": "https://localhost:8080/",
          "height": 296
        },
        "id": "TuocS-Eiz6HT",
        "outputId": "8f5fd463-dca9-41df-a9c5-4889480f0674"
      },
      "execution_count": null,
      "outputs": [
        {
          "output_type": "execute_result",
          "data": {
            "text/plain": [
              "<matplotlib.axes._subplots.AxesSubplot at 0x7f5c90138390>"
            ]
          },
          "metadata": {},
          "execution_count": 146
        },
        {
          "output_type": "display_data",
          "data": {
            "text/plain": [
              "<Figure size 432x288 with 1 Axes>"
            ],
            "image/png": "[encoded data removed]"
          },
          "metadata": {
            "needs_background": "light"
          }
        }
      ]
    },
    {
      "cell_type": "code",
      "source": [
        "# cek outlier dari currentBalance\n",
        "sns.distplot(df['currentBalance'], bins=15)"
      ],
      "metadata": {
        "colab": {
          "base_uri": "https://localhost:8080/",
          "height": 351
        },
        "id": "IjR_T-ZNz6a6",
        "outputId": "dfa7ff6b-9a1a-4a11-e4d5-1257070844e0"
      },
      "execution_count": null,
      "outputs": [
        {
          "output_type": "stream",
          "name": "stderr",
          "text": [
            "/usr/local/lib/python3.7/dist-packages/seaborn/distributions.py:2619: FutureWarning: `distplot` is a deprecated function and will be removed in a future version. Please adapt your code to use either `displot` (a figure-level function with similar flexibility) or `histplot` (an axes-level function for histograms).\n",
            "  warnings.warn(msg, FutureWarning)\n"
          ]
        },
        {
          "output_type": "execute_result",
          "data": {
            "text/plain": [
              "<matplotlib.axes._subplots.AxesSubplot at 0x7f5c900f5e90>"
            ]
          },
          "metadata": {},
          "execution_count": 147
        },
        {
          "output_type": "display_data",
          "data": {
            "text/plain": [
              "<Figure size 432x288 with 1 Axes>"
            ],
            "image/png": "[encoded data removed]"
          },
          "metadata": {
            "needs_background": "light"
          }
        }
      ]
    },
    {
      "cell_type": "markdown",
      "source": [
        "CVVvalid"
      ],
      "metadata": {
        "id": "qmX70jFgyWGs"
      }
    },
    {
      "cell_type": "code",
      "source": [
        "# cek outlier dari CVV_valid\n",
        "sns.boxplot(x=df['CVV_Valid'])"
      ],
      "metadata": {
        "colab": {
          "base_uri": "https://localhost:8080/",
          "height": 297
        },
        "id": "Her9R6DSx-S8",
        "outputId": "7dd04d2b-89e2-4640-c049-3aedec7200c2"
      },
      "execution_count": null,
      "outputs": [
        {
          "output_type": "execute_result",
          "data": {
            "text/plain": [
              "<matplotlib.axes._subplots.AxesSubplot at 0x7f5c903229d0>"
            ]
          },
          "metadata": {},
          "execution_count": 148
        },
        {
          "output_type": "display_data",
          "data": {
            "text/plain": [
              "<Figure size 432x288 with 1 Axes>"
            ],
            "image/png": "[encoded data removed]"
          },
          "metadata": {
            "needs_background": "light"
          }
        }
      ]
    },
    {
      "cell_type": "code",
      "source": [
        "# cek distribusi dari CVV_valid\n",
        "sns.distplot(df['CVV_Valid'], bins=15)"
      ],
      "metadata": {
        "colab": {
          "base_uri": "https://localhost:8080/",
          "height": 352
        },
        "id": "m9AwdoFjx-pJ",
        "outputId": "1988774e-77c4-4d12-8f4f-e818ad158b06"
      },
      "execution_count": null,
      "outputs": [
        {
          "output_type": "stream",
          "name": "stderr",
          "text": [
            "/usr/local/lib/python3.7/dist-packages/seaborn/distributions.py:2619: FutureWarning: `distplot` is a deprecated function and will be removed in a future version. Please adapt your code to use either `displot` (a figure-level function with similar flexibility) or `histplot` (an axes-level function for histograms).\n",
            "  warnings.warn(msg, FutureWarning)\n"
          ]
        },
        {
          "output_type": "execute_result",
          "data": {
            "text/plain": [
              "<matplotlib.axes._subplots.AxesSubplot at 0x7f5c902ca490>"
            ]
          },
          "metadata": {},
          "execution_count": 149
        },
        {
          "output_type": "display_data",
          "data": {
            "text/plain": [
              "<Figure size 432x288 with 1 Axes>"
            ],
            "image/png": "[encoded data removed]"
          },
          "metadata": {
            "needs_background": "light"
          }
        }
      ]
    },
    {
      "cell_type": "markdown",
      "source": [
        "**DATA CLEANING**\n",
        "\n",
        "\n",
        "*   melakukan cleaning data pada kolom yang terdapat missing values\n",
        "\n"
      ],
      "metadata": {
        "id": "C7SfnORAn1du"
      }
    },
    {
      "cell_type": "code",
      "source": [
        "# handling missing values pada kolom  (isi mode )\n",
        "df['posEntryMode'] = df['posEntryMode'].fillna(value=df['posEntryMode'].mode()[0])\n",
        "df['posConditionCode'] = df['posConditionCode'].fillna(value=df['posConditionCode'].mode()[0])\n",
        "df['acqCountry'] = df['acqCountry'].fillna(value=df['acqCountry'].mode()[0])\n",
        "df['merchantCountryCode'] = df['merchantCountryCode'].fillna(value=df['merchantCountryCode'].mode()[0])\n",
        "df['transactionType'] = df['transactionType'].fillna(value=df['transactionType'].mode()[0])"
      ],
      "metadata": {
        "id": "UFYHo98dn01B"
      },
      "execution_count": null,
      "outputs": []
    },
    {
      "cell_type": "code",
      "source": [
        "# cek missing value lagi yang telah melewati proses handling\n",
        "df.isnull().sum()"
      ],
      "metadata": {
        "colab": {
          "base_uri": "https://localhost:8080/"
        },
        "id": "s9ON47Nhn0mV",
        "outputId": "6132d093-52ca-4942-d168-105a88d82e4c"
      },
      "execution_count": null,
      "outputs": [
        {
          "output_type": "execute_result",
          "data": {
            "text/plain": [
              "creditLimit                 0\n",
              "availableMoney              0\n",
              "transactionDateTime         0\n",
              "transactionAmount           0\n",
              "merchantName                0\n",
              "acqCountry                  0\n",
              "merchantCountryCode         0\n",
              "posEntryMode                0\n",
              "posConditionCode            0\n",
              "merchantCategoryCode        0\n",
              "currentExpDate              0\n",
              "accountOpenDate             0\n",
              "dateOfLastAddressChange     0\n",
              "transactionType             0\n",
              "isFraud                     0\n",
              "currentBalance              0\n",
              "cardPresent                 0\n",
              "expirationDateKeyInMatch    0\n",
              "CVV_Valid                   0\n",
              "dtype: int64"
            ]
          },
          "metadata": {},
          "execution_count": 151
        }
      ]
    },
    {
      "cell_type": "markdown",
      "source": [
        "**DATA MANIPULATION 2**\n",
        "*   merubah tipe data yang masih salah"
      ],
      "metadata": {
        "id": "_Ja1rRDko7SK"
      }
    },
    {
      "cell_type": "code",
      "source": [
        "df['posEntryMode'] = df['posEntryMode'].apply(np.int64)\n",
        "df['posConditionCode'] = df['posConditionCode'].apply(np.int64)"
      ],
      "metadata": {
        "id": "tKsaoqKln0hW"
      },
      "execution_count": null,
      "outputs": []
    },
    {
      "cell_type": "markdown",
      "source": [
        "**DATA TRANFORMATION**\n",
        "\n",
        "\n",
        "*   mencari importance feature dengan menemukan korelasi dari variabel dependen terhadap variabel target\n",
        "*   melakukan visualisasi terhadap importan feature tersebut\n",
        "\n"
      ],
      "metadata": {
        "id": "2LOEF8KCpWcp"
      }
    },
    {
      "cell_type": "code",
      "source": [
        "# mencari korelasi dengan variabel isFraud\n",
        "corr_df=df.corr()\n",
        "correlations=corr_df.loc['isFraud'].reset_index()\n",
        "correlations.drop([5],inplace=True)\n",
        "correlations.reset_index(drop=True,inplace=True)\n",
        "correlations.rename(columns={'index':'column_name'},inplace=True)\n",
        "correlations"
      ],
      "metadata": {
        "colab": {
          "base_uri": "https://localhost:8080/",
          "height": 332
        },
        "id": "QIP2_jPMn0c2",
        "outputId": "5ffab56d-18fd-4bca-c2d0-b05bb5213ec0"
      },
      "execution_count": null,
      "outputs": [
        {
          "output_type": "execute_result",
          "data": {
            "text/plain": [
              "                column_name   isFraud\n",
              "0               creditLimit  0.003357\n",
              "1            availableMoney -0.001379\n",
              "2         transactionAmount  0.088708\n",
              "3              posEntryMode  0.005542\n",
              "4          posConditionCode  0.009883\n",
              "5            currentBalance  0.008611\n",
              "6               cardPresent -0.014946\n",
              "7  expirationDateKeyInMatch -0.001239\n",
              "8                 CVV_Valid -0.011195"
            ],
            "text/html": [
              "\n",
              "  <div id=\"df-9c979cbe-4539-4710-8c0d-59e9c10e5f60\">\n",
              "    <div class=\"colab-df-container\">\n",
              "      <div>\n",
              "<style scoped>\n",
              "    .dataframe tbody tr th:only-of-type {\n",
              "        vertical-align: middle;\n",
              "    }\n",
              "\n",
              "    .dataframe tbody tr th {\n",
              "        vertical-align: top;\n",
              "    }\n",
              "\n",
              "    .dataframe thead th {\n",
              "        text-align: right;\n",
              "    }\n",
              "</style>\n",
              "<table border=\"1\" class=\"dataframe\">\n",
              "  <thead>\n",
              "    <tr style=\"text-align: right;\">\n",
              "      <th></th>\n",
              "      <th>column_name</th>\n",
              "      <th>isFraud</th>\n",
              "    </tr>\n",
              "  </thead>\n",
              "  <tbody>\n",
              "    <tr>\n",
              "      <th>0</th>\n",
              "      <td>creditLimit</td>\n",
              "      <td>0.003357</td>\n",
              "    </tr>\n",
              "    <tr>\n",
              "      <th>1</th>\n",
              "      <td>availableMoney</td>\n",
              "      <td>-0.001379</td>\n",
              "    </tr>\n",
              "    <tr>\n",
              "      <th>2</th>\n",
              "      <td>transactionAmount</td>\n",
              "      <td>0.088708</td>\n",
              "    </tr>\n",
              "    <tr>\n",
              "      <th>3</th>\n",
              "      <td>posEntryMode</td>\n",
              "      <td>0.005542</td>\n",
              "    </tr>\n",
              "    <tr>\n",
              "      <th>4</th>\n",
              "      <td>posConditionCode</td>\n",
              "      <td>0.009883</td>\n",
              "    </tr>\n",
              "    <tr>\n",
              "      <th>5</th>\n",
              "      <td>currentBalance</td>\n",
              "      <td>0.008611</td>\n",
              "    </tr>\n",
              "    <tr>\n",
              "      <th>6</th>\n",
              "      <td>cardPresent</td>\n",
              "      <td>-0.014946</td>\n",
              "    </tr>\n",
              "    <tr>\n",
              "      <th>7</th>\n",
              "      <td>expirationDateKeyInMatch</td>\n",
              "      <td>-0.001239</td>\n",
              "    </tr>\n",
              "    <tr>\n",
              "      <th>8</th>\n",
              "      <td>CVV_Valid</td>\n",
              "      <td>-0.011195</td>\n",
              "    </tr>\n",
              "  </tbody>\n",
              "</table>\n",
              "</div>\n",
              "      <button class=\"colab-df-convert\" onclick=\"convertToInteractive('df-9c979cbe-4539-4710-8c0d-59e9c10e5f60')\"\n",
              "              title=\"Convert this dataframe to an interactive table.\"\n",
              "              style=\"display:none;\">\n",
              "        \n",
              "  <svg xmlns=\"http://www.w3.org/2000/svg\" height=\"24px\"viewBox=\"0 0 24 24\"\n",
              "       width=\"24px\">\n",
              "    <path d=\"M0 0h24v24H0V0z\" fill=\"none\"/>\n",
              "    <path d=\"M18.56 5.44l.94 2.06.94-2.06 2.06-.94-2.06-.94-.94-2.06-.94 2.06-2.06.94zm-11 1L8.5 8.5l.94-2.06 2.06-.94-2.06-.94L8.5 2.5l-.94 2.06-2.06.94zm10 10l.94 2.06.94-2.06 2.06-.94-2.06-.94-.94-2.06-.94 2.06-2.06.94z\"/><path d=\"M17.41 7.96l-1.37-1.37c-.4-.4-.92-.59-1.43-.59-.52 0-1.04.2-1.43.59L10.3 9.45l-7.72 7.72c-.78.78-.78 2.05 0 2.83L4 21.41c.39.39.9.59 1.41.59.51 0 1.02-.2 1.41-.59l7.78-7.78 2.81-2.81c.8-.78.8-2.07 0-2.86zM5.41 20L4 18.59l7.72-7.72 1.47 1.35L5.41 20z\"/>\n",
              "  </svg>\n",
              "      </button>\n",
              "      \n",
              "  <style>\n",
              "    .colab-df-container {\n",
              "      display:flex;\n",
              "      flex-wrap:wrap;\n",
              "      gap: 12px;\n",
              "    }\n",
              "\n",
              "    .colab-df-convert {\n",
              "      background-color: #E8F0FE;\n",
              "      border: none;\n",
              "      border-radius: 50%;\n",
              "      cursor: pointer;\n",
              "      display: none;\n",
              "      fill: #1967D2;\n",
              "      height: 32px;\n",
              "      padding: 0 0 0 0;\n",
              "      width: 32px;\n",
              "    }\n",
              "\n",
              "    .colab-df-convert:hover {\n",
              "      background-color: #E2EBFA;\n",
              "      box-shadow: 0px 1px 2px rgba(60, 64, 67, 0.3), 0px 1px 3px 1px rgba(60, 64, 67, 0.15);\n",
              "      fill: #174EA6;\n",
              "    }\n",
              "\n",
              "    [theme=dark] .colab-df-convert {\n",
              "      background-color: #3B4455;\n",
              "      fill: #D2E3FC;\n",
              "    }\n",
              "\n",
              "    [theme=dark] .colab-df-convert:hover {\n",
              "      background-color: #434B5C;\n",
              "      box-shadow: 0px 1px 3px 1px rgba(0, 0, 0, 0.15);\n",
              "      filter: drop-shadow(0px 1px 2px rgba(0, 0, 0, 0.3));\n",
              "      fill: #FFFFFF;\n",
              "    }\n",
              "  </style>\n",
              "\n",
              "      <script>\n",
              "        const buttonEl =\n",
              "          document.querySelector('#df-9c979cbe-4539-4710-8c0d-59e9c10e5f60 button.colab-df-convert');\n",
              "        buttonEl.style.display =\n",
              "          google.colab.kernel.accessAllowed ? 'block' : 'none';\n",
              "\n",
              "        async function convertToInteractive(key) {\n",
              "          const element = document.querySelector('#df-9c979cbe-4539-4710-8c0d-59e9c10e5f60');\n",
              "          const dataTable =\n",
              "            await google.colab.kernel.invokeFunction('convertToInteractive',\n",
              "                                                     [key], {});\n",
              "          if (!dataTable) return;\n",
              "\n",
              "          const docLinkHtml = 'Like what you see? Visit the ' +\n",
              "            '<a target=\"_blank\" href=https://colab.research.google.com/notebooks/data_table.ipynb>data table notebook</a>'\n",
              "            + ' to learn more about interactive tables.';\n",
              "          element.innerHTML = '';\n",
              "          dataTable['output_type'] = 'display_data';\n",
              "          await google.colab.output.renderOutput(dataTable, element);\n",
              "          const docLink = document.createElement('div');\n",
              "          docLink.innerHTML = docLinkHtml;\n",
              "          element.appendChild(docLink);\n",
              "        }\n",
              "      </script>\n",
              "    </div>\n",
              "  </div>\n",
              "  "
            ]
          },
          "metadata": {},
          "execution_count": 161
        }
      ]
    },
    {
      "cell_type": "code",
      "source": [
        "# mensortir variabel yang  paling berkorelasi dengan isFraud (dilakukan perubahan minus menjadi absolute positif supaya bisa di sortir)\n",
        "correlations['isFraud']=correlations['isFraud'].abs()\n",
        "significant_variabel=correlations.sort_values(by='isFraud',ascending=False).reset_index(drop=True)\n",
        "significant_variabel"
      ],
      "metadata": {
        "colab": {
          "base_uri": "https://localhost:8080/",
          "height": 332
        },
        "id": "e_QiQEJ6n0Yu",
        "outputId": "8661007a-048a-42ae-9334-ca8be6ebd566"
      },
      "execution_count": null,
      "outputs": [
        {
          "output_type": "execute_result",
          "data": {
            "text/plain": [
              "                column_name   isFraud\n",
              "0         transactionAmount  0.088708\n",
              "1               cardPresent  0.014946\n",
              "2                 CVV_Valid  0.011195\n",
              "3          posConditionCode  0.009883\n",
              "4            currentBalance  0.008611\n",
              "5              posEntryMode  0.005542\n",
              "6               creditLimit  0.003357\n",
              "7            availableMoney  0.001379\n",
              "8  expirationDateKeyInMatch  0.001239"
            ],
            "text/html": [
              "\n",
              "  <div id=\"df-4c3974e6-407c-4dda-befa-5d2acee54c21\">\n",
              "    <div class=\"colab-df-container\">\n",
              "      <div>\n",
              "<style scoped>\n",
              "    .dataframe tbody tr th:only-of-type {\n",
              "        vertical-align: middle;\n",
              "    }\n",
              "\n",
              "    .dataframe tbody tr th {\n",
              "        vertical-align: top;\n",
              "    }\n",
              "\n",
              "    .dataframe thead th {\n",
              "        text-align: right;\n",
              "    }\n",
              "</style>\n",
              "<table border=\"1\" class=\"dataframe\">\n",
              "  <thead>\n",
              "    <tr style=\"text-align: right;\">\n",
              "      <th></th>\n",
              "      <th>column_name</th>\n",
              "      <th>isFraud</th>\n",
              "    </tr>\n",
              "  </thead>\n",
              "  <tbody>\n",
              "    <tr>\n",
              "      <th>0</th>\n",
              "      <td>transactionAmount</td>\n",
              "      <td>0.088708</td>\n",
              "    </tr>\n",
              "    <tr>\n",
              "      <th>1</th>\n",
              "      <td>cardPresent</td>\n",
              "      <td>0.014946</td>\n",
              "    </tr>\n",
              "    <tr>\n",
              "      <th>2</th>\n",
              "      <td>CVV_Valid</td>\n",
              "      <td>0.011195</td>\n",
              "    </tr>\n",
              "    <tr>\n",
              "      <th>3</th>\n",
              "      <td>posConditionCode</td>\n",
              "      <td>0.009883</td>\n",
              "    </tr>\n",
              "    <tr>\n",
              "      <th>4</th>\n",
              "      <td>currentBalance</td>\n",
              "      <td>0.008611</td>\n",
              "    </tr>\n",
              "    <tr>\n",
              "      <th>5</th>\n",
              "      <td>posEntryMode</td>\n",
              "      <td>0.005542</td>\n",
              "    </tr>\n",
              "    <tr>\n",
              "      <th>6</th>\n",
              "      <td>creditLimit</td>\n",
              "      <td>0.003357</td>\n",
              "    </tr>\n",
              "    <tr>\n",
              "      <th>7</th>\n",
              "      <td>availableMoney</td>\n",
              "      <td>0.001379</td>\n",
              "    </tr>\n",
              "    <tr>\n",
              "      <th>8</th>\n",
              "      <td>expirationDateKeyInMatch</td>\n",
              "      <td>0.001239</td>\n",
              "    </tr>\n",
              "  </tbody>\n",
              "</table>\n",
              "</div>\n",
              "      <button class=\"colab-df-convert\" onclick=\"convertToInteractive('df-4c3974e6-407c-4dda-befa-5d2acee54c21')\"\n",
              "              title=\"Convert this dataframe to an interactive table.\"\n",
              "              style=\"display:none;\">\n",
              "        \n",
              "  <svg xmlns=\"http://www.w3.org/2000/svg\" height=\"24px\"viewBox=\"0 0 24 24\"\n",
              "       width=\"24px\">\n",
              "    <path d=\"M0 0h24v24H0V0z\" fill=\"none\"/>\n",
              "    <path d=\"M18.56 5.44l.94 2.06.94-2.06 2.06-.94-2.06-.94-.94-2.06-.94 2.06-2.06.94zm-11 1L8.5 8.5l.94-2.06 2.06-.94-2.06-.94L8.5 2.5l-.94 2.06-2.06.94zm10 10l.94 2.06.94-2.06 2.06-.94-2.06-.94-.94-2.06-.94 2.06-2.06.94z\"/><path d=\"M17.41 7.96l-1.37-1.37c-.4-.4-.92-.59-1.43-.59-.52 0-1.04.2-1.43.59L10.3 9.45l-7.72 7.72c-.78.78-.78 2.05 0 2.83L4 21.41c.39.39.9.59 1.41.59.51 0 1.02-.2 1.41-.59l7.78-7.78 2.81-2.81c.8-.78.8-2.07 0-2.86zM5.41 20L4 18.59l7.72-7.72 1.47 1.35L5.41 20z\"/>\n",
              "  </svg>\n",
              "      </button>\n",
              "      \n",
              "  <style>\n",
              "    .colab-df-container {\n",
              "      display:flex;\n",
              "      flex-wrap:wrap;\n",
              "      gap: 12px;\n",
              "    }\n",
              "\n",
              "    .colab-df-convert {\n",
              "      background-color: #E8F0FE;\n",
              "      border: none;\n",
              "      border-radius: 50%;\n",
              "      cursor: pointer;\n",
              "      display: none;\n",
              "      fill: #1967D2;\n",
              "      height: 32px;\n",
              "      padding: 0 0 0 0;\n",
              "      width: 32px;\n",
              "    }\n",
              "\n",
              "    .colab-df-convert:hover {\n",
              "      background-color: #E2EBFA;\n",
              "      box-shadow: 0px 1px 2px rgba(60, 64, 67, 0.3), 0px 1px 3px 1px rgba(60, 64, 67, 0.15);\n",
              "      fill: #174EA6;\n",
              "    }\n",
              "\n",
              "    [theme=dark] .colab-df-convert {\n",
              "      background-color: #3B4455;\n",
              "      fill: #D2E3FC;\n",
              "    }\n",
              "\n",
              "    [theme=dark] .colab-df-convert:hover {\n",
              "      background-color: #434B5C;\n",
              "      box-shadow: 0px 1px 3px 1px rgba(0, 0, 0, 0.15);\n",
              "      filter: drop-shadow(0px 1px 2px rgba(0, 0, 0, 0.3));\n",
              "      fill: #FFFFFF;\n",
              "    }\n",
              "  </style>\n",
              "\n",
              "      <script>\n",
              "        const buttonEl =\n",
              "          document.querySelector('#df-4c3974e6-407c-4dda-befa-5d2acee54c21 button.colab-df-convert');\n",
              "        buttonEl.style.display =\n",
              "          google.colab.kernel.accessAllowed ? 'block' : 'none';\n",
              "\n",
              "        async function convertToInteractive(key) {\n",
              "          const element = document.querySelector('#df-4c3974e6-407c-4dda-befa-5d2acee54c21');\n",
              "          const dataTable =\n",
              "            await google.colab.kernel.invokeFunction('convertToInteractive',\n",
              "                                                     [key], {});\n",
              "          if (!dataTable) return;\n",
              "\n",
              "          const docLinkHtml = 'Like what you see? Visit the ' +\n",
              "            '<a target=\"_blank\" href=https://colab.research.google.com/notebooks/data_table.ipynb>data table notebook</a>'\n",
              "            + ' to learn more about interactive tables.';\n",
              "          element.innerHTML = '';\n",
              "          dataTable['output_type'] = 'display_data';\n",
              "          await google.colab.output.renderOutput(dataTable, element);\n",
              "          const docLink = document.createElement('div');\n",
              "          docLink.innerHTML = docLinkHtml;\n",
              "          element.appendChild(docLink);\n",
              "        }\n",
              "      </script>\n",
              "    </div>\n",
              "  </div>\n",
              "  "
            ]
          },
          "metadata": {},
          "execution_count": 154
        }
      ]
    },
    {
      "cell_type": "code",
      "source": [
        "# menampilkan visualisasi dari significant variabel\n",
        "plt.figure(figsize=(25,5))\n",
        "plt.title('The most significant factor affecting transaction fraud or legitimate')\n",
        "ax = sns.barplot(x=\"column_name\", y=\"isFraud\", data=significant_variabel)"
      ],
      "metadata": {
        "colab": {
          "base_uri": "https://localhost:8080/",
          "height": 352
        },
        "id": "wKVm6MITn0Ul",
        "outputId": "adf6cf12-98ed-4f09-b1c2-76e8a1cffe49"
      },
      "execution_count": null,
      "outputs": [
        {
          "output_type": "display_data",
          "data": {
            "text/plain": [
              "<Figure size 1800x360 with 1 Axes>"
            ],
            "image/png": "[encoded data removed]"
          },
          "metadata": {
            "needs_background": "light"
          }
        }
      ]
    },
    {
      "cell_type": "markdown",
      "source": [
        "**DATA MANIPULATION 3**\n",
        "\n",
        "\n",
        "*   menghapus kolom yang tidak memiliki korelasi atau bukan merupakan importance feature terhadap kolom target variabel  \n",
        "*   kemudian menyimpannya kedalam dataset baru karena dataset baru akan digunakan untuk membuat model prediksi\n",
        "\n"
      ],
      "metadata": {
        "id": "g4rOyp8Y5QoP"
      }
    },
    {
      "cell_type": "code",
      "source": [
        "df.columns"
      ],
      "metadata": {
        "colab": {
          "base_uri": "https://localhost:8080/"
        },
        "id": "2DElEVwZ5mze",
        "outputId": "3231a593-c46d-41a9-fbed-9142e6e16313"
      },
      "execution_count": null,
      "outputs": [
        {
          "output_type": "execute_result",
          "data": {
            "text/plain": [
              "Index(['creditLimit', 'availableMoney', 'transactionDateTime',\n",
              "       'transactionAmount', 'merchantName', 'acqCountry',\n",
              "       'merchantCountryCode', 'posEntryMode', 'posConditionCode',\n",
              "       'merchantCategoryCode', 'currentExpDate', 'accountOpenDate',\n",
              "       'dateOfLastAddressChange', 'transactionType', 'isFraud',\n",
              "       'currentBalance', 'cardPresent', 'expirationDateKeyInMatch',\n",
              "       'CVV_Valid'],\n",
              "      dtype='object')"
            ]
          },
          "metadata": {},
          "execution_count": 156
        }
      ]
    },
    {
      "cell_type": "code",
      "source": [
        "new_df=df.drop(['transactionDateTime','merchantName','acqCountry','merchantCountryCode','merchantCategoryCode','currentExpDate','accountOpenDate','dateOfLastAddressChange','transactionType'],axis=1)"
      ],
      "metadata": {
        "id": "7ttIzDq15G3q"
      },
      "execution_count": null,
      "outputs": []
    },
    {
      "cell_type": "code",
      "source": [
        "new_df.columns"
      ],
      "metadata": {
        "colab": {
          "base_uri": "https://localhost:8080/"
        },
        "id": "mOvLGCzz6E5x",
        "outputId": "79abcc3b-6c20-43bb-8cda-2781c8a26ce8"
      },
      "execution_count": null,
      "outputs": [
        {
          "output_type": "execute_result",
          "data": {
            "text/plain": [
              "Index(['creditLimit', 'availableMoney', 'transactionAmount', 'posEntryMode',\n",
              "       'posConditionCode', 'isFraud', 'currentBalance', 'cardPresent',\n",
              "       'expirationDateKeyInMatch', 'CVV_Valid'],\n",
              "      dtype='object')"
            ]
          },
          "metadata": {},
          "execution_count": 158
        }
      ]
    },
    {
      "cell_type": "code",
      "source": [
        "new_df.replace({False: 0, True: 1},inplace=True)"
      ],
      "metadata": {
        "id": "IUGkZH8T6suK"
      },
      "execution_count": null,
      "outputs": []
    },
    {
      "cell_type": "markdown",
      "source": [
        "# **show clean dataset**"
      ],
      "metadata": {
        "id": "apBqO4XBaRv-"
      }
    },
    {
      "cell_type": "code",
      "source": [
        "# dataset untuk dashboard\n",
        "df"
      ],
      "metadata": {
        "id": "7R_IkaaBpo4t",
        "colab": {
          "base_uri": "https://localhost:8080/",
          "height": 540
        },
        "outputId": "04882fc6-9db4-47f1-8384-5fc89ed4dac5"
      },
      "execution_count": null,
      "outputs": [
        {
          "output_type": "execute_result",
          "data": {
            "text/plain": [
              "        accountNumber  creditLimit  availableMoney transactionDateTime  \\\n",
              "0           733493772         5000         5000.00 2016-01-08 19:04:50   \n",
              "1           733493772         5000         4888.67 2016-01-09 22:32:39   \n",
              "2           733493772         5000         4863.92 2016-01-11 13:36:55   \n",
              "3           733493772         5000         4676.52 2016-01-11 22:47:46   \n",
              "4           733493772         5000         4449.18 2016-01-16 01:41:11   \n",
              "...               ...          ...             ...                 ...   \n",
              "641909      186770399         7500         2574.02 2016-12-04 12:29:21   \n",
              "641910      186770399         7500         2568.65 2016-12-09 04:20:35   \n",
              "641911      186770399         7500         2344.95 2016-12-16 07:58:23   \n",
              "641912      186770399         7500         2206.53 2016-12-19 02:30:35   \n",
              "641913      186770399         7500         2190.22 2016-12-28 11:14:14   \n",
              "\n",
              "        transactionAmount              merchantName acqCountry  \\\n",
              "0                  111.33                      Lyft         US   \n",
              "1                   24.75                      Uber         US   \n",
              "2                  187.40                      Lyft         US   \n",
              "3                  227.34                      Lyft         US   \n",
              "4                    0.00                      Lyft         US   \n",
              "...                   ...                       ...        ...   \n",
              "641909               5.37              Apple iTunes         US   \n",
              "641910             223.70      Blue Mountain eCards         US   \n",
              "641911             138.42             Fresh Flowers         US   \n",
              "641912              16.31                   abc.com         US   \n",
              "641913              32.53  Next Day Online Services         US   \n",
              "\n",
              "       merchantCountryCode  posEntryMode  posConditionCode  \\\n",
              "0                       US             5                 1   \n",
              "1                       US             9                 1   \n",
              "2                       US             5                 1   \n",
              "3                       US             2                 1   \n",
              "4                       US             2                 1   \n",
              "...                    ...           ...               ...   \n",
              "641909                  US             5                 8   \n",
              "641910                  US             9                 1   \n",
              "641911                  US             2                 1   \n",
              "641912                  US             9                 8   \n",
              "641913                  US             9                 1   \n",
              "\n",
              "        merchantCategoryCode currentExpDate accountOpenDate  \\\n",
              "0                  rideshare     2020-04-01      2014-08-03   \n",
              "1                  rideshare     2023-06-01      2014-08-03   \n",
              "2                  rideshare     2027-12-01      2014-08-03   \n",
              "3                  rideshare     2029-09-01      2014-08-03   \n",
              "4                  rideshare     2024-10-01      2014-08-03   \n",
              "...                      ...            ...             ...   \n",
              "641909            mobileapps     2030-01-01      2015-11-04   \n",
              "641910          online_gifts     2026-05-01      2015-11-04   \n",
              "641911          online_gifts     2019-10-01      2015-11-04   \n",
              "641912  online_subscriptions     2029-11-01      2015-11-04   \n",
              "641913          online_gifts     2025-08-01      2015-11-04   \n",
              "\n",
              "       dateOfLastAddressChange       transactionType  isFraud  currentBalance  \\\n",
              "0                   2014-08-03              PURCHASE     True            0.00   \n",
              "1                   2014-08-03              PURCHASE    False          111.33   \n",
              "2                   2014-08-03              PURCHASE    False          136.08   \n",
              "3                   2014-08-03              PURCHASE     True          323.48   \n",
              "4                   2014-08-03  ADDRESS_VERIFICATION    False          550.82   \n",
              "...                        ...                   ...      ...             ...   \n",
              "641909              2016-06-03              PURCHASE    False         4925.98   \n",
              "641910              2016-06-03              PURCHASE    False         4931.35   \n",
              "641911              2016-06-03              PURCHASE    False         5155.05   \n",
              "641912              2016-06-03              PURCHASE    False         5293.47   \n",
              "641913              2016-06-03              PURCHASE    False         5309.78   \n",
              "\n",
              "        cardPresent  expirationDateKeyInMatch  CVV_Valid  \n",
              "0             False                     False          1  \n",
              "1             False                     False          1  \n",
              "2             False                     False          1  \n",
              "3             False                     False          1  \n",
              "4             False                     False          1  \n",
              "...             ...                       ...        ...  \n",
              "641909        False                     False          1  \n",
              "641910        False                     False          1  \n",
              "641911        False                     False          1  \n",
              "641912        False                     False          1  \n",
              "641913        False                     False          1  \n",
              "\n",
              "[641914 rows x 20 columns]"
            ],
            "text/html": [
              "\n",
              "  <div id=\"df-e04cf043-ebc0-4a6d-9c4d-f116c3aff5bb\">\n",
              "    <div class=\"colab-df-container\">\n",
              "      <div>\n",
              "<style scoped>\n",
              "    .dataframe tbody tr th:only-of-type {\n",
              "        vertical-align: middle;\n",
              "    }\n",
              "\n",
              "    .dataframe tbody tr th {\n",
              "        vertical-align: top;\n",
              "    }\n",
              "\n",
              "    .dataframe thead th {\n",
              "        text-align: right;\n",
              "    }\n",
              "</style>\n",
              "<table border=\"1\" class=\"dataframe\">\n",
              "  <thead>\n",
              "    <tr style=\"text-align: right;\">\n",
              "      <th></th>\n",
              "      <th>accountNumber</th>\n",
              "      <th>creditLimit</th>\n",
              "      <th>availableMoney</th>\n",
              "      <th>transactionDateTime</th>\n",
              "      <th>transactionAmount</th>\n",
              "      <th>merchantName</th>\n",
              "      <th>acqCountry</th>\n",
              "      <th>merchantCountryCode</th>\n",
              "      <th>posEntryMode</th>\n",
              "      <th>posConditionCode</th>\n",
              "      <th>merchantCategoryCode</th>\n",
              "      <th>currentExpDate</th>\n",
              "      <th>accountOpenDate</th>\n",
              "      <th>dateOfLastAddressChange</th>\n",
              "      <th>transactionType</th>\n",
              "      <th>isFraud</th>\n",
              "      <th>currentBalance</th>\n",
              "      <th>cardPresent</th>\n",
              "      <th>expirationDateKeyInMatch</th>\n",
              "      <th>CVV_Valid</th>\n",
              "    </tr>\n",
              "  </thead>\n",
              "  <tbody>\n",
              "    <tr>\n",
              "      <th>0</th>\n",
              "      <td>733493772</td>\n",
              "      <td>5000</td>\n",
              "      <td>5000.00</td>\n",
              "      <td>2016-01-08 19:04:50</td>\n",
              "      <td>111.33</td>\n",
              "      <td>Lyft</td>\n",
              "      <td>US</td>\n",
              "      <td>US</td>\n",
              "      <td>5</td>\n",
              "      <td>1</td>\n",
              "      <td>rideshare</td>\n",
              "      <td>2020-04-01</td>\n",
              "      <td>2014-08-03</td>\n",
              "      <td>2014-08-03</td>\n",
              "      <td>PURCHASE</td>\n",
              "      <td>True</td>\n",
              "      <td>0.00</td>\n",
              "      <td>False</td>\n",
              "      <td>False</td>\n",
              "      <td>1</td>\n",
              "    </tr>\n",
              "    <tr>\n",
              "      <th>1</th>\n",
              "      <td>733493772</td>\n",
              "      <td>5000</td>\n",
              "      <td>4888.67</td>\n",
              "      <td>2016-01-09 22:32:39</td>\n",
              "      <td>24.75</td>\n",
              "      <td>Uber</td>\n",
              "      <td>US</td>\n",
              "      <td>US</td>\n",
              "      <td>9</td>\n",
              "      <td>1</td>\n",
              "      <td>rideshare</td>\n",
              "      <td>2023-06-01</td>\n",
              "      <td>2014-08-03</td>\n",
              "      <td>2014-08-03</td>\n",
              "      <td>PURCHASE</td>\n",
              "      <td>False</td>\n",
              "      <td>111.33</td>\n",
              "      <td>False</td>\n",
              "      <td>False</td>\n",
              "      <td>1</td>\n",
              "    </tr>\n",
              "    <tr>\n",
              "      <th>2</th>\n",
              "      <td>733493772</td>\n",
              "      <td>5000</td>\n",
              "      <td>4863.92</td>\n",
              "      <td>2016-01-11 13:36:55</td>\n",
              "      <td>187.40</td>\n",
              "      <td>Lyft</td>\n",
              "      <td>US</td>\n",
              "      <td>US</td>\n",
              "      <td>5</td>\n",
              "      <td>1</td>\n",
              "      <td>rideshare</td>\n",
              "      <td>2027-12-01</td>\n",
              "      <td>2014-08-03</td>\n",
              "      <td>2014-08-03</td>\n",
              "      <td>PURCHASE</td>\n",
              "      <td>False</td>\n",
              "      <td>136.08</td>\n",
              "      <td>False</td>\n",
              "      <td>False</td>\n",
              "      <td>1</td>\n",
              "    </tr>\n",
              "    <tr>\n",
              "      <th>3</th>\n",
              "      <td>733493772</td>\n",
              "      <td>5000</td>\n",
              "      <td>4676.52</td>\n",
              "      <td>2016-01-11 22:47:46</td>\n",
              "      <td>227.34</td>\n",
              "      <td>Lyft</td>\n",
              "      <td>US</td>\n",
              "      <td>US</td>\n",
              "      <td>2</td>\n",
              "      <td>1</td>\n",
              "      <td>rideshare</td>\n",
              "      <td>2029-09-01</td>\n",
              "      <td>2014-08-03</td>\n",
              "      <td>2014-08-03</td>\n",
              "      <td>PURCHASE</td>\n",
              "      <td>True</td>\n",
              "      <td>323.48</td>\n",
              "      <td>False</td>\n",
              "      <td>False</td>\n",
              "      <td>1</td>\n",
              "    </tr>\n",
              "    <tr>\n",
              "      <th>4</th>\n",
              "      <td>733493772</td>\n",
              "      <td>5000</td>\n",
              "      <td>4449.18</td>\n",
              "      <td>2016-01-16 01:41:11</td>\n",
              "      <td>0.00</td>\n",
              "      <td>Lyft</td>\n",
              "      <td>US</td>\n",
              "      <td>US</td>\n",
              "      <td>2</td>\n",
              "      <td>1</td>\n",
              "      <td>rideshare</td>\n",
              "      <td>2024-10-01</td>\n",
              "      <td>2014-08-03</td>\n",
              "      <td>2014-08-03</td>\n",
              "      <td>ADDRESS_VERIFICATION</td>\n",
              "      <td>False</td>\n",
              "      <td>550.82</td>\n",
              "      <td>False</td>\n",
              "      <td>False</td>\n",
              "      <td>1</td>\n",
              "    </tr>\n",
              "    <tr>\n",
              "      <th>...</th>\n",
              "      <td>...</td>\n",
              "      <td>...</td>\n",
              "      <td>...</td>\n",
              "      <td>...</td>\n",
              "      <td>...</td>\n",
              "      <td>...</td>\n",
              "      <td>...</td>\n",
              "      <td>...</td>\n",
              "      <td>...</td>\n",
              "      <td>...</td>\n",
              "      <td>...</td>\n",
              "      <td>...</td>\n",
              "      <td>...</td>\n",
              "      <td>...</td>\n",
              "      <td>...</td>\n",
              "      <td>...</td>\n",
              "      <td>...</td>\n",
              "      <td>...</td>\n",
              "      <td>...</td>\n",
              "      <td>...</td>\n",
              "    </tr>\n",
              "    <tr>\n",
              "      <th>641909</th>\n",
              "      <td>186770399</td>\n",
              "      <td>7500</td>\n",
              "      <td>2574.02</td>\n",
              "      <td>2016-12-04 12:29:21</td>\n",
              "      <td>5.37</td>\n",
              "      <td>Apple iTunes</td>\n",
              "      <td>US</td>\n",
              "      <td>US</td>\n",
              "      <td>5</td>\n",
              "      <td>8</td>\n",
              "      <td>mobileapps</td>\n",
              "      <td>2030-01-01</td>\n",
              "      <td>2015-11-04</td>\n",
              "      <td>2016-06-03</td>\n",
              "      <td>PURCHASE</td>\n",
              "      <td>False</td>\n",
              "      <td>4925.98</td>\n",
              "      <td>False</td>\n",
              "      <td>False</td>\n",
              "      <td>1</td>\n",
              "    </tr>\n",
              "    <tr>\n",
              "      <th>641910</th>\n",
              "      <td>186770399</td>\n",
              "      <td>7500</td>\n",
              "      <td>2568.65</td>\n",
              "      <td>2016-12-09 04:20:35</td>\n",
              "      <td>223.70</td>\n",
              "      <td>Blue Mountain eCards</td>\n",
              "      <td>US</td>\n",
              "      <td>US</td>\n",
              "      <td>9</td>\n",
              "      <td>1</td>\n",
              "      <td>online_gifts</td>\n",
              "      <td>2026-05-01</td>\n",
              "      <td>2015-11-04</td>\n",
              "      <td>2016-06-03</td>\n",
              "      <td>PURCHASE</td>\n",
              "      <td>False</td>\n",
              "      <td>4931.35</td>\n",
              "      <td>False</td>\n",
              "      <td>False</td>\n",
              "      <td>1</td>\n",
              "    </tr>\n",
              "    <tr>\n",
              "      <th>641911</th>\n",
              "      <td>186770399</td>\n",
              "      <td>7500</td>\n",
              "      <td>2344.95</td>\n",
              "      <td>2016-12-16 07:58:23</td>\n",
              "      <td>138.42</td>\n",
              "      <td>Fresh Flowers</td>\n",
              "      <td>US</td>\n",
              "      <td>US</td>\n",
              "      <td>2</td>\n",
              "      <td>1</td>\n",
              "      <td>online_gifts</td>\n",
              "      <td>2019-10-01</td>\n",
              "      <td>2015-11-04</td>\n",
              "      <td>2016-06-03</td>\n",
              "      <td>PURCHASE</td>\n",
              "      <td>False</td>\n",
              "      <td>5155.05</td>\n",
              "      <td>False</td>\n",
              "      <td>False</td>\n",
              "      <td>1</td>\n",
              "    </tr>\n",
              "    <tr>\n",
              "      <th>641912</th>\n",
              "      <td>186770399</td>\n",
              "      <td>7500</td>\n",
              "      <td>2206.53</td>\n",
              "      <td>2016-12-19 02:30:35</td>\n",
              "      <td>16.31</td>\n",
              "      <td>abc.com</td>\n",
              "      <td>US</td>\n",
              "      <td>US</td>\n",
              "      <td>9</td>\n",
              "      <td>8</td>\n",
              "      <td>online_subscriptions</td>\n",
              "      <td>2029-11-01</td>\n",
              "      <td>2015-11-04</td>\n",
              "      <td>2016-06-03</td>\n",
              "      <td>PURCHASE</td>\n",
              "      <td>False</td>\n",
              "      <td>5293.47</td>\n",
              "      <td>False</td>\n",
              "      <td>False</td>\n",
              "      <td>1</td>\n",
              "    </tr>\n",
              "    <tr>\n",
              "      <th>641913</th>\n",
              "      <td>186770399</td>\n",
              "      <td>7500</td>\n",
              "      <td>2190.22</td>\n",
              "      <td>2016-12-28 11:14:14</td>\n",
              "      <td>32.53</td>\n",
              "      <td>Next Day Online Services</td>\n",
              "      <td>US</td>\n",
              "      <td>US</td>\n",
              "      <td>9</td>\n",
              "      <td>1</td>\n",
              "      <td>online_gifts</td>\n",
              "      <td>2025-08-01</td>\n",
              "      <td>2015-11-04</td>\n",
              "      <td>2016-06-03</td>\n",
              "      <td>PURCHASE</td>\n",
              "      <td>False</td>\n",
              "      <td>5309.78</td>\n",
              "      <td>False</td>\n",
              "      <td>False</td>\n",
              "      <td>1</td>\n",
              "    </tr>\n",
              "  </tbody>\n",
              "</table>\n",
              "<p>641914 rows × 20 columns</p>\n",
              "</div>\n",
              "      <button class=\"colab-df-convert\" onclick=\"convertToInteractive('df-e04cf043-ebc0-4a6d-9c4d-f116c3aff5bb')\"\n",
              "              title=\"Convert this dataframe to an interactive table.\"\n",
              "              style=\"display:none;\">\n",
              "        \n",
              "  <svg xmlns=\"http://www.w3.org/2000/svg\" height=\"24px\"viewBox=\"0 0 24 24\"\n",
              "       width=\"24px\">\n",
              "    <path d=\"M0 0h24v24H0V0z\" fill=\"none\"/>\n",
              "    <path d=\"M18.56 5.44l.94 2.06.94-2.06 2.06-.94-2.06-.94-.94-2.06-.94 2.06-2.06.94zm-11 1L8.5 8.5l.94-2.06 2.06-.94-2.06-.94L8.5 2.5l-.94 2.06-2.06.94zm10 10l.94 2.06.94-2.06 2.06-.94-2.06-.94-.94-2.06-.94 2.06-2.06.94z\"/><path d=\"M17.41 7.96l-1.37-1.37c-.4-.4-.92-.59-1.43-.59-.52 0-1.04.2-1.43.59L10.3 9.45l-7.72 7.72c-.78.78-.78 2.05 0 2.83L4 21.41c.39.39.9.59 1.41.59.51 0 1.02-.2 1.41-.59l7.78-7.78 2.81-2.81c.8-.78.8-2.07 0-2.86zM5.41 20L4 18.59l7.72-7.72 1.47 1.35L5.41 20z\"/>\n",
              "  </svg>\n",
              "      </button>\n",
              "      \n",
              "  <style>\n",
              "    .colab-df-container {\n",
              "      display:flex;\n",
              "      flex-wrap:wrap;\n",
              "      gap: 12px;\n",
              "    }\n",
              "\n",
              "    .colab-df-convert {\n",
              "      background-color: #E8F0FE;\n",
              "      border: none;\n",
              "      border-radius: 50%;\n",
              "      cursor: pointer;\n",
              "      display: none;\n",
              "      fill: #1967D2;\n",
              "      height: 32px;\n",
              "      padding: 0 0 0 0;\n",
              "      width: 32px;\n",
              "    }\n",
              "\n",
              "    .colab-df-convert:hover {\n",
              "      background-color: #E2EBFA;\n",
              "      box-shadow: 0px 1px 2px rgba(60, 64, 67, 0.3), 0px 1px 3px 1px rgba(60, 64, 67, 0.15);\n",
              "      fill: #174EA6;\n",
              "    }\n",
              "\n",
              "    [theme=dark] .colab-df-convert {\n",
              "      background-color: #3B4455;\n",
              "      fill: #D2E3FC;\n",
              "    }\n",
              "\n",
              "    [theme=dark] .colab-df-convert:hover {\n",
              "      background-color: #434B5C;\n",
              "      box-shadow: 0px 1px 3px 1px rgba(0, 0, 0, 0.15);\n",
              "      filter: drop-shadow(0px 1px 2px rgba(0, 0, 0, 0.3));\n",
              "      fill: #FFFFFF;\n",
              "    }\n",
              "  </style>\n",
              "\n",
              "      <script>\n",
              "        const buttonEl =\n",
              "          document.querySelector('#df-e04cf043-ebc0-4a6d-9c4d-f116c3aff5bb button.colab-df-convert');\n",
              "        buttonEl.style.display =\n",
              "          google.colab.kernel.accessAllowed ? 'block' : 'none';\n",
              "\n",
              "        async function convertToInteractive(key) {\n",
              "          const element = document.querySelector('#df-e04cf043-ebc0-4a6d-9c4d-f116c3aff5bb');\n",
              "          const dataTable =\n",
              "            await google.colab.kernel.invokeFunction('convertToInteractive',\n",
              "                                                     [key], {});\n",
              "          if (!dataTable) return;\n",
              "\n",
              "          const docLinkHtml = 'Like what you see? Visit the ' +\n",
              "            '<a target=\"_blank\" href=https://colab.research.google.com/notebooks/data_table.ipynb>data table notebook</a>'\n",
              "            + ' to learn more about interactive tables.';\n",
              "          element.innerHTML = '';\n",
              "          dataTable['output_type'] = 'display_data';\n",
              "          await google.colab.output.renderOutput(dataTable, element);\n",
              "          const docLink = document.createElement('div');\n",
              "          docLink.innerHTML = docLinkHtml;\n",
              "          element.appendChild(docLink);\n",
              "        }\n",
              "      </script>\n",
              "    </div>\n",
              "  </div>\n",
              "  "
            ]
          },
          "metadata": {},
          "execution_count": 45
        }
      ]
    },
    {
      "cell_type": "code",
      "source": [
        "# dataset untuk bikin model\n",
        "new_df"
      ],
      "metadata": {
        "id": "2Nzgle80N2KP",
        "colab": {
          "base_uri": "https://localhost:8080/",
          "height": 424
        },
        "outputId": "ca28e20c-f8f6-4941-e650-96212cb35214"
      },
      "execution_count": null,
      "outputs": [
        {
          "output_type": "execute_result",
          "data": {
            "text/plain": [
              "        accountNumber  creditLimit  availableMoney  transactionAmount  \\\n",
              "0           733493772         5000         5000.00             111.33   \n",
              "1           733493772         5000         4888.67              24.75   \n",
              "2           733493772         5000         4863.92             187.40   \n",
              "3           733493772         5000         4676.52             227.34   \n",
              "4           733493772         5000         4449.18               0.00   \n",
              "...               ...          ...             ...                ...   \n",
              "641909      186770399         7500         2574.02               5.37   \n",
              "641910      186770399         7500         2568.65             223.70   \n",
              "641911      186770399         7500         2344.95             138.42   \n",
              "641912      186770399         7500         2206.53              16.31   \n",
              "641913      186770399         7500         2190.22              32.53   \n",
              "\n",
              "        posEntryMode  posConditionCode  isFraud  currentBalance  cardPresent  \\\n",
              "0                  5                 1        1            0.00            0   \n",
              "1                  9                 1        0          111.33            0   \n",
              "2                  5                 1        0          136.08            0   \n",
              "3                  2                 1        1          323.48            0   \n",
              "4                  2                 1        0          550.82            0   \n",
              "...              ...               ...      ...             ...          ...   \n",
              "641909             5                 8        0         4925.98            0   \n",
              "641910             9                 1        0         4931.35            0   \n",
              "641911             2                 1        0         5155.05            0   \n",
              "641912             9                 8        0         5293.47            0   \n",
              "641913             9                 1        0         5309.78            0   \n",
              "\n",
              "        expirationDateKeyInMatch  CVV_Valid  \n",
              "0                              0          1  \n",
              "1                              0          1  \n",
              "2                              0          1  \n",
              "3                              0          1  \n",
              "4                              0          1  \n",
              "...                          ...        ...  \n",
              "641909                         0          1  \n",
              "641910                         0          1  \n",
              "641911                         0          1  \n",
              "641912                         0          1  \n",
              "641913                         0          1  \n",
              "\n",
              "[641914 rows x 11 columns]"
            ],
            "text/html": [
              "\n",
              "  <div id=\"df-93a02059-3ec7-48e9-99b8-1d2c14010b78\">\n",
              "    <div class=\"colab-df-container\">\n",
              "      <div>\n",
              "<style scoped>\n",
              "    .dataframe tbody tr th:only-of-type {\n",
              "        vertical-align: middle;\n",
              "    }\n",
              "\n",
              "    .dataframe tbody tr th {\n",
              "        vertical-align: top;\n",
              "    }\n",
              "\n",
              "    .dataframe thead th {\n",
              "        text-align: right;\n",
              "    }\n",
              "</style>\n",
              "<table border=\"1\" class=\"dataframe\">\n",
              "  <thead>\n",
              "    <tr style=\"text-align: right;\">\n",
              "      <th></th>\n",
              "      <th>accountNumber</th>\n",
              "      <th>creditLimit</th>\n",
              "      <th>availableMoney</th>\n",
              "      <th>transactionAmount</th>\n",
              "      <th>posEntryMode</th>\n",
              "      <th>posConditionCode</th>\n",
              "      <th>isFraud</th>\n",
              "      <th>currentBalance</th>\n",
              "      <th>cardPresent</th>\n",
              "      <th>expirationDateKeyInMatch</th>\n",
              "      <th>CVV_Valid</th>\n",
              "    </tr>\n",
              "  </thead>\n",
              "  <tbody>\n",
              "    <tr>\n",
              "      <th>0</th>\n",
              "      <td>733493772</td>\n",
              "      <td>5000</td>\n",
              "      <td>5000.00</td>\n",
              "      <td>111.33</td>\n",
              "      <td>5</td>\n",
              "      <td>1</td>\n",
              "      <td>1</td>\n",
              "      <td>0.00</td>\n",
              "      <td>0</td>\n",
              "      <td>0</td>\n",
              "      <td>1</td>\n",
              "    </tr>\n",
              "    <tr>\n",
              "      <th>1</th>\n",
              "      <td>733493772</td>\n",
              "      <td>5000</td>\n",
              "      <td>4888.67</td>\n",
              "      <td>24.75</td>\n",
              "      <td>9</td>\n",
              "      <td>1</td>\n",
              "      <td>0</td>\n",
              "      <td>111.33</td>\n",
              "      <td>0</td>\n",
              "      <td>0</td>\n",
              "      <td>1</td>\n",
              "    </tr>\n",
              "    <tr>\n",
              "      <th>2</th>\n",
              "      <td>733493772</td>\n",
              "      <td>5000</td>\n",
              "      <td>4863.92</td>\n",
              "      <td>187.40</td>\n",
              "      <td>5</td>\n",
              "      <td>1</td>\n",
              "      <td>0</td>\n",
              "      <td>136.08</td>\n",
              "      <td>0</td>\n",
              "      <td>0</td>\n",
              "      <td>1</td>\n",
              "    </tr>\n",
              "    <tr>\n",
              "      <th>3</th>\n",
              "      <td>733493772</td>\n",
              "      <td>5000</td>\n",
              "      <td>4676.52</td>\n",
              "      <td>227.34</td>\n",
              "      <td>2</td>\n",
              "      <td>1</td>\n",
              "      <td>1</td>\n",
              "      <td>323.48</td>\n",
              "      <td>0</td>\n",
              "      <td>0</td>\n",
              "      <td>1</td>\n",
              "    </tr>\n",
              "    <tr>\n",
              "      <th>4</th>\n",
              "      <td>733493772</td>\n",
              "      <td>5000</td>\n",
              "      <td>4449.18</td>\n",
              "      <td>0.00</td>\n",
              "      <td>2</td>\n",
              "      <td>1</td>\n",
              "      <td>0</td>\n",
              "      <td>550.82</td>\n",
              "      <td>0</td>\n",
              "      <td>0</td>\n",
              "      <td>1</td>\n",
              "    </tr>\n",
              "    <tr>\n",
              "      <th>...</th>\n",
              "      <td>...</td>\n",
              "      <td>...</td>\n",
              "      <td>...</td>\n",
              "      <td>...</td>\n",
              "      <td>...</td>\n",
              "      <td>...</td>\n",
              "      <td>...</td>\n",
              "      <td>...</td>\n",
              "      <td>...</td>\n",
              "      <td>...</td>\n",
              "      <td>...</td>\n",
              "    </tr>\n",
              "    <tr>\n",
              "      <th>641909</th>\n",
              "      <td>186770399</td>\n",
              "      <td>7500</td>\n",
              "      <td>2574.02</td>\n",
              "      <td>5.37</td>\n",
              "      <td>5</td>\n",
              "      <td>8</td>\n",
              "      <td>0</td>\n",
              "      <td>4925.98</td>\n",
              "      <td>0</td>\n",
              "      <td>0</td>\n",
              "      <td>1</td>\n",
              "    </tr>\n",
              "    <tr>\n",
              "      <th>641910</th>\n",
              "      <td>186770399</td>\n",
              "      <td>7500</td>\n",
              "      <td>2568.65</td>\n",
              "      <td>223.70</td>\n",
              "      <td>9</td>\n",
              "      <td>1</td>\n",
              "      <td>0</td>\n",
              "      <td>4931.35</td>\n",
              "      <td>0</td>\n",
              "      <td>0</td>\n",
              "      <td>1</td>\n",
              "    </tr>\n",
              "    <tr>\n",
              "      <th>641911</th>\n",
              "      <td>186770399</td>\n",
              "      <td>7500</td>\n",
              "      <td>2344.95</td>\n",
              "      <td>138.42</td>\n",
              "      <td>2</td>\n",
              "      <td>1</td>\n",
              "      <td>0</td>\n",
              "      <td>5155.05</td>\n",
              "      <td>0</td>\n",
              "      <td>0</td>\n",
              "      <td>1</td>\n",
              "    </tr>\n",
              "    <tr>\n",
              "      <th>641912</th>\n",
              "      <td>186770399</td>\n",
              "      <td>7500</td>\n",
              "      <td>2206.53</td>\n",
              "      <td>16.31</td>\n",
              "      <td>9</td>\n",
              "      <td>8</td>\n",
              "      <td>0</td>\n",
              "      <td>5293.47</td>\n",
              "      <td>0</td>\n",
              "      <td>0</td>\n",
              "      <td>1</td>\n",
              "    </tr>\n",
              "    <tr>\n",
              "      <th>641913</th>\n",
              "      <td>186770399</td>\n",
              "      <td>7500</td>\n",
              "      <td>2190.22</td>\n",
              "      <td>32.53</td>\n",
              "      <td>9</td>\n",
              "      <td>1</td>\n",
              "      <td>0</td>\n",
              "      <td>5309.78</td>\n",
              "      <td>0</td>\n",
              "      <td>0</td>\n",
              "      <td>1</td>\n",
              "    </tr>\n",
              "  </tbody>\n",
              "</table>\n",
              "<p>641914 rows × 11 columns</p>\n",
              "</div>\n",
              "      <button class=\"colab-df-convert\" onclick=\"convertToInteractive('df-93a02059-3ec7-48e9-99b8-1d2c14010b78')\"\n",
              "              title=\"Convert this dataframe to an interactive table.\"\n",
              "              style=\"display:none;\">\n",
              "        \n",
              "  <svg xmlns=\"http://www.w3.org/2000/svg\" height=\"24px\"viewBox=\"0 0 24 24\"\n",
              "       width=\"24px\">\n",
              "    <path d=\"M0 0h24v24H0V0z\" fill=\"none\"/>\n",
              "    <path d=\"M18.56 5.44l.94 2.06.94-2.06 2.06-.94-2.06-.94-.94-2.06-.94 2.06-2.06.94zm-11 1L8.5 8.5l.94-2.06 2.06-.94-2.06-.94L8.5 2.5l-.94 2.06-2.06.94zm10 10l.94 2.06.94-2.06 2.06-.94-2.06-.94-.94-2.06-.94 2.06-2.06.94z\"/><path d=\"M17.41 7.96l-1.37-1.37c-.4-.4-.92-.59-1.43-.59-.52 0-1.04.2-1.43.59L10.3 9.45l-7.72 7.72c-.78.78-.78 2.05 0 2.83L4 21.41c.39.39.9.59 1.41.59.51 0 1.02-.2 1.41-.59l7.78-7.78 2.81-2.81c.8-.78.8-2.07 0-2.86zM5.41 20L4 18.59l7.72-7.72 1.47 1.35L5.41 20z\"/>\n",
              "  </svg>\n",
              "      </button>\n",
              "      \n",
              "  <style>\n",
              "    .colab-df-container {\n",
              "      display:flex;\n",
              "      flex-wrap:wrap;\n",
              "      gap: 12px;\n",
              "    }\n",
              "\n",
              "    .colab-df-convert {\n",
              "      background-color: #E8F0FE;\n",
              "      border: none;\n",
              "      border-radius: 50%;\n",
              "      cursor: pointer;\n",
              "      display: none;\n",
              "      fill: #1967D2;\n",
              "      height: 32px;\n",
              "      padding: 0 0 0 0;\n",
              "      width: 32px;\n",
              "    }\n",
              "\n",
              "    .colab-df-convert:hover {\n",
              "      background-color: #E2EBFA;\n",
              "      box-shadow: 0px 1px 2px rgba(60, 64, 67, 0.3), 0px 1px 3px 1px rgba(60, 64, 67, 0.15);\n",
              "      fill: #174EA6;\n",
              "    }\n",
              "\n",
              "    [theme=dark] .colab-df-convert {\n",
              "      background-color: #3B4455;\n",
              "      fill: #D2E3FC;\n",
              "    }\n",
              "\n",
              "    [theme=dark] .colab-df-convert:hover {\n",
              "      background-color: #434B5C;\n",
              "      box-shadow: 0px 1px 3px 1px rgba(0, 0, 0, 0.15);\n",
              "      filter: drop-shadow(0px 1px 2px rgba(0, 0, 0, 0.3));\n",
              "      fill: #FFFFFF;\n",
              "    }\n",
              "  </style>\n",
              "\n",
              "      <script>\n",
              "        const buttonEl =\n",
              "          document.querySelector('#df-93a02059-3ec7-48e9-99b8-1d2c14010b78 button.colab-df-convert');\n",
              "        buttonEl.style.display =\n",
              "          google.colab.kernel.accessAllowed ? 'block' : 'none';\n",
              "\n",
              "        async function convertToInteractive(key) {\n",
              "          const element = document.querySelector('#df-93a02059-3ec7-48e9-99b8-1d2c14010b78');\n",
              "          const dataTable =\n",
              "            await google.colab.kernel.invokeFunction('convertToInteractive',\n",
              "                                                     [key], {});\n",
              "          if (!dataTable) return;\n",
              "\n",
              "          const docLinkHtml = 'Like what you see? Visit the ' +\n",
              "            '<a target=\"_blank\" href=https://colab.research.google.com/notebooks/data_table.ipynb>data table notebook</a>'\n",
              "            + ' to learn more about interactive tables.';\n",
              "          element.innerHTML = '';\n",
              "          dataTable['output_type'] = 'display_data';\n",
              "          await google.colab.output.renderOutput(dataTable, element);\n",
              "          const docLink = document.createElement('div');\n",
              "          docLink.innerHTML = docLinkHtml;\n",
              "          element.appendChild(docLink);\n",
              "        }\n",
              "      </script>\n",
              "    </div>\n",
              "  </div>\n",
              "  "
            ]
          },
          "metadata": {},
          "execution_count": 46
        }
      ]
    },
    {
      "cell_type": "markdown",
      "source": [
        "# **answer question dasboard**"
      ],
      "metadata": {
        "id": "_FOUeKcbad0v"
      }
    },
    {
      "cell_type": "markdown",
      "source": [
        "deskripsi proses : menjawab pertanyaan - pertanyaan final project"
      ],
      "metadata": {
        "id": "k1Zg3U4Tqv7Y"
      }
    },
    {
      "cell_type": "code",
      "execution_count": null,
      "metadata": {
        "id": "j25cqC-U66Lp",
        "colab": {
          "base_uri": "https://localhost:8080/",
          "height": 112
        },
        "outputId": "681a9ac6-771d-4e46-f44a-b2bb16edba5c"
      },
      "outputs": [
        {
          "output_type": "execute_result",
          "data": {
            "text/plain": [
              "   isFraud  transaction\n",
              "0    False       630612\n",
              "1     True        11302"
            ],
            "text/html": [
              "\n",
              "  <div id=\"df-94f68cf0-2f99-4b35-9c04-c145241767d6\">\n",
              "    <div class=\"colab-df-container\">\n",
              "      <div>\n",
              "<style scoped>\n",
              "    .dataframe tbody tr th:only-of-type {\n",
              "        vertical-align: middle;\n",
              "    }\n",
              "\n",
              "    .dataframe tbody tr th {\n",
              "        vertical-align: top;\n",
              "    }\n",
              "\n",
              "    .dataframe thead th {\n",
              "        text-align: right;\n",
              "    }\n",
              "</style>\n",
              "<table border=\"1\" class=\"dataframe\">\n",
              "  <thead>\n",
              "    <tr style=\"text-align: right;\">\n",
              "      <th></th>\n",
              "      <th>isFraud</th>\n",
              "      <th>transaction</th>\n",
              "    </tr>\n",
              "  </thead>\n",
              "  <tbody>\n",
              "    <tr>\n",
              "      <th>0</th>\n",
              "      <td>False</td>\n",
              "      <td>630612</td>\n",
              "    </tr>\n",
              "    <tr>\n",
              "      <th>1</th>\n",
              "      <td>True</td>\n",
              "      <td>11302</td>\n",
              "    </tr>\n",
              "  </tbody>\n",
              "</table>\n",
              "</div>\n",
              "      <button class=\"colab-df-convert\" onclick=\"convertToInteractive('df-94f68cf0-2f99-4b35-9c04-c145241767d6')\"\n",
              "              title=\"Convert this dataframe to an interactive table.\"\n",
              "              style=\"display:none;\">\n",
              "        \n",
              "  <svg xmlns=\"http://www.w3.org/2000/svg\" height=\"24px\"viewBox=\"0 0 24 24\"\n",
              "       width=\"24px\">\n",
              "    <path d=\"M0 0h24v24H0V0z\" fill=\"none\"/>\n",
              "    <path d=\"M18.56 5.44l.94 2.06.94-2.06 2.06-.94-2.06-.94-.94-2.06-.94 2.06-2.06.94zm-11 1L8.5 8.5l.94-2.06 2.06-.94-2.06-.94L8.5 2.5l-.94 2.06-2.06.94zm10 10l.94 2.06.94-2.06 2.06-.94-2.06-.94-.94-2.06-.94 2.06-2.06.94z\"/><path d=\"M17.41 7.96l-1.37-1.37c-.4-.4-.92-.59-1.43-.59-.52 0-1.04.2-1.43.59L10.3 9.45l-7.72 7.72c-.78.78-.78 2.05 0 2.83L4 21.41c.39.39.9.59 1.41.59.51 0 1.02-.2 1.41-.59l7.78-7.78 2.81-2.81c.8-.78.8-2.07 0-2.86zM5.41 20L4 18.59l7.72-7.72 1.47 1.35L5.41 20z\"/>\n",
              "  </svg>\n",
              "      </button>\n",
              "      \n",
              "  <style>\n",
              "    .colab-df-container {\n",
              "      display:flex;\n",
              "      flex-wrap:wrap;\n",
              "      gap: 12px;\n",
              "    }\n",
              "\n",
              "    .colab-df-convert {\n",
              "      background-color: #E8F0FE;\n",
              "      border: none;\n",
              "      border-radius: 50%;\n",
              "      cursor: pointer;\n",
              "      display: none;\n",
              "      fill: #1967D2;\n",
              "      height: 32px;\n",
              "      padding: 0 0 0 0;\n",
              "      width: 32px;\n",
              "    }\n",
              "\n",
              "    .colab-df-convert:hover {\n",
              "      background-color: #E2EBFA;\n",
              "      box-shadow: 0px 1px 2px rgba(60, 64, 67, 0.3), 0px 1px 3px 1px rgba(60, 64, 67, 0.15);\n",
              "      fill: #174EA6;\n",
              "    }\n",
              "\n",
              "    [theme=dark] .colab-df-convert {\n",
              "      background-color: #3B4455;\n",
              "      fill: #D2E3FC;\n",
              "    }\n",
              "\n",
              "    [theme=dark] .colab-df-convert:hover {\n",
              "      background-color: #434B5C;\n",
              "      box-shadow: 0px 1px 3px 1px rgba(0, 0, 0, 0.15);\n",
              "      filter: drop-shadow(0px 1px 2px rgba(0, 0, 0, 0.3));\n",
              "      fill: #FFFFFF;\n",
              "    }\n",
              "  </style>\n",
              "\n",
              "      <script>\n",
              "        const buttonEl =\n",
              "          document.querySelector('#df-94f68cf0-2f99-4b35-9c04-c145241767d6 button.colab-df-convert');\n",
              "        buttonEl.style.display =\n",
              "          google.colab.kernel.accessAllowed ? 'block' : 'none';\n",
              "\n",
              "        async function convertToInteractive(key) {\n",
              "          const element = document.querySelector('#df-94f68cf0-2f99-4b35-9c04-c145241767d6');\n",
              "          const dataTable =\n",
              "            await google.colab.kernel.invokeFunction('convertToInteractive',\n",
              "                                                     [key], {});\n",
              "          if (!dataTable) return;\n",
              "\n",
              "          const docLinkHtml = 'Like what you see? Visit the ' +\n",
              "            '<a target=\"_blank\" href=https://colab.research.google.com/notebooks/data_table.ipynb>data table notebook</a>'\n",
              "            + ' to learn more about interactive tables.';\n",
              "          element.innerHTML = '';\n",
              "          dataTable['output_type'] = 'display_data';\n",
              "          await google.colab.output.renderOutput(dataTable, element);\n",
              "          const docLink = document.createElement('div');\n",
              "          docLink.innerHTML = docLinkHtml;\n",
              "          element.appendChild(docLink);\n",
              "        }\n",
              "      </script>\n",
              "    </div>\n",
              "  </div>\n",
              "  "
            ]
          },
          "metadata": {},
          "execution_count": 26
        }
      ],
      "source": [
        "# kasus No 1\n",
        "df2=df.value_counts('isFraud').reset_index()\n",
        "df2=df2.rename({ 0: 'transaction'}, axis=1)\n",
        "df2"
      ]
    },
    {
      "cell_type": "code",
      "execution_count": null,
      "metadata": {
        "colab": {
          "base_uri": "https://localhost:8080/",
          "height": 374
        },
        "id": "l7lvs5Bv7AAq",
        "outputId": "5d0ea382-164e-4974-c0d4-2252a603e79b"
      },
      "outputs": [
        {
          "output_type": "display_data",
          "data": {
            "text/plain": [
              "<Figure size 720x432 with 1 Axes>"
            ],
            "image/png": "[encoded data removed]"
          },
          "metadata": {}
        }
      ],
      "source": [
        "#kasus no 2\n",
        "pie,ax1 = plt.subplots(figsize=[10,6])\n",
        "ax1.pie(df2['transaction'], labels=df2['isFraud'], autopct='%1.1f%%',explode=[0.05,0], startangle=183)\n",
        "plt.title(\"how many % transaction is fraud ?\", fontsize=14)\n",
        "plt.show()"
      ]
    },
    {
      "cell_type": "code",
      "source": [
        "# Kasus No.3\n",
        "top_merchant = df['merchantName'].mode()[0]\n",
        "print('The name of the top merchants is', top_merchant)"
      ],
      "metadata": {
        "id": "w1QDkyIkxwfq",
        "colab": {
          "base_uri": "https://localhost:8080/"
        },
        "outputId": "527cab1e-d816-4559-a3b2-135778f591ce"
      },
      "execution_count": null,
      "outputs": [
        {
          "output_type": "stream",
          "name": "stdout",
          "text": [
            "The name of the top merchants is Lyft\n"
          ]
        }
      ]
    },
    {
      "cell_type": "code",
      "source": [
        "counts=df['merchantName'].value_counts()\n",
        "counts"
      ],
      "metadata": {
        "id": "PfqzA11Sp2xH",
        "colab": {
          "base_uri": "https://localhost:8080/"
        },
        "outputId": "f6f61b9c-ed1a-4c19-8e8b-6b49aed3b66e"
      },
      "execution_count": null,
      "outputs": [
        {
          "output_type": "execute_result",
          "data": {
            "text/plain": [
              "Lyft                             25311\n",
              "Uber                             25263\n",
              "gap.com                          13824\n",
              "apple.com                        13607\n",
              "target.com                       13601\n",
              "                                 ...  \n",
              "EZ Wireless #640866                  1\n",
              "Sprint Communications #485210        1\n",
              "Fast Mobile #685186                  1\n",
              "Virgin #683645                       1\n",
              "Boost Mobile #745135                 1\n",
              "Name: merchantName, Length: 2493, dtype: int64"
            ]
          },
          "metadata": {},
          "execution_count": 34
        }
      ]
    },
    {
      "cell_type": "code",
      "execution_count": null,
      "metadata": {
        "colab": {
          "base_uri": "https://localhost:8080/",
          "height": 81
        },
        "id": "lc9i2is0_OMr",
        "outputId": "50b3f5e4-af0d-4802-d039-58e42b551040"
      },
      "outputs": [
        {
          "output_type": "execute_result",
          "data": {
            "text/plain": [
              "      transactionAmount\n",
              "mean         135.162497"
            ],
            "text/html": [
              "\n",
              "  <div id=\"df-7350c6a0-c54a-481c-b9db-41d208db985d\">\n",
              "    <div class=\"colab-df-container\">\n",
              "      <div>\n",
              "<style scoped>\n",
              "    .dataframe tbody tr th:only-of-type {\n",
              "        vertical-align: middle;\n",
              "    }\n",
              "\n",
              "    .dataframe tbody tr th {\n",
              "        vertical-align: top;\n",
              "    }\n",
              "\n",
              "    .dataframe thead th {\n",
              "        text-align: right;\n",
              "    }\n",
              "</style>\n",
              "<table border=\"1\" class=\"dataframe\">\n",
              "  <thead>\n",
              "    <tr style=\"text-align: right;\">\n",
              "      <th></th>\n",
              "      <th>transactionAmount</th>\n",
              "    </tr>\n",
              "  </thead>\n",
              "  <tbody>\n",
              "    <tr>\n",
              "      <th>mean</th>\n",
              "      <td>135.162497</td>\n",
              "    </tr>\n",
              "  </tbody>\n",
              "</table>\n",
              "</div>\n",
              "      <button class=\"colab-df-convert\" onclick=\"convertToInteractive('df-7350c6a0-c54a-481c-b9db-41d208db985d')\"\n",
              "              title=\"Convert this dataframe to an interactive table.\"\n",
              "              style=\"display:none;\">\n",
              "        \n",
              "  <svg xmlns=\"http://www.w3.org/2000/svg\" height=\"24px\"viewBox=\"0 0 24 24\"\n",
              "       width=\"24px\">\n",
              "    <path d=\"M0 0h24v24H0V0z\" fill=\"none\"/>\n",
              "    <path d=\"M18.56 5.44l.94 2.06.94-2.06 2.06-.94-2.06-.94-.94-2.06-.94 2.06-2.06.94zm-11 1L8.5 8.5l.94-2.06 2.06-.94-2.06-.94L8.5 2.5l-.94 2.06-2.06.94zm10 10l.94 2.06.94-2.06 2.06-.94-2.06-.94-.94-2.06-.94 2.06-2.06.94z\"/><path d=\"M17.41 7.96l-1.37-1.37c-.4-.4-.92-.59-1.43-.59-.52 0-1.04.2-1.43.59L10.3 9.45l-7.72 7.72c-.78.78-.78 2.05 0 2.83L4 21.41c.39.39.9.59 1.41.59.51 0 1.02-.2 1.41-.59l7.78-7.78 2.81-2.81c.8-.78.8-2.07 0-2.86zM5.41 20L4 18.59l7.72-7.72 1.47 1.35L5.41 20z\"/>\n",
              "  </svg>\n",
              "      </button>\n",
              "      \n",
              "  <style>\n",
              "    .colab-df-container {\n",
              "      display:flex;\n",
              "      flex-wrap:wrap;\n",
              "      gap: 12px;\n",
              "    }\n",
              "\n",
              "    .colab-df-convert {\n",
              "      background-color: #E8F0FE;\n",
              "      border: none;\n",
              "      border-radius: 50%;\n",
              "      cursor: pointer;\n",
              "      display: none;\n",
              "      fill: #1967D2;\n",
              "      height: 32px;\n",
              "      padding: 0 0 0 0;\n",
              "      width: 32px;\n",
              "    }\n",
              "\n",
              "    .colab-df-convert:hover {\n",
              "      background-color: #E2EBFA;\n",
              "      box-shadow: 0px 1px 2px rgba(60, 64, 67, 0.3), 0px 1px 3px 1px rgba(60, 64, 67, 0.15);\n",
              "      fill: #174EA6;\n",
              "    }\n",
              "\n",
              "    [theme=dark] .colab-df-convert {\n",
              "      background-color: #3B4455;\n",
              "      fill: #D2E3FC;\n",
              "    }\n",
              "\n",
              "    [theme=dark] .colab-df-convert:hover {\n",
              "      background-color: #434B5C;\n",
              "      box-shadow: 0px 1px 3px 1px rgba(0, 0, 0, 0.15);\n",
              "      filter: drop-shadow(0px 1px 2px rgba(0, 0, 0, 0.3));\n",
              "      fill: #FFFFFF;\n",
              "    }\n",
              "  </style>\n",
              "\n",
              "      <script>\n",
              "        const buttonEl =\n",
              "          document.querySelector('#df-7350c6a0-c54a-481c-b9db-41d208db985d button.colab-df-convert');\n",
              "        buttonEl.style.display =\n",
              "          google.colab.kernel.accessAllowed ? 'block' : 'none';\n",
              "\n",
              "        async function convertToInteractive(key) {\n",
              "          const element = document.querySelector('#df-7350c6a0-c54a-481c-b9db-41d208db985d');\n",
              "          const dataTable =\n",
              "            await google.colab.kernel.invokeFunction('convertToInteractive',\n",
              "                                                     [key], {});\n",
              "          if (!dataTable) return;\n",
              "\n",
              "          const docLinkHtml = 'Like what you see? Visit the ' +\n",
              "            '<a target=\"_blank\" href=https://colab.research.google.com/notebooks/data_table.ipynb>data table notebook</a>'\n",
              "            + ' to learn more about interactive tables.';\n",
              "          element.innerHTML = '';\n",
              "          dataTable['output_type'] = 'display_data';\n",
              "          await google.colab.output.renderOutput(dataTable, element);\n",
              "          const docLink = document.createElement('div');\n",
              "          docLink.innerHTML = docLinkHtml;\n",
              "          element.appendChild(docLink);\n",
              "        }\n",
              "      </script>\n",
              "    </div>\n",
              "  </div>\n",
              "  "
            ]
          },
          "metadata": {},
          "execution_count": 29
        }
      ],
      "source": [
        "# kasus No.4\n",
        "mean = df.agg({'transactionAmount': ['mean']})\n",
        "mean"
      ]
    },
    {
      "cell_type": "code",
      "execution_count": null,
      "metadata": {
        "colab": {
          "base_uri": "https://localhost:8080/",
          "height": 175
        },
        "id": "9IUBZOo3AHTn",
        "outputId": "604b3ad2-4a03-437d-e654-3efcd665cb46"
      },
      "outputs": [
        {
          "output_type": "execute_result",
          "data": {
            "text/plain": [
              "        transactionAmount\n",
              "                     mean\n",
              "isFraud                  \n",
              "False          133.416128\n",
              "True           232.603744"
            ],
            "text/html": [
              "\n",
              "  <div id=\"df-859df359-acc0-4fbb-92f4-aa29348ad8ac\">\n",
              "    <div class=\"colab-df-container\">\n",
              "      <div>\n",
              "<style scoped>\n",
              "    .dataframe tbody tr th:only-of-type {\n",
              "        vertical-align: middle;\n",
              "    }\n",
              "\n",
              "    .dataframe tbody tr th {\n",
              "        vertical-align: top;\n",
              "    }\n",
              "\n",
              "    .dataframe thead tr th {\n",
              "        text-align: left;\n",
              "    }\n",
              "\n",
              "    .dataframe thead tr:last-of-type th {\n",
              "        text-align: right;\n",
              "    }\n",
              "</style>\n",
              "<table border=\"1\" class=\"dataframe\">\n",
              "  <thead>\n",
              "    <tr>\n",
              "      <th></th>\n",
              "      <th>transactionAmount</th>\n",
              "    </tr>\n",
              "    <tr>\n",
              "      <th></th>\n",
              "      <th>mean</th>\n",
              "    </tr>\n",
              "    <tr>\n",
              "      <th>isFraud</th>\n",
              "      <th></th>\n",
              "    </tr>\n",
              "  </thead>\n",
              "  <tbody>\n",
              "    <tr>\n",
              "      <th>False</th>\n",
              "      <td>133.416128</td>\n",
              "    </tr>\n",
              "    <tr>\n",
              "      <th>True</th>\n",
              "      <td>232.603744</td>\n",
              "    </tr>\n",
              "  </tbody>\n",
              "</table>\n",
              "</div>\n",
              "      <button class=\"colab-df-convert\" onclick=\"convertToInteractive('df-859df359-acc0-4fbb-92f4-aa29348ad8ac')\"\n",
              "              title=\"Convert this dataframe to an interactive table.\"\n",
              "              style=\"display:none;\">\n",
              "        \n",
              "  <svg xmlns=\"http://www.w3.org/2000/svg\" height=\"24px\"viewBox=\"0 0 24 24\"\n",
              "       width=\"24px\">\n",
              "    <path d=\"M0 0h24v24H0V0z\" fill=\"none\"/>\n",
              "    <path d=\"M18.56 5.44l.94 2.06.94-2.06 2.06-.94-2.06-.94-.94-2.06-.94 2.06-2.06.94zm-11 1L8.5 8.5l.94-2.06 2.06-.94-2.06-.94L8.5 2.5l-.94 2.06-2.06.94zm10 10l.94 2.06.94-2.06 2.06-.94-2.06-.94-.94-2.06-.94 2.06-2.06.94z\"/><path d=\"M17.41 7.96l-1.37-1.37c-.4-.4-.92-.59-1.43-.59-.52 0-1.04.2-1.43.59L10.3 9.45l-7.72 7.72c-.78.78-.78 2.05 0 2.83L4 21.41c.39.39.9.59 1.41.59.51 0 1.02-.2 1.41-.59l7.78-7.78 2.81-2.81c.8-.78.8-2.07 0-2.86zM5.41 20L4 18.59l7.72-7.72 1.47 1.35L5.41 20z\"/>\n",
              "  </svg>\n",
              "      </button>\n",
              "      \n",
              "  <style>\n",
              "    .colab-df-container {\n",
              "      display:flex;\n",
              "      flex-wrap:wrap;\n",
              "      gap: 12px;\n",
              "    }\n",
              "\n",
              "    .colab-df-convert {\n",
              "      background-color: #E8F0FE;\n",
              "      border: none;\n",
              "      border-radius: 50%;\n",
              "      cursor: pointer;\n",
              "      display: none;\n",
              "      fill: #1967D2;\n",
              "      height: 32px;\n",
              "      padding: 0 0 0 0;\n",
              "      width: 32px;\n",
              "    }\n",
              "\n",
              "    .colab-df-convert:hover {\n",
              "      background-color: #E2EBFA;\n",
              "      box-shadow: 0px 1px 2px rgba(60, 64, 67, 0.3), 0px 1px 3px 1px rgba(60, 64, 67, 0.15);\n",
              "      fill: #174EA6;\n",
              "    }\n",
              "\n",
              "    [theme=dark] .colab-df-convert {\n",
              "      background-color: #3B4455;\n",
              "      fill: #D2E3FC;\n",
              "    }\n",
              "\n",
              "    [theme=dark] .colab-df-convert:hover {\n",
              "      background-color: #434B5C;\n",
              "      box-shadow: 0px 1px 3px 1px rgba(0, 0, 0, 0.15);\n",
              "      filter: drop-shadow(0px 1px 2px rgba(0, 0, 0, 0.3));\n",
              "      fill: #FFFFFF;\n",
              "    }\n",
              "  </style>\n",
              "\n",
              "      <script>\n",
              "        const buttonEl =\n",
              "          document.querySelector('#df-859df359-acc0-4fbb-92f4-aa29348ad8ac button.colab-df-convert');\n",
              "        buttonEl.style.display =\n",
              "          google.colab.kernel.accessAllowed ? 'block' : 'none';\n",
              "\n",
              "        async function convertToInteractive(key) {\n",
              "          const element = document.querySelector('#df-859df359-acc0-4fbb-92f4-aa29348ad8ac');\n",
              "          const dataTable =\n",
              "            await google.colab.kernel.invokeFunction('convertToInteractive',\n",
              "                                                     [key], {});\n",
              "          if (!dataTable) return;\n",
              "\n",
              "          const docLinkHtml = 'Like what you see? Visit the ' +\n",
              "            '<a target=\"_blank\" href=https://colab.research.google.com/notebooks/data_table.ipynb>data table notebook</a>'\n",
              "            + ' to learn more about interactive tables.';\n",
              "          element.innerHTML = '';\n",
              "          dataTable['output_type'] = 'display_data';\n",
              "          await google.colab.output.renderOutput(dataTable, element);\n",
              "          const docLink = document.createElement('div');\n",
              "          docLink.innerHTML = docLinkHtml;\n",
              "          element.appendChild(docLink);\n",
              "        }\n",
              "      </script>\n",
              "    </div>\n",
              "  </div>\n",
              "  "
            ]
          },
          "metadata": {},
          "execution_count": 30
        }
      ],
      "source": [
        "# kasus No.5 & 6\n",
        "\n",
        "df4=df.groupby('isFraud').agg({'transactionAmount': ['mean']})\n",
        "df4"
      ]
    },
    {
      "cell_type": "code",
      "source": [
        "# Kasus No.7\n",
        "\n",
        "df.sort_values(by=['accountOpenDate'], ascending=True)"
      ],
      "metadata": {
        "id": "IzaUTMNzzBXM",
        "colab": {
          "base_uri": "https://localhost:8080/",
          "height": 609
        },
        "outputId": "5d4ecbc5-1b87-4d67-8c5c-30fce4eb431c"
      },
      "execution_count": null,
      "outputs": [
        {
          "output_type": "execute_result",
          "data": {
            "text/plain": [
              "        accountNumber  creditLimit  availableMoney transactionDateTime  \\\n",
              "305722      789836144         5000         4704.46 2016-05-04 22:35:16   \n",
              "305734      789836144         5000         3401.86 2016-08-19 17:37:40   \n",
              "305735      789836144         5000         3380.82 2016-09-02 21:59:08   \n",
              "305736      789836144         5000         3336.37 2016-09-17 06:30:09   \n",
              "305737      789836144         5000         3290.52 2016-09-30 16:41:39   \n",
              "...               ...          ...             ...                 ...   \n",
              "452453      890796581        15000        14979.45 2016-11-06 01:53:06   \n",
              "452452      890796581        15000          794.51 2016-11-05 17:49:26   \n",
              "452451      890796581        15000          885.87 2016-11-04 09:45:41   \n",
              "452461      890796581        15000        14402.46 2016-11-10 04:42:17   \n",
              "505263      783343390        15000        13502.50 2016-07-26 01:59:13   \n",
              "\n",
              "        transactionAmount           merchantName acqCountry  \\\n",
              "305722              14.73               53rd Spa         US   \n",
              "305734              46.04      Shell Gas #359650         US   \n",
              "305735              44.45      Shell Gas #359650         US   \n",
              "305736              45.85      Shell Gas #359650         US   \n",
              "305737              45.85      Shell Gas #359650         US   \n",
              "...                   ...                    ...        ...   \n",
              "452453               0.00   EZ Putt Putt #240241         US   \n",
              "452452             275.06  Auntie Anne's #579144         US   \n",
              "452451              91.36            AMC #706324         US   \n",
              "452461               3.88   EZ Putt Putt #551896         US   \n",
              "505263              47.33                   Lyft         US   \n",
              "\n",
              "       merchantCountryCode  posEntryMode  posConditionCode  \\\n",
              "305722                  US             9                 1   \n",
              "305734                  US             2                 1   \n",
              "305735                  US             2                 1   \n",
              "305736                  US             2                 1   \n",
              "305737                  US             2                 1   \n",
              "...                    ...           ...               ...   \n",
              "452453                  US             5                 8   \n",
              "452452                  US             9                 1   \n",
              "452451                  US             2                 1   \n",
              "452461                  US             5                 1   \n",
              "505263                  US             5                 1   \n",
              "\n",
              "       merchantCategoryCode currentExpDate accountOpenDate  \\\n",
              "305722        personal care     2029-01-01      1985-12-25   \n",
              "305734                 fuel     2031-05-01      1985-12-25   \n",
              "305735                 fuel     2031-05-01      1985-12-25   \n",
              "305736                 fuel     2031-05-01      1985-12-25   \n",
              "305737                 fuel     2031-05-01      1985-12-25   \n",
              "...                     ...            ...             ...   \n",
              "452453        entertainment     2028-09-01      2015-12-31   \n",
              "452452             fastfood     2024-02-01      2015-12-31   \n",
              "452451        entertainment     2027-05-01      2015-12-31   \n",
              "452461        entertainment     2019-03-01      2015-12-31   \n",
              "505263            rideshare     2029-06-01      2015-12-31   \n",
              "\n",
              "       dateOfLastAddressChange       transactionType  isFraud  currentBalance  \\\n",
              "305722              1985-12-25              PURCHASE    False          295.54   \n",
              "305734              1985-12-25              PURCHASE    False         1598.14   \n",
              "305735              1985-12-25              PURCHASE    False         1619.18   \n",
              "305736              1985-12-25              PURCHASE    False         1663.63   \n",
              "305737              1985-12-25              PURCHASE    False         1709.48   \n",
              "...                        ...                   ...      ...             ...   \n",
              "452453              2016-10-08  ADDRESS_VERIFICATION    False           20.55   \n",
              "452452              2016-10-08              PURCHASE    False        14205.49   \n",
              "452451              2016-10-08              PURCHASE    False        14114.13   \n",
              "452461              2016-10-08              PURCHASE    False          597.54   \n",
              "505263              2015-12-31              PURCHASE    False         1497.50   \n",
              "\n",
              "        cardPresent  expirationDateKeyInMatch  CVV_Valid  \n",
              "305722         True                     False          1  \n",
              "305734         True                     False          1  \n",
              "305735         True                     False          1  \n",
              "305736         True                     False          1  \n",
              "305737         True                     False          1  \n",
              "...             ...                       ...        ...  \n",
              "452453        False                     False          1  \n",
              "452452         True                     False          1  \n",
              "452451         True                     False          1  \n",
              "452461         True                     False          1  \n",
              "505263        False                     False          1  \n",
              "\n",
              "[641914 rows x 20 columns]"
            ],
            "text/html": [
              "\n",
              "  <div id=\"df-9faab04b-1801-41e0-a87b-ec75ccce4917\">\n",
              "    <div class=\"colab-df-container\">\n",
              "      <div>\n",
              "<style scoped>\n",
              "    .dataframe tbody tr th:only-of-type {\n",
              "        vertical-align: middle;\n",
              "    }\n",
              "\n",
              "    .dataframe tbody tr th {\n",
              "        vertical-align: top;\n",
              "    }\n",
              "\n",
              "    .dataframe thead th {\n",
              "        text-align: right;\n",
              "    }\n",
              "</style>\n",
              "<table border=\"1\" class=\"dataframe\">\n",
              "  <thead>\n",
              "    <tr style=\"text-align: right;\">\n",
              "      <th></th>\n",
              "      <th>accountNumber</th>\n",
              "      <th>creditLimit</th>\n",
              "      <th>availableMoney</th>\n",
              "      <th>transactionDateTime</th>\n",
              "      <th>transactionAmount</th>\n",
              "      <th>merchantName</th>\n",
              "      <th>acqCountry</th>\n",
              "      <th>merchantCountryCode</th>\n",
              "      <th>posEntryMode</th>\n",
              "      <th>posConditionCode</th>\n",
              "      <th>merchantCategoryCode</th>\n",
              "      <th>currentExpDate</th>\n",
              "      <th>accountOpenDate</th>\n",
              "      <th>dateOfLastAddressChange</th>\n",
              "      <th>transactionType</th>\n",
              "      <th>isFraud</th>\n",
              "      <th>currentBalance</th>\n",
              "      <th>cardPresent</th>\n",
              "      <th>expirationDateKeyInMatch</th>\n",
              "      <th>CVV_Valid</th>\n",
              "    </tr>\n",
              "  </thead>\n",
              "  <tbody>\n",
              "    <tr>\n",
              "      <th>305722</th>\n",
              "      <td>789836144</td>\n",
              "      <td>5000</td>\n",
              "      <td>4704.46</td>\n",
              "      <td>2016-05-04 22:35:16</td>\n",
              "      <td>14.73</td>\n",
              "      <td>53rd Spa</td>\n",
              "      <td>US</td>\n",
              "      <td>US</td>\n",
              "      <td>9</td>\n",
              "      <td>1</td>\n",
              "      <td>personal care</td>\n",
              "      <td>2029-01-01</td>\n",
              "      <td>1985-12-25</td>\n",
              "      <td>1985-12-25</td>\n",
              "      <td>PURCHASE</td>\n",
              "      <td>False</td>\n",
              "      <td>295.54</td>\n",
              "      <td>True</td>\n",
              "      <td>False</td>\n",
              "      <td>1</td>\n",
              "    </tr>\n",
              "    <tr>\n",
              "      <th>305734</th>\n",
              "      <td>789836144</td>\n",
              "      <td>5000</td>\n",
              "      <td>3401.86</td>\n",
              "      <td>2016-08-19 17:37:40</td>\n",
              "      <td>46.04</td>\n",
              "      <td>Shell Gas #359650</td>\n",
              "      <td>US</td>\n",
              "      <td>US</td>\n",
              "      <td>2</td>\n",
              "      <td>1</td>\n",
              "      <td>fuel</td>\n",
              "      <td>2031-05-01</td>\n",
              "      <td>1985-12-25</td>\n",
              "      <td>1985-12-25</td>\n",
              "      <td>PURCHASE</td>\n",
              "      <td>False</td>\n",
              "      <td>1598.14</td>\n",
              "      <td>True</td>\n",
              "      <td>False</td>\n",
              "      <td>1</td>\n",
              "    </tr>\n",
              "    <tr>\n",
              "      <th>305735</th>\n",
              "      <td>789836144</td>\n",
              "      <td>5000</td>\n",
              "      <td>3380.82</td>\n",
              "      <td>2016-09-02 21:59:08</td>\n",
              "      <td>44.45</td>\n",
              "      <td>Shell Gas #359650</td>\n",
              "      <td>US</td>\n",
              "      <td>US</td>\n",
              "      <td>2</td>\n",
              "      <td>1</td>\n",
              "      <td>fuel</td>\n",
              "      <td>2031-05-01</td>\n",
              "      <td>1985-12-25</td>\n",
              "      <td>1985-12-25</td>\n",
              "      <td>PURCHASE</td>\n",
              "      <td>False</td>\n",
              "      <td>1619.18</td>\n",
              "      <td>True</td>\n",
              "      <td>False</td>\n",
              "      <td>1</td>\n",
              "    </tr>\n",
              "    <tr>\n",
              "      <th>305736</th>\n",
              "      <td>789836144</td>\n",
              "      <td>5000</td>\n",
              "      <td>3336.37</td>\n",
              "      <td>2016-09-17 06:30:09</td>\n",
              "      <td>45.85</td>\n",
              "      <td>Shell Gas #359650</td>\n",
              "      <td>US</td>\n",
              "      <td>US</td>\n",
              "      <td>2</td>\n",
              "      <td>1</td>\n",
              "      <td>fuel</td>\n",
              "      <td>2031-05-01</td>\n",
              "      <td>1985-12-25</td>\n",
              "      <td>1985-12-25</td>\n",
              "      <td>PURCHASE</td>\n",
              "      <td>False</td>\n",
              "      <td>1663.63</td>\n",
              "      <td>True</td>\n",
              "      <td>False</td>\n",
              "      <td>1</td>\n",
              "    </tr>\n",
              "    <tr>\n",
              "      <th>305737</th>\n",
              "      <td>789836144</td>\n",
              "      <td>5000</td>\n",
              "      <td>3290.52</td>\n",
              "      <td>2016-09-30 16:41:39</td>\n",
              "      <td>45.85</td>\n",
              "      <td>Shell Gas #359650</td>\n",
              "      <td>US</td>\n",
              "      <td>US</td>\n",
              "      <td>2</td>\n",
              "      <td>1</td>\n",
              "      <td>fuel</td>\n",
              "      <td>2031-05-01</td>\n",
              "      <td>1985-12-25</td>\n",
              "      <td>1985-12-25</td>\n",
              "      <td>PURCHASE</td>\n",
              "      <td>False</td>\n",
              "      <td>1709.48</td>\n",
              "      <td>True</td>\n",
              "      <td>False</td>\n",
              "      <td>1</td>\n",
              "    </tr>\n",
              "    <tr>\n",
              "      <th>...</th>\n",
              "      <td>...</td>\n",
              "      <td>...</td>\n",
              "      <td>...</td>\n",
              "      <td>...</td>\n",
              "      <td>...</td>\n",
              "      <td>...</td>\n",
              "      <td>...</td>\n",
              "      <td>...</td>\n",
              "      <td>...</td>\n",
              "      <td>...</td>\n",
              "      <td>...</td>\n",
              "      <td>...</td>\n",
              "      <td>...</td>\n",
              "      <td>...</td>\n",
              "      <td>...</td>\n",
              "      <td>...</td>\n",
              "      <td>...</td>\n",
              "      <td>...</td>\n",
              "      <td>...</td>\n",
              "      <td>...</td>\n",
              "    </tr>\n",
              "    <tr>\n",
              "      <th>452453</th>\n",
              "      <td>890796581</td>\n",
              "      <td>15000</td>\n",
              "      <td>14979.45</td>\n",
              "      <td>2016-11-06 01:53:06</td>\n",
              "      <td>0.00</td>\n",
              "      <td>EZ Putt Putt #240241</td>\n",
              "      <td>US</td>\n",
              "      <td>US</td>\n",
              "      <td>5</td>\n",
              "      <td>8</td>\n",
              "      <td>entertainment</td>\n",
              "      <td>2028-09-01</td>\n",
              "      <td>2015-12-31</td>\n",
              "      <td>2016-10-08</td>\n",
              "      <td>ADDRESS_VERIFICATION</td>\n",
              "      <td>False</td>\n",
              "      <td>20.55</td>\n",
              "      <td>False</td>\n",
              "      <td>False</td>\n",
              "      <td>1</td>\n",
              "    </tr>\n",
              "    <tr>\n",
              "      <th>452452</th>\n",
              "      <td>890796581</td>\n",
              "      <td>15000</td>\n",
              "      <td>794.51</td>\n",
              "      <td>2016-11-05 17:49:26</td>\n",
              "      <td>275.06</td>\n",
              "      <td>Auntie Anne's #579144</td>\n",
              "      <td>US</td>\n",
              "      <td>US</td>\n",
              "      <td>9</td>\n",
              "      <td>1</td>\n",
              "      <td>fastfood</td>\n",
              "      <td>2024-02-01</td>\n",
              "      <td>2015-12-31</td>\n",
              "      <td>2016-10-08</td>\n",
              "      <td>PURCHASE</td>\n",
              "      <td>False</td>\n",
              "      <td>14205.49</td>\n",
              "      <td>True</td>\n",
              "      <td>False</td>\n",
              "      <td>1</td>\n",
              "    </tr>\n",
              "    <tr>\n",
              "      <th>452451</th>\n",
              "      <td>890796581</td>\n",
              "      <td>15000</td>\n",
              "      <td>885.87</td>\n",
              "      <td>2016-11-04 09:45:41</td>\n",
              "      <td>91.36</td>\n",
              "      <td>AMC #706324</td>\n",
              "      <td>US</td>\n",
              "      <td>US</td>\n",
              "      <td>2</td>\n",
              "      <td>1</td>\n",
              "      <td>entertainment</td>\n",
              "      <td>2027-05-01</td>\n",
              "      <td>2015-12-31</td>\n",
              "      <td>2016-10-08</td>\n",
              "      <td>PURCHASE</td>\n",
              "      <td>False</td>\n",
              "      <td>14114.13</td>\n",
              "      <td>True</td>\n",
              "      <td>False</td>\n",
              "      <td>1</td>\n",
              "    </tr>\n",
              "    <tr>\n",
              "      <th>452461</th>\n",
              "      <td>890796581</td>\n",
              "      <td>15000</td>\n",
              "      <td>14402.46</td>\n",
              "      <td>2016-11-10 04:42:17</td>\n",
              "      <td>3.88</td>\n",
              "      <td>EZ Putt Putt #551896</td>\n",
              "      <td>US</td>\n",
              "      <td>US</td>\n",
              "      <td>5</td>\n",
              "      <td>1</td>\n",
              "      <td>entertainment</td>\n",
              "      <td>2019-03-01</td>\n",
              "      <td>2015-12-31</td>\n",
              "      <td>2016-10-08</td>\n",
              "      <td>PURCHASE</td>\n",
              "      <td>False</td>\n",
              "      <td>597.54</td>\n",
              "      <td>True</td>\n",
              "      <td>False</td>\n",
              "      <td>1</td>\n",
              "    </tr>\n",
              "    <tr>\n",
              "      <th>505263</th>\n",
              "      <td>783343390</td>\n",
              "      <td>15000</td>\n",
              "      <td>13502.50</td>\n",
              "      <td>2016-07-26 01:59:13</td>\n",
              "      <td>47.33</td>\n",
              "      <td>Lyft</td>\n",
              "      <td>US</td>\n",
              "      <td>US</td>\n",
              "      <td>5</td>\n",
              "      <td>1</td>\n",
              "      <td>rideshare</td>\n",
              "      <td>2029-06-01</td>\n",
              "      <td>2015-12-31</td>\n",
              "      <td>2015-12-31</td>\n",
              "      <td>PURCHASE</td>\n",
              "      <td>False</td>\n",
              "      <td>1497.50</td>\n",
              "      <td>False</td>\n",
              "      <td>False</td>\n",
              "      <td>1</td>\n",
              "    </tr>\n",
              "  </tbody>\n",
              "</table>\n",
              "<p>641914 rows × 20 columns</p>\n",
              "</div>\n",
              "      <button class=\"colab-df-convert\" onclick=\"convertToInteractive('df-9faab04b-1801-41e0-a87b-ec75ccce4917')\"\n",
              "              title=\"Convert this dataframe to an interactive table.\"\n",
              "              style=\"display:none;\">\n",
              "        \n",
              "  <svg xmlns=\"http://www.w3.org/2000/svg\" height=\"24px\"viewBox=\"0 0 24 24\"\n",
              "       width=\"24px\">\n",
              "    <path d=\"M0 0h24v24H0V0z\" fill=\"none\"/>\n",
              "    <path d=\"M18.56 5.44l.94 2.06.94-2.06 2.06-.94-2.06-.94-.94-2.06-.94 2.06-2.06.94zm-11 1L8.5 8.5l.94-2.06 2.06-.94-2.06-.94L8.5 2.5l-.94 2.06-2.06.94zm10 10l.94 2.06.94-2.06 2.06-.94-2.06-.94-.94-2.06-.94 2.06-2.06.94z\"/><path d=\"M17.41 7.96l-1.37-1.37c-.4-.4-.92-.59-1.43-.59-.52 0-1.04.2-1.43.59L10.3 9.45l-7.72 7.72c-.78.78-.78 2.05 0 2.83L4 21.41c.39.39.9.59 1.41.59.51 0 1.02-.2 1.41-.59l7.78-7.78 2.81-2.81c.8-.78.8-2.07 0-2.86zM5.41 20L4 18.59l7.72-7.72 1.47 1.35L5.41 20z\"/>\n",
              "  </svg>\n",
              "      </button>\n",
              "      \n",
              "  <style>\n",
              "    .colab-df-container {\n",
              "      display:flex;\n",
              "      flex-wrap:wrap;\n",
              "      gap: 12px;\n",
              "    }\n",
              "\n",
              "    .colab-df-convert {\n",
              "      background-color: #E8F0FE;\n",
              "      border: none;\n",
              "      border-radius: 50%;\n",
              "      cursor: pointer;\n",
              "      display: none;\n",
              "      fill: #1967D2;\n",
              "      height: 32px;\n",
              "      padding: 0 0 0 0;\n",
              "      width: 32px;\n",
              "    }\n",
              "\n",
              "    .colab-df-convert:hover {\n",
              "      background-color: #E2EBFA;\n",
              "      box-shadow: 0px 1px 2px rgba(60, 64, 67, 0.3), 0px 1px 3px 1px rgba(60, 64, 67, 0.15);\n",
              "      fill: #174EA6;\n",
              "    }\n",
              "\n",
              "    [theme=dark] .colab-df-convert {\n",
              "      background-color: #3B4455;\n",
              "      fill: #D2E3FC;\n",
              "    }\n",
              "\n",
              "    [theme=dark] .colab-df-convert:hover {\n",
              "      background-color: #434B5C;\n",
              "      box-shadow: 0px 1px 3px 1px rgba(0, 0, 0, 0.15);\n",
              "      filter: drop-shadow(0px 1px 2px rgba(0, 0, 0, 0.3));\n",
              "      fill: #FFFFFF;\n",
              "    }\n",
              "  </style>\n",
              "\n",
              "      <script>\n",
              "        const buttonEl =\n",
              "          document.querySelector('#df-9faab04b-1801-41e0-a87b-ec75ccce4917 button.colab-df-convert');\n",
              "        buttonEl.style.display =\n",
              "          google.colab.kernel.accessAllowed ? 'block' : 'none';\n",
              "\n",
              "        async function convertToInteractive(key) {\n",
              "          const element = document.querySelector('#df-9faab04b-1801-41e0-a87b-ec75ccce4917');\n",
              "          const dataTable =\n",
              "            await google.colab.kernel.invokeFunction('convertToInteractive',\n",
              "                                                     [key], {});\n",
              "          if (!dataTable) return;\n",
              "\n",
              "          const docLinkHtml = 'Like what you see? Visit the ' +\n",
              "            '<a target=\"_blank\" href=https://colab.research.google.com/notebooks/data_table.ipynb>data table notebook</a>'\n",
              "            + ' to learn more about interactive tables.';\n",
              "          element.innerHTML = '';\n",
              "          dataTable['output_type'] = 'display_data';\n",
              "          await google.colab.output.renderOutput(dataTable, element);\n",
              "          const docLink = document.createElement('div');\n",
              "          docLink.innerHTML = docLinkHtml;\n",
              "          element.appendChild(docLink);\n",
              "        }\n",
              "      </script>\n",
              "    </div>\n",
              "  </div>\n",
              "  "
            ]
          },
          "metadata": {},
          "execution_count": 31
        }
      ]
    },
    {
      "cell_type": "code",
      "source": [
        "df['accountOpenDate'].min()"
      ],
      "metadata": {
        "colab": {
          "base_uri": "https://localhost:8080/"
        },
        "id": "JZOufFaXtXrd",
        "outputId": "58a6cd8d-4c5c-4788-87ab-281f36294c46"
      },
      "execution_count": null,
      "outputs": [
        {
          "output_type": "execute_result",
          "data": {
            "text/plain": [
              "Timestamp('1985-12-25 00:00:00')"
            ]
          },
          "metadata": {},
          "execution_count": 32
        }
      ]
    },
    {
      "cell_type": "code",
      "source": [
        "account_date=df.groupby('accountNumber').min()['accountOpenDate'].reset_index()"
      ],
      "metadata": {
        "id": "IxBcdpDv4Vis"
      },
      "execution_count": null,
      "outputs": []
    },
    {
      "cell_type": "code",
      "source": [
        "account_date"
      ],
      "metadata": {
        "id": "VuxcQKO06TzH"
      },
      "execution_count": null,
      "outputs": []
    },
    {
      "cell_type": "code",
      "source": [
        "account_date['accountOpenDate'].value_counts()"
      ],
      "metadata": {
        "id": "j-lEPjHX7hRk"
      },
      "execution_count": null,
      "outputs": []
    },
    {
      "cell_type": "code",
      "source": [
        "account_date.to_excel('transactions.xlsx',index=False)"
      ],
      "metadata": {
        "id": "Ev1tgM7a8EBD"
      },
      "execution_count": null,
      "outputs": []
    },
    {
      "cell_type": "code",
      "source": [
        "# Kasus No.8\n",
        "\n",
        "df.sort_values(by=['accountOpenDate'], ascending=False)"
      ],
      "metadata": {
        "id": "Y6odSBTNEMea",
        "colab": {
          "base_uri": "https://localhost:8080/",
          "height": 609
        },
        "outputId": "8ba8152a-bdb5-4f37-80b6-9d45640a1e63"
      },
      "execution_count": null,
      "outputs": [
        {
          "output_type": "execute_result",
          "data": {
            "text/plain": [
              "        accountNumber  creditLimit  availableMoney transactionDateTime  \\\n",
              "452251      890796581        15000         6535.74 2016-07-15 15:40:02   \n",
              "31661       731926026        15000         2713.88 2016-10-31 10:29:23   \n",
              "31631       731926026        15000         7333.70 2016-10-12 18:56:44   \n",
              "31632       731926026        15000         7299.67 2016-10-12 21:28:00   \n",
              "31633       731926026        15000         7115.50 2016-10-13 10:22:13   \n",
              "...               ...          ...             ...                 ...   \n",
              "305730      789836144         5000         3746.37 2016-07-06 22:21:49   \n",
              "305731      789836144         5000         3690.62 2016-07-21 13:09:22   \n",
              "305732      789836144         5000         3669.77 2016-08-05 02:43:22   \n",
              "305733      789836144         5000         3623.92 2016-08-05 21:12:56   \n",
              "305739      789836144         5000         3225.68 2016-10-09 12:39:56   \n",
              "\n",
              "        transactionAmount             merchantName acqCountry  \\\n",
              "452251             261.94              AMC #145832         US   \n",
              "31661                0.00                  gap.com         US   \n",
              "31631               34.03             discount.com         US   \n",
              "31632              184.17                     Uber         US   \n",
              "31633               13.16                     Uber         US   \n",
              "...                   ...                      ...        ...   \n",
              "305730              55.75        Shell Gas #359650         US   \n",
              "305731              45.85        Shell Gas #359650         US   \n",
              "305732              45.85        Shell Gas #359650         US   \n",
              "305733             222.06  Universe Massage #84171         US   \n",
              "305739             109.43  Universe Massage #70014         US   \n",
              "\n",
              "       merchantCountryCode  posEntryMode  posConditionCode  \\\n",
              "452251                  US             5                 1   \n",
              "31661                   US             9                 8   \n",
              "31631                   US            80                 1   \n",
              "31632                   US             9                 1   \n",
              "31633                   US             9                 8   \n",
              "...                    ...           ...               ...   \n",
              "305730                  US             2                 1   \n",
              "305731                  US             2                 1   \n",
              "305732                  US             2                 1   \n",
              "305733                  US             2                 1   \n",
              "305739                  US             9                 1   \n",
              "\n",
              "       merchantCategoryCode currentExpDate accountOpenDate  \\\n",
              "452251        entertainment     2019-04-01      2015-12-31   \n",
              "31661         online_retail     2029-04-01      2015-12-31   \n",
              "31631         online_retail     2031-02-01      2015-12-31   \n",
              "31632             rideshare     2025-08-01      2015-12-31   \n",
              "31633             rideshare     2025-06-01      2015-12-31   \n",
              "...                     ...            ...             ...   \n",
              "305730                 fuel     2031-05-01      1985-12-25   \n",
              "305731                 fuel     2031-05-01      1985-12-25   \n",
              "305732                 fuel     2031-05-01      1985-12-25   \n",
              "305733        personal care     2018-09-01      1985-12-25   \n",
              "305739        personal care     2019-10-01      1985-12-25   \n",
              "\n",
              "       dateOfLastAddressChange       transactionType  isFraud  currentBalance  \\\n",
              "452251              2015-12-31              PURCHASE    False         8464.26   \n",
              "31661               2015-12-31  ADDRESS_VERIFICATION    False        12286.12   \n",
              "31631               2015-12-31              PURCHASE    False         7666.30   \n",
              "31632               2015-12-31              PURCHASE    False         7700.33   \n",
              "31633               2015-12-31              PURCHASE    False         7884.50   \n",
              "...                        ...                   ...      ...             ...   \n",
              "305730              1985-12-25              PURCHASE    False         1253.63   \n",
              "305731              1985-12-25              PURCHASE    False         1309.38   \n",
              "305732              1985-12-25              PURCHASE    False         1330.23   \n",
              "305733              1985-12-25              PURCHASE    False         1376.08   \n",
              "305739              1985-12-25              PURCHASE    False         1774.32   \n",
              "\n",
              "        cardPresent  expirationDateKeyInMatch  CVV_Valid  \n",
              "452251         True                     False          1  \n",
              "31661         False                     False          1  \n",
              "31631         False                     False          1  \n",
              "31632         False                     False          1  \n",
              "31633         False                     False          1  \n",
              "...             ...                       ...        ...  \n",
              "305730         True                     False          1  \n",
              "305731         True                     False          1  \n",
              "305732         True                     False          1  \n",
              "305733         True                     False          1  \n",
              "305739         True                     False          1  \n",
              "\n",
              "[641914 rows x 20 columns]"
            ],
            "text/html": [
              "\n",
              "  <div id=\"df-adea0769-7dcc-40ab-872a-fa84410e0ac4\">\n",
              "    <div class=\"colab-df-container\">\n",
              "      <div>\n",
              "<style scoped>\n",
              "    .dataframe tbody tr th:only-of-type {\n",
              "        vertical-align: middle;\n",
              "    }\n",
              "\n",
              "    .dataframe tbody tr th {\n",
              "        vertical-align: top;\n",
              "    }\n",
              "\n",
              "    .dataframe thead th {\n",
              "        text-align: right;\n",
              "    }\n",
              "</style>\n",
              "<table border=\"1\" class=\"dataframe\">\n",
              "  <thead>\n",
              "    <tr style=\"text-align: right;\">\n",
              "      <th></th>\n",
              "      <th>accountNumber</th>\n",
              "      <th>creditLimit</th>\n",
              "      <th>availableMoney</th>\n",
              "      <th>transactionDateTime</th>\n",
              "      <th>transactionAmount</th>\n",
              "      <th>merchantName</th>\n",
              "      <th>acqCountry</th>\n",
              "      <th>merchantCountryCode</th>\n",
              "      <th>posEntryMode</th>\n",
              "      <th>posConditionCode</th>\n",
              "      <th>merchantCategoryCode</th>\n",
              "      <th>currentExpDate</th>\n",
              "      <th>accountOpenDate</th>\n",
              "      <th>dateOfLastAddressChange</th>\n",
              "      <th>transactionType</th>\n",
              "      <th>isFraud</th>\n",
              "      <th>currentBalance</th>\n",
              "      <th>cardPresent</th>\n",
              "      <th>expirationDateKeyInMatch</th>\n",
              "      <th>CVV_Valid</th>\n",
              "    </tr>\n",
              "  </thead>\n",
              "  <tbody>\n",
              "    <tr>\n",
              "      <th>452251</th>\n",
              "      <td>890796581</td>\n",
              "      <td>15000</td>\n",
              "      <td>6535.74</td>\n",
              "      <td>2016-07-15 15:40:02</td>\n",
              "      <td>261.94</td>\n",
              "      <td>AMC #145832</td>\n",
              "      <td>US</td>\n",
              "      <td>US</td>\n",
              "      <td>5</td>\n",
              "      <td>1</td>\n",
              "      <td>entertainment</td>\n",
              "      <td>2019-04-01</td>\n",
              "      <td>2015-12-31</td>\n",
              "      <td>2015-12-31</td>\n",
              "      <td>PURCHASE</td>\n",
              "      <td>False</td>\n",
              "      <td>8464.26</td>\n",
              "      <td>True</td>\n",
              "      <td>False</td>\n",
              "      <td>1</td>\n",
              "    </tr>\n",
              "    <tr>\n",
              "      <th>31661</th>\n",
              "      <td>731926026</td>\n",
              "      <td>15000</td>\n",
              "      <td>2713.88</td>\n",
              "      <td>2016-10-31 10:29:23</td>\n",
              "      <td>0.00</td>\n",
              "      <td>gap.com</td>\n",
              "      <td>US</td>\n",
              "      <td>US</td>\n",
              "      <td>9</td>\n",
              "      <td>8</td>\n",
              "      <td>online_retail</td>\n",
              "      <td>2029-04-01</td>\n",
              "      <td>2015-12-31</td>\n",
              "      <td>2015-12-31</td>\n",
              "      <td>ADDRESS_VERIFICATION</td>\n",
              "      <td>False</td>\n",
              "      <td>12286.12</td>\n",
              "      <td>False</td>\n",
              "      <td>False</td>\n",
              "      <td>1</td>\n",
              "    </tr>\n",
              "    <tr>\n",
              "      <th>31631</th>\n",
              "      <td>731926026</td>\n",
              "      <td>15000</td>\n",
              "      <td>7333.70</td>\n",
              "      <td>2016-10-12 18:56:44</td>\n",
              "      <td>34.03</td>\n",
              "      <td>discount.com</td>\n",
              "      <td>US</td>\n",
              "      <td>US</td>\n",
              "      <td>80</td>\n",
              "      <td>1</td>\n",
              "      <td>online_retail</td>\n",
              "      <td>2031-02-01</td>\n",
              "      <td>2015-12-31</td>\n",
              "      <td>2015-12-31</td>\n",
              "      <td>PURCHASE</td>\n",
              "      <td>False</td>\n",
              "      <td>7666.30</td>\n",
              "      <td>False</td>\n",
              "      <td>False</td>\n",
              "      <td>1</td>\n",
              "    </tr>\n",
              "    <tr>\n",
              "      <th>31632</th>\n",
              "      <td>731926026</td>\n",
              "      <td>15000</td>\n",
              "      <td>7299.67</td>\n",
              "      <td>2016-10-12 21:28:00</td>\n",
              "      <td>184.17</td>\n",
              "      <td>Uber</td>\n",
              "      <td>US</td>\n",
              "      <td>US</td>\n",
              "      <td>9</td>\n",
              "      <td>1</td>\n",
              "      <td>rideshare</td>\n",
              "      <td>2025-08-01</td>\n",
              "      <td>2015-12-31</td>\n",
              "      <td>2015-12-31</td>\n",
              "      <td>PURCHASE</td>\n",
              "      <td>False</td>\n",
              "      <td>7700.33</td>\n",
              "      <td>False</td>\n",
              "      <td>False</td>\n",
              "      <td>1</td>\n",
              "    </tr>\n",
              "    <tr>\n",
              "      <th>31633</th>\n",
              "      <td>731926026</td>\n",
              "      <td>15000</td>\n",
              "      <td>7115.50</td>\n",
              "      <td>2016-10-13 10:22:13</td>\n",
              "      <td>13.16</td>\n",
              "      <td>Uber</td>\n",
              "      <td>US</td>\n",
              "      <td>US</td>\n",
              "      <td>9</td>\n",
              "      <td>8</td>\n",
              "      <td>rideshare</td>\n",
              "      <td>2025-06-01</td>\n",
              "      <td>2015-12-31</td>\n",
              "      <td>2015-12-31</td>\n",
              "      <td>PURCHASE</td>\n",
              "      <td>False</td>\n",
              "      <td>7884.50</td>\n",
              "      <td>False</td>\n",
              "      <td>False</td>\n",
              "      <td>1</td>\n",
              "    </tr>\n",
              "    <tr>\n",
              "      <th>...</th>\n",
              "      <td>...</td>\n",
              "      <td>...</td>\n",
              "      <td>...</td>\n",
              "      <td>...</td>\n",
              "      <td>...</td>\n",
              "      <td>...</td>\n",
              "      <td>...</td>\n",
              "      <td>...</td>\n",
              "      <td>...</td>\n",
              "      <td>...</td>\n",
              "      <td>...</td>\n",
              "      <td>...</td>\n",
              "      <td>...</td>\n",
              "      <td>...</td>\n",
              "      <td>...</td>\n",
              "      <td>...</td>\n",
              "      <td>...</td>\n",
              "      <td>...</td>\n",
              "      <td>...</td>\n",
              "      <td>...</td>\n",
              "    </tr>\n",
              "    <tr>\n",
              "      <th>305730</th>\n",
              "      <td>789836144</td>\n",
              "      <td>5000</td>\n",
              "      <td>3746.37</td>\n",
              "      <td>2016-07-06 22:21:49</td>\n",
              "      <td>55.75</td>\n",
              "      <td>Shell Gas #359650</td>\n",
              "      <td>US</td>\n",
              "      <td>US</td>\n",
              "      <td>2</td>\n",
              "      <td>1</td>\n",
              "      <td>fuel</td>\n",
              "      <td>2031-05-01</td>\n",
              "      <td>1985-12-25</td>\n",
              "      <td>1985-12-25</td>\n",
              "      <td>PURCHASE</td>\n",
              "      <td>False</td>\n",
              "      <td>1253.63</td>\n",
              "      <td>True</td>\n",
              "      <td>False</td>\n",
              "      <td>1</td>\n",
              "    </tr>\n",
              "    <tr>\n",
              "      <th>305731</th>\n",
              "      <td>789836144</td>\n",
              "      <td>5000</td>\n",
              "      <td>3690.62</td>\n",
              "      <td>2016-07-21 13:09:22</td>\n",
              "      <td>45.85</td>\n",
              "      <td>Shell Gas #359650</td>\n",
              "      <td>US</td>\n",
              "      <td>US</td>\n",
              "      <td>2</td>\n",
              "      <td>1</td>\n",
              "      <td>fuel</td>\n",
              "      <td>2031-05-01</td>\n",
              "      <td>1985-12-25</td>\n",
              "      <td>1985-12-25</td>\n",
              "      <td>PURCHASE</td>\n",
              "      <td>False</td>\n",
              "      <td>1309.38</td>\n",
              "      <td>True</td>\n",
              "      <td>False</td>\n",
              "      <td>1</td>\n",
              "    </tr>\n",
              "    <tr>\n",
              "      <th>305732</th>\n",
              "      <td>789836144</td>\n",
              "      <td>5000</td>\n",
              "      <td>3669.77</td>\n",
              "      <td>2016-08-05 02:43:22</td>\n",
              "      <td>45.85</td>\n",
              "      <td>Shell Gas #359650</td>\n",
              "      <td>US</td>\n",
              "      <td>US</td>\n",
              "      <td>2</td>\n",
              "      <td>1</td>\n",
              "      <td>fuel</td>\n",
              "      <td>2031-05-01</td>\n",
              "      <td>1985-12-25</td>\n",
              "      <td>1985-12-25</td>\n",
              "      <td>PURCHASE</td>\n",
              "      <td>False</td>\n",
              "      <td>1330.23</td>\n",
              "      <td>True</td>\n",
              "      <td>False</td>\n",
              "      <td>1</td>\n",
              "    </tr>\n",
              "    <tr>\n",
              "      <th>305733</th>\n",
              "      <td>789836144</td>\n",
              "      <td>5000</td>\n",
              "      <td>3623.92</td>\n",
              "      <td>2016-08-05 21:12:56</td>\n",
              "      <td>222.06</td>\n",
              "      <td>Universe Massage #84171</td>\n",
              "      <td>US</td>\n",
              "      <td>US</td>\n",
              "      <td>2</td>\n",
              "      <td>1</td>\n",
              "      <td>personal care</td>\n",
              "      <td>2018-09-01</td>\n",
              "      <td>1985-12-25</td>\n",
              "      <td>1985-12-25</td>\n",
              "      <td>PURCHASE</td>\n",
              "      <td>False</td>\n",
              "      <td>1376.08</td>\n",
              "      <td>True</td>\n",
              "      <td>False</td>\n",
              "      <td>1</td>\n",
              "    </tr>\n",
              "    <tr>\n",
              "      <th>305739</th>\n",
              "      <td>789836144</td>\n",
              "      <td>5000</td>\n",
              "      <td>3225.68</td>\n",
              "      <td>2016-10-09 12:39:56</td>\n",
              "      <td>109.43</td>\n",
              "      <td>Universe Massage #70014</td>\n",
              "      <td>US</td>\n",
              "      <td>US</td>\n",
              "      <td>9</td>\n",
              "      <td>1</td>\n",
              "      <td>personal care</td>\n",
              "      <td>2019-10-01</td>\n",
              "      <td>1985-12-25</td>\n",
              "      <td>1985-12-25</td>\n",
              "      <td>PURCHASE</td>\n",
              "      <td>False</td>\n",
              "      <td>1774.32</td>\n",
              "      <td>True</td>\n",
              "      <td>False</td>\n",
              "      <td>1</td>\n",
              "    </tr>\n",
              "  </tbody>\n",
              "</table>\n",
              "<p>641914 rows × 20 columns</p>\n",
              "</div>\n",
              "      <button class=\"colab-df-convert\" onclick=\"convertToInteractive('df-adea0769-7dcc-40ab-872a-fa84410e0ac4')\"\n",
              "              title=\"Convert this dataframe to an interactive table.\"\n",
              "              style=\"display:none;\">\n",
              "        \n",
              "  <svg xmlns=\"http://www.w3.org/2000/svg\" height=\"24px\"viewBox=\"0 0 24 24\"\n",
              "       width=\"24px\">\n",
              "    <path d=\"M0 0h24v24H0V0z\" fill=\"none\"/>\n",
              "    <path d=\"M18.56 5.44l.94 2.06.94-2.06 2.06-.94-2.06-.94-.94-2.06-.94 2.06-2.06.94zm-11 1L8.5 8.5l.94-2.06 2.06-.94-2.06-.94L8.5 2.5l-.94 2.06-2.06.94zm10 10l.94 2.06.94-2.06 2.06-.94-2.06-.94-.94-2.06-.94 2.06-2.06.94z\"/><path d=\"M17.41 7.96l-1.37-1.37c-.4-.4-.92-.59-1.43-.59-.52 0-1.04.2-1.43.59L10.3 9.45l-7.72 7.72c-.78.78-.78 2.05 0 2.83L4 21.41c.39.39.9.59 1.41.59.51 0 1.02-.2 1.41-.59l7.78-7.78 2.81-2.81c.8-.78.8-2.07 0-2.86zM5.41 20L4 18.59l7.72-7.72 1.47 1.35L5.41 20z\"/>\n",
              "  </svg>\n",
              "      </button>\n",
              "      \n",
              "  <style>\n",
              "    .colab-df-container {\n",
              "      display:flex;\n",
              "      flex-wrap:wrap;\n",
              "      gap: 12px;\n",
              "    }\n",
              "\n",
              "    .colab-df-convert {\n",
              "      background-color: #E8F0FE;\n",
              "      border: none;\n",
              "      border-radius: 50%;\n",
              "      cursor: pointer;\n",
              "      display: none;\n",
              "      fill: #1967D2;\n",
              "      height: 32px;\n",
              "      padding: 0 0 0 0;\n",
              "      width: 32px;\n",
              "    }\n",
              "\n",
              "    .colab-df-convert:hover {\n",
              "      background-color: #E2EBFA;\n",
              "      box-shadow: 0px 1px 2px rgba(60, 64, 67, 0.3), 0px 1px 3px 1px rgba(60, 64, 67, 0.15);\n",
              "      fill: #174EA6;\n",
              "    }\n",
              "\n",
              "    [theme=dark] .colab-df-convert {\n",
              "      background-color: #3B4455;\n",
              "      fill: #D2E3FC;\n",
              "    }\n",
              "\n",
              "    [theme=dark] .colab-df-convert:hover {\n",
              "      background-color: #434B5C;\n",
              "      box-shadow: 0px 1px 3px 1px rgba(0, 0, 0, 0.15);\n",
              "      filter: drop-shadow(0px 1px 2px rgba(0, 0, 0, 0.3));\n",
              "      fill: #FFFFFF;\n",
              "    }\n",
              "  </style>\n",
              "\n",
              "      <script>\n",
              "        const buttonEl =\n",
              "          document.querySelector('#df-adea0769-7dcc-40ab-872a-fa84410e0ac4 button.colab-df-convert');\n",
              "        buttonEl.style.display =\n",
              "          google.colab.kernel.accessAllowed ? 'block' : 'none';\n",
              "\n",
              "        async function convertToInteractive(key) {\n",
              "          const element = document.querySelector('#df-adea0769-7dcc-40ab-872a-fa84410e0ac4');\n",
              "          const dataTable =\n",
              "            await google.colab.kernel.invokeFunction('convertToInteractive',\n",
              "                                                     [key], {});\n",
              "          if (!dataTable) return;\n",
              "\n",
              "          const docLinkHtml = 'Like what you see? Visit the ' +\n",
              "            '<a target=\"_blank\" href=https://colab.research.google.com/notebooks/data_table.ipynb>data table notebook</a>'\n",
              "            + ' to learn more about interactive tables.';\n",
              "          element.innerHTML = '';\n",
              "          dataTable['output_type'] = 'display_data';\n",
              "          await google.colab.output.renderOutput(dataTable, element);\n",
              "          const docLink = document.createElement('div');\n",
              "          docLink.innerHTML = docLinkHtml;\n",
              "          element.appendChild(docLink);\n",
              "        }\n",
              "      </script>\n",
              "    </div>\n",
              "  </div>\n",
              "  "
            ]
          },
          "metadata": {},
          "execution_count": 36
        }
      ]
    },
    {
      "cell_type": "code",
      "source": [
        "df['accountOpenDate'].max()"
      ],
      "metadata": {
        "id": "6TL58Rnu0UtV",
        "colab": {
          "base_uri": "https://localhost:8080/"
        },
        "outputId": "373f8c20-a0e0-4283-d486-4a1a33b5789c"
      },
      "execution_count": null,
      "outputs": [
        {
          "output_type": "execute_result",
          "data": {
            "text/plain": [
              "Timestamp('2015-12-31 00:00:00')"
            ]
          },
          "metadata": {},
          "execution_count": 37
        }
      ]
    },
    {
      "cell_type": "code",
      "source": [
        "# Kasus No.9\n",
        "top_trans = df['transactionType'].mode()[0]\n",
        "print('The top transaction type is', top_trans)"
      ],
      "metadata": {
        "id": "AgOpl5m3zIdm",
        "colab": {
          "base_uri": "https://localhost:8080/"
        },
        "outputId": "c16ba248-3949-44c3-ef55-10ee82f95287"
      },
      "execution_count": null,
      "outputs": [
        {
          "output_type": "stream",
          "name": "stdout",
          "text": [
            "The top transaction type is PURCHASE\n"
          ]
        }
      ]
    },
    {
      "cell_type": "code",
      "source": [
        "counts=df['transactionType'].value_counts()\n",
        "counts"
      ],
      "metadata": {
        "id": "WV3KOUuQ1QYw",
        "colab": {
          "base_uri": "https://localhost:8080/"
        },
        "outputId": "24009a6a-4c3c-4878-85d6-5d8db20a0066"
      },
      "execution_count": null,
      "outputs": [
        {
          "output_type": "execute_result",
          "data": {
            "text/plain": [
              "PURCHASE                609274\n",
              "ADDRESS_VERIFICATION     16478\n",
              "REVERSAL                 16162\n",
              "Name: transactionType, dtype: int64"
            ]
          },
          "metadata": {},
          "execution_count": 41
        }
      ]
    },
    {
      "cell_type": "markdown",
      "source": [
        "# **logistic regresion**"
      ],
      "metadata": {
        "id": "IyW0jqphbm5F"
      }
    },
    {
      "cell_type": "code",
      "source": [
        "# import library yang dibutuhkan\n",
        "from sklearn.model_selection import train_test_split #untuk membagi dataset kedalam bentuk train dan test\n",
        "from sklearn.metrics import confusion_matrix,classification_report,accuracy_score # melakukan import confusion matrik untuk melihat probabilitas prediksi dari model kita,serta menunjukan report dari model , dan akurasinya\n",
        "from sklearn.metrics import roc_curve, auc #untuk melakukan uji coba confusion meatrix dalam bentuk kurva roc supaya dapat menentukan treshold mana yang bagus untuk confusion matriknya, juga untuk menentukan seberapa tinggi AUC karena semakin tinggi auc semakin bagus pula model yang dibikin\n",
        "from sklearn.linear_model import LogisticRegression\n",
        "from sklearn.preprocessing import StandardScaler"
      ],
      "metadata": {
        "id": "Pzkm6xJeHqrJ"
      },
      "execution_count": null,
      "outputs": []
    },
    {
      "cell_type": "code",
      "source": [
        "# mendefinisikan variabel X,y\n",
        "X=new_df.drop('isFraud',axis=1)\n",
        "y=new_df['isFraud']\n",
        "print('columns in X:',X.columns)\n",
        "print('y:',y)\n",
        "print('shape of X:',X.shape)\n",
        "print('shape of y:',y.shape[0])"
      ],
      "metadata": {
        "colab": {
          "base_uri": "https://localhost:8080/"
        },
        "id": "lhYqQgUMKaRj",
        "outputId": "386c1053-c35c-4efa-bbc1-3898de998384"
      },
      "execution_count": null,
      "outputs": [
        {
          "output_type": "stream",
          "name": "stdout",
          "text": [
            "columns in X: Index(['creditLimit', 'availableMoney', 'transactionAmount', 'posEntryMode',\n",
            "       'posConditionCode', 'currentBalance', 'cardPresent',\n",
            "       'expirationDateKeyInMatch', 'CVV_Valid'],\n",
            "      dtype='object')\n",
            "y: 0         1\n",
            "1         0\n",
            "2         0\n",
            "3         1\n",
            "4         0\n",
            "         ..\n",
            "641909    0\n",
            "641910    0\n",
            "641911    0\n",
            "641912    0\n",
            "641913    0\n",
            "Name: isFraud, Length: 641914, dtype: int64\n",
            "shape of X: (641914, 9)\n",
            "shape of y: 641914\n"
          ]
        }
      ]
    },
    {
      "cell_type": "code",
      "source": [
        "# membagi data menjadi training dan test set\n",
        "X_train,X_test,y_train,y_test=train_test_split(X,y,test_size=0.25,random_state=0)"
      ],
      "metadata": {
        "id": "NMrcvWYyL-7S"
      },
      "execution_count": null,
      "outputs": []
    },
    {
      "cell_type": "markdown",
      "source": [
        "**MODEL TRAINING**"
      ],
      "metadata": {
        "id": "8d0brL3zM1XK"
      }
    },
    {
      "cell_type": "code",
      "source": [
        "# Scaling data\n",
        "sc=StandardScaler()\n",
        "X_train=sc.fit_transform(X_train)\n",
        "X_test=sc.transform(X_test)\n",
        "X_train=pd.DataFrame(X_train,columns=X.columns)\n",
        "X_test=pd.DataFrame(X_test,columns=X.columns)"
      ],
      "metadata": {
        "id": "4o49ST2gM5RP"
      },
      "execution_count": null,
      "outputs": []
    },
    {
      "cell_type": "code",
      "source": [
        "# training model menggunakan logistic regression\n",
        "model=LogisticRegression()\n",
        "model.fit(X_train,y_train)"
      ],
      "metadata": {
        "colab": {
          "base_uri": "https://localhost:8080/"
        },
        "id": "jrAyqJ6PPPQd",
        "outputId": "a1aca632-1a53-4649-ad99-468b2532250b"
      },
      "execution_count": null,
      "outputs": [
        {
          "output_type": "execute_result",
          "data": {
            "text/plain": [
              "LogisticRegression()"
            ]
          },
          "metadata": {},
          "execution_count": 170
        }
      ]
    },
    {
      "cell_type": "code",
      "source": [
        "# prediksi data\n",
        "y_pred=model.predict(X_test)\n",
        "\n",
        "# classification report\n",
        "print(classification_report(y_test,y_pred))\n",
        "\n",
        "# accuracy score\n",
        "print(\"accuracy score : \",accuracy_score(y_test,y_pred))\n",
        "\n",
        "# percentage accurate\n",
        "print(\"accuracy:\", round(100*accuracy_score(y_test,y_pred)),\"%\")\n",
        "\n",
        "# confusion matrix\n",
        "conf_mat=confusion_matrix(y_test,y_pred)\n",
        "print('Confusion matrix is : \\n',conf_mat)\n",
        "\n",
        "## plotting confusion matrix\n",
        "plt.figure(figsize=(7,7))\n",
        "plt.title(\"Logistic Regression CM\")\n",
        "sns.heatmap(conf_mat, square=True,cmap=\"YlGnBu\",annot=True,fmt='d')\n",
        "plt.xlabel('actual')\n",
        "plt.ylabel('predicted')\n",
        "\n",
        "# score sensitivity & specificity\n",
        "TN=conf_mat[0,0]\n",
        "TP=conf_mat[1,1]\n",
        "FN=conf_mat[1,0]\n",
        "FP=conf_mat[0,1]\n",
        "sensitivity=TP/float(TP+FN)\n",
        "specificity=TN/float(TN+FP)\n",
        "\n",
        "print('Sensitivity score : ',round(100*sensitivity),'%')\n",
        "print('specificity score :',round(100*specificity),'%')\n",
        "\n"
      ],
      "metadata": {
        "colab": {
          "base_uri": "https://localhost:8080/",
          "height": 695
        },
        "id": "_sAbo3GgQNMh",
        "outputId": "aa2faac8-4838-49ab-982f-dd03c4e19fb7"
      },
      "execution_count": null,
      "outputs": [
        {
          "output_type": "stream",
          "name": "stdout",
          "text": [
            "              precision    recall  f1-score   support\n",
            "\n",
            "           0       0.98      1.00      0.99    157622\n",
            "           1       0.00      0.00      0.00      2857\n",
            "\n",
            "    accuracy                           0.98    160479\n",
            "   macro avg       0.49      0.50      0.50    160479\n",
            "weighted avg       0.96      0.98      0.97    160479\n",
            "\n",
            "accuracy score :  0.98219081624387\n",
            "accuracy: 98 %\n",
            "Confusion matrix is : \n",
            " [[157621      1]\n",
            " [  2857      0]]\n",
            "Sensitivity score :  0 %\n",
            "specificity score : 100 %\n"
          ]
        },
        {
          "output_type": "display_data",
          "data": {
            "text/plain": [
              "<Figure size 504x504 with 2 Axes>"
            ],
            "image/png": "[encoded data removed]"
          },
          "metadata": {
            "needs_background": "light"
          }
        }
      ]
    },
    {
      "cell_type": "code",
      "source": [
        "# Prediction using predict_proba\n",
        "y_pred_proba = model.predict_proba(X_test)[:,1]\n",
        "fpr, tpr, _ = roc_curve(y_test, y_pred_proba)\n",
        "roc_auc=auc(fpr,tpr)\n",
        "#Draw ROC using fpr , tpr\n",
        "plt.plot([0, 1], [0, 1], 'k--',label='Random')\n",
        "plt.plot(fpr,tpr,label='ROC curve (area = %0.2f)' %roc_auc)\n",
        "plt.xlabel('False positive rate')\n",
        "plt.ylabel('True positive rate')\n",
        "plt.title('Logistic Regression ROC curve')\n",
        "plt.legend(loc='best')"
      ],
      "metadata": {
        "colab": {
          "base_uri": "https://localhost:8080/",
          "height": 312
        },
        "id": "TALOXfNUoUGU",
        "outputId": "26b17a10-7ce9-4f84-964d-eedbb277bb91"
      },
      "execution_count": null,
      "outputs": [
        {
          "output_type": "execute_result",
          "data": {
            "text/plain": [
              "<matplotlib.legend.Legend at 0x7f5c90065c50>"
            ]
          },
          "metadata": {},
          "execution_count": 172
        },
        {
          "output_type": "display_data",
          "data": {
            "text/plain": [
              "<Figure size 432x288 with 1 Axes>"
            ],
            "image/png": "[encoded data removed]"
          },
          "metadata": {
            "needs_background": "light"
          }
        }
      ]
    },
    {
      "cell_type": "code",
      "source": [
        "## Distribution of fraud\n",
        "plt.figure(figsize=(10,10))\n",
        "plt.title(\"fraud transaction\")\n",
        "y_test.value_counts().plot(kind=\"pie\",autopct='%1.2f%%')"
      ],
      "metadata": {
        "colab": {
          "base_uri": "https://localhost:8080/",
          "height": 608
        },
        "id": "MLAH0QSRnBtJ",
        "outputId": "90997a46-577c-4779-cb7e-784da4731285"
      },
      "execution_count": null,
      "outputs": [
        {
          "output_type": "execute_result",
          "data": {
            "text/plain": [
              "<matplotlib.axes._subplots.AxesSubplot at 0x7f5c9000d7d0>"
            ]
          },
          "metadata": {},
          "execution_count": 173
        },
        {
          "output_type": "display_data",
          "data": {
            "text/plain": [
              "<Figure size 720x720 with 1 Axes>"
            ],
            "image/png": "[encoded data removed]"
          },
          "metadata": {}
        }
      ]
    },
    {
      "cell_type": "markdown",
      "source": [
        "# **OVERSAMPLING USING SMOTE TO RESAMPLING DATA**"
      ],
      "metadata": {
        "id": "tGPdr-ZCS-By"
      }
    },
    {
      "cell_type": "code",
      "source": [
        "#distribusi fraud transaction pada data train\n",
        "plt.figure(figsize=(10,10))\n",
        "plt.title(\"Distribution of fraud transaction\")\n",
        "y_train.value_counts().plot(kind=\"pie\",autopct='%1.2f%%')"
      ],
      "metadata": {
        "colab": {
          "base_uri": "https://localhost:8080/",
          "height": 608
        },
        "id": "3CzpzSnyTOns",
        "outputId": "9d8cd796-8603-42d5-fd0e-ddd04a3e6efe"
      },
      "execution_count": null,
      "outputs": [
        {
          "output_type": "execute_result",
          "data": {
            "text/plain": [
              "<matplotlib.axes._subplots.AxesSubplot at 0x7f5c90022d50>"
            ]
          },
          "metadata": {},
          "execution_count": 175
        },
        {
          "output_type": "display_data",
          "data": {
            "text/plain": [
              "<Figure size 720x720 with 1 Axes>"
            ],
            "image/png": "[encoded data removed]"
          },
          "metadata": {}
        }
      ]
    },
    {
      "cell_type": "code",
      "source": [
        "# resample data train agar class data seimbang\n",
        "from imblearn.over_sampling import SMOTE\n",
        "smote=SMOTE()\n",
        "smote_X,smote_y=smote.fit_resample(X_train,y_train)"
      ],
      "metadata": {
        "id": "invaavW8TvtM"
      },
      "execution_count": null,
      "outputs": []
    },
    {
      "cell_type": "code",
      "source": [
        "# distribusi class data train setelah dilakukan resample\n",
        "plt.figure(figsize=(10,10))\n",
        "plt.title('distribution of fraud transaction')\n",
        "smote_y.value_counts().plot(kind=\"pie\",autopct='%1.2f%%')"
      ],
      "metadata": {
        "colab": {
          "base_uri": "https://localhost:8080/",
          "height": 608
        },
        "id": "AzQ3WdJlU0DS",
        "outputId": "2fabde26-8483-4af5-d64b-e8a0392089f7"
      },
      "execution_count": null,
      "outputs": [
        {
          "output_type": "execute_result",
          "data": {
            "text/plain": [
              "<matplotlib.axes._subplots.AxesSubplot at 0x7f5c900a9a90>"
            ]
          },
          "metadata": {},
          "execution_count": 177
        },
        {
          "output_type": "display_data",
          "data": {
            "text/plain": [
              "<Figure size 720x720 with 1 Axes>"
            ],
            "image/png": "[encoded data removed]"
          },
          "metadata": {}
        }
      ]
    },
    {
      "cell_type": "code",
      "source": [
        "# logistic regression\n",
        "model_smote=LogisticRegression()\n",
        "model_smote.fit(smote_X,smote_y)"
      ],
      "metadata": {
        "colab": {
          "base_uri": "https://localhost:8080/"
        },
        "id": "05yRyncOVu-c",
        "outputId": "f674eac8-00c9-4455-f18c-7a6179503cbb"
      },
      "execution_count": null,
      "outputs": [
        {
          "output_type": "execute_result",
          "data": {
            "text/plain": [
              "LogisticRegression()"
            ]
          },
          "metadata": {},
          "execution_count": 178
        }
      ]
    },
    {
      "cell_type": "code",
      "source": [
        "# prediksi data\n",
        "y_pred_smote=model_smote.predict(X_test)"
      ],
      "metadata": {
        "id": "WurHH5a7WzuW"
      },
      "execution_count": null,
      "outputs": []
    },
    {
      "cell_type": "code",
      "source": [
        "# classificatin report\n",
        "print(classification_report(y_test,y_pred_smote))\n",
        "\n",
        "# accuracy score\n",
        "print('accuracy score:',accuracy_score(y_test,y_pred_smote))\n",
        "\n",
        "# percentage accurate\n",
        "print('accuracy score:',round(100*accuracy_score(y_test,y_pred_smote)),'%')\n",
        "\n",
        "## confusion matrix\n",
        "conf_mat_smote=confusion_matrix(y_test,y_pred_smote)\n",
        "print(\"Confusion matrix is \\n\",conf_mat_smote)\n",
        "\n",
        "## plotting confusion matrix\n",
        "\n",
        "plt.figure(figsize=(7,7))\n",
        "plt.title(\"Logistic Regression SMOTE CM\")\n",
        "sns.heatmap(conf_mat_smote, square=True,cmap=\"YlGn\",annot=True,fmt='d')\n",
        "plt.xlabel(\"Actual\")\n",
        "plt.ylabel(\"predicted\")\n",
        "\n",
        "# score sensitivity & specificity\n",
        "TN=conf_mat_smote[0,0]\n",
        "TP=conf_mat_smote[1,1]\n",
        "FN=conf_mat_smote[1,0]\n",
        "FP=conf_mat_smote[0,1]\n",
        "sensitivity_smote=TP/float(TP+FN)\n",
        "specificity_smote=TN/float(TN+FP)\n",
        "\n",
        "print('Sensitivity score : ',round(100*sensitivity_smote),'%')\n",
        "print('specificity score :',round(100*specificity_smote),'%')\n"
      ],
      "metadata": {
        "colab": {
          "base_uri": "https://localhost:8080/",
          "height": 689
        },
        "id": "wblGuSZtXpm6",
        "outputId": "d3a7e37f-da31-4a83-dd97-69123aef43c0"
      },
      "execution_count": null,
      "outputs": [
        {
          "output_type": "stream",
          "name": "stdout",
          "text": [
            "              precision    recall  f1-score   support\n",
            "\n",
            "           0       0.99      0.73      0.84    157622\n",
            "           1       0.03      0.53      0.06      2857\n",
            "\n",
            "    accuracy                           0.72    160479\n",
            "   macro avg       0.51      0.63      0.45    160479\n",
            "weighted avg       0.97      0.72      0.82    160479\n",
            "\n",
            "accuracy score: 0.7236647785691586\n",
            "accuracy score: 72 %\n",
            "Confusion matrix is \n",
            " [[114606  43016]\n",
            " [  1330   1527]]\n",
            "Sensitivity score :  53 %\n",
            "specificity score : 73 %\n"
          ]
        },
        {
          "output_type": "display_data",
          "data": {
            "text/plain": [
              "<Figure size 504x504 with 2 Axes>"
            ],
            "image/png": "[encoded data removed]"
          },
          "metadata": {
            "needs_background": "light"
          }
        }
      ]
    },
    {
      "cell_type": "code",
      "source": [
        "\n",
        "# Prediction using predict_proba\n",
        "y_pred_proba_smote = model_smote.predict_proba(X_test)[:,1]\n",
        "fpr, tpr, _ = roc_curve(y_test,y_pred_proba_smote)\n",
        "roc_auc=auc(fpr, tpr)\n",
        "\n",
        "#Draw ROC using fpr , tpr\n",
        "plt.plot([0, 1], [0, 1], 'k--',label='Random')\n",
        "plt.plot(fpr,tpr,label='ROC curve (area = %0.2f)' %roc_auc)\n",
        "plt.xlabel('False positive rate')\n",
        "plt.ylabel('True positive rate')\n",
        "plt.title('Logistic Regression ROC curve')\n",
        "plt.legend(loc='best')"
      ],
      "metadata": {
        "colab": {
          "base_uri": "https://localhost:8080/",
          "height": 312
        },
        "id": "kY4SVJCJfz_v",
        "outputId": "0506dfff-af17-482f-c4b6-177680e77fe4"
      },
      "execution_count": null,
      "outputs": [
        {
          "output_type": "execute_result",
          "data": {
            "text/plain": [
              "<matplotlib.legend.Legend at 0x7f5c8ffcef90>"
            ]
          },
          "metadata": {},
          "execution_count": 181
        },
        {
          "output_type": "display_data",
          "data": {
            "text/plain": [
              "<Figure size 432x288 with 1 Axes>"
            ],
            "image/png": "[encoded data removed]"
          },
          "metadata": {
            "needs_background": "light"
          }
        }
      ]
    },
    {
      "cell_type": "markdown",
      "source": [
        "# **USING RFE**"
      ],
      "metadata": {
        "id": "v0nxoK4qHSPY"
      }
    },
    {
      "cell_type": "markdown",
      "source": [
        "using RFE"
      ],
      "metadata": {
        "id": "Oix59kJ21HaT"
      }
    },
    {
      "cell_type": "code",
      "source": [
        "from sklearn.feature_selection import RFE\n",
        "\n",
        "#Select best feature\n",
        "rfe = RFE(model, n_features_to_select= None)\n",
        "rfe = rfe.fit(X_train, y_train)\n",
        "\n",
        "#Summarize the selection of the attributes\n",
        "print(rfe.support_)\n",
        "print(rfe.ranking_)\n",
        "X.columns[rfe.support_]"
      ],
      "metadata": {
        "colab": {
          "base_uri": "https://localhost:8080/"
        },
        "id": "4tzLUfRl0s3z",
        "outputId": "fdbdf4c1-9ba4-49e6-9359-223d244c925b"
      },
      "execution_count": null,
      "outputs": [
        {
          "output_type": "stream",
          "name": "stdout",
          "text": [
            "[ True False False  True False  True False  True False  True]\n",
            "[1 6 4 1 3 1 2 1 5 1]\n"
          ]
        },
        {
          "output_type": "execute_result",
          "data": {
            "text/plain": [
              "Index(['accountNumber', 'transactionAmount', 'posConditionCode', 'cardPresent',\n",
              "       'CVV_Valid'],\n",
              "      dtype='object')"
            ]
          },
          "metadata": {},
          "execution_count": 63
        }
      ]
    },
    {
      "cell_type": "code",
      "source": [
        "cols=['transactionAmount', 'posConditionCode', 'cardPresent', 'CVV_Valid']\n",
        "X=X_train[cols]"
      ],
      "metadata": {
        "id": "Z-09Yd2-1Ouu"
      },
      "execution_count": null,
      "outputs": []
    },
    {
      "cell_type": "code",
      "source": [
        "import statsmodels.api as sm\n",
        "logit_model=sm.Logit(np.asarray(y_train),np.asarray(X))\n",
        "result=logit_model.fit()\n",
        "print(result.summary2())"
      ],
      "metadata": {
        "colab": {
          "base_uri": "https://localhost:8080/"
        },
        "id": "k9essQQr1uaP",
        "outputId": "dad76c1e-cb5b-47fa-d27c-e8c22ca77853"
      },
      "execution_count": null,
      "outputs": [
        {
          "output_type": "stream",
          "name": "stderr",
          "text": [
            "/usr/local/lib/python3.7/dist-packages/statsmodels/tools/_testing.py:19: FutureWarning: pandas.util.testing is deprecated. Use the functions in the public API at pandas.testing instead.\n",
            "  import pandas.util.testing as tm\n"
          ]
        },
        {
          "output_type": "stream",
          "name": "stdout",
          "text": [
            "Optimization terminated successfully.\n",
            "         Current function value: 0.692860\n",
            "         Iterations 3\n",
            "                          Results: Logit\n",
            "==================================================================\n",
            "Model:              Logit            Pseudo R-squared: -6.846     \n",
            "Dependent Variable: y                AIC:              667142.4519\n",
            "Date:               2022-07-08 03:39 BIC:              667186.7900\n",
            "No. Observations:   481435           Log-Likelihood:   -3.3357e+05\n",
            "Df Model:           3                LL-Null:          -42515.    \n",
            "Df Residuals:       481431           LLR p-value:      1.0000     \n",
            "Converged:          1.0000           Scale:            1.0000     \n",
            "No. Iterations:     3.0000                                        \n",
            "---------------------------------------------------------------------\n",
            "        Coef.     Std.Err.       z       P>|z|      [0.025     0.975]\n",
            "---------------------------------------------------------------------\n",
            "x1      0.0466      0.0029    16.0948    0.0000     0.0409     0.0522\n",
            "x2      0.0058      0.0029     2.0147    0.0439     0.0002     0.0115\n",
            "x3     -0.0096      0.0029    -3.3239    0.0009    -0.0152    -0.0039\n",
            "x4     -0.0070      0.0029    -2.4203    0.0155    -0.0126    -0.0013\n",
            "==================================================================\n",
            "\n"
          ]
        }
      ]
    },
    {
      "cell_type": "code",
      "source": [
        "cols=['transactionAmount', 'posConditionCode', 'cardPresent', 'CVV_Valid','isFraud']\n",
        "new_df1=new_df[cols]\n",
        "## Splitting data '\n",
        "X_n= new_df1.drop('isFraud',axis=1)\n",
        "y_n=new_df1['isFraud']\n",
        "X_n.shape\n",
        "y_n.shape[0]"
      ],
      "metadata": {
        "colab": {
          "base_uri": "https://localhost:8080/"
        },
        "id": "rekv_BaK2stu",
        "outputId": "52faf2dd-6782-48c3-a487-e77e850e9549"
      },
      "execution_count": null,
      "outputs": [
        {
          "output_type": "execute_result",
          "data": {
            "text/plain": [
              "641914"
            ]
          },
          "metadata": {},
          "execution_count": 66
        }
      ]
    },
    {
      "cell_type": "code",
      "source": [
        "## Splitting data into training and test sets\n",
        "X_n_train, X_n_test, y_train_n, y_test_n = train_test_split(X_n, y_n, test_size = 0.25, random_state = 0)"
      ],
      "metadata": {
        "id": "orte9b6s3jt1"
      },
      "execution_count": null,
      "outputs": []
    },
    {
      "cell_type": "code",
      "source": [
        "sc= StandardScaler()\n",
        "X_n_train = sc.fit_transform(X_n_train)\n",
        "X_n_train=pd.DataFrame(X_n_train,columns=X_n.columns)\n",
        "X_n_test=sc.transform(X_n_test)\n",
        "X_n_test=pd.DataFrame(X_n_test,columns=X_n.columns)"
      ],
      "metadata": {
        "id": "who2q-hu3npV"
      },
      "execution_count": null,
      "outputs": []
    },
    {
      "cell_type": "code",
      "source": [
        "## Training the model using Logistic Regression\n",
        "model_n=LogisticRegression()\n",
        "model_n.fit(X_n_train,y_train_n)"
      ],
      "metadata": {
        "colab": {
          "base_uri": "https://localhost:8080/"
        },
        "id": "eti4mVZm3xFc",
        "outputId": "397d7361-ac8a-4fd5-f7da-c2eedb3d2dbc"
      },
      "execution_count": null,
      "outputs": [
        {
          "output_type": "execute_result",
          "data": {
            "text/plain": [
              "LogisticRegression()"
            ]
          },
          "metadata": {},
          "execution_count": 69
        }
      ]
    },
    {
      "cell_type": "code",
      "source": [
        "## Predicting data\n",
        "y_pred_n=model_n.predict(X_n_test)\n",
        "\n",
        "## classification report\n",
        "print(classification_report(y_test_n,y_pred_n))\n",
        "## accuracy score\n",
        "print(\"accuracy score : \",accuracy_score(y_test_n,y_pred_n))\n",
        "\n",
        "## percentage accurate\n",
        "print(\"accuracy:\", round(100*accuracy_score(y_test_n,y_pred_n)),\"%\")\n",
        "\n",
        "## confusion matrix\n",
        "conf_mat_n=confusion_matrix(y_test_n,y_pred_n)\n",
        "print(\"Confusion matrix is \\n\",conf_mat_n)\n",
        "\n",
        "## plotting confusion matrix\n",
        "plt.figure(figsize=(7,7))\n",
        "plt.title(\"Logistic Regression CM\")\n",
        "sns.heatmap(conf_mat_n, square=True,cmap=\"YlGnBu\",annot=True,fmt='d')\n",
        "plt.xlabel('Actual ')\n",
        "plt.ylabel('Predicted ')\n",
        "\n",
        "# score sensitivity & specificity\n",
        "TN=conf_mat_n[0,0]\n",
        "TP=conf_mat_n[1,1]\n",
        "FN=conf_mat_n[1,0]\n",
        "FP=conf_mat_n[0,1]\n",
        "sensitivity_n=TP/float(TP+FN)\n",
        "specificity_n=TN/float(TN+FP)\n",
        "\n",
        "print('Sensitivity score : ',round(100*sensitivity_n),'%')\n",
        "print('specificity score :',round(100*specificity_n),'%')"
      ],
      "metadata": {
        "colab": {
          "base_uri": "https://localhost:8080/",
          "height": 695
        },
        "id": "Kb79I--h4A1D",
        "outputId": "ca5e1758-95ef-45a5-ad1e-066cebccfa35"
      },
      "execution_count": null,
      "outputs": [
        {
          "output_type": "stream",
          "name": "stdout",
          "text": [
            "              precision    recall  f1-score   support\n",
            "\n",
            "           0       0.98      1.00      0.99    157622\n",
            "           1       0.00      0.00      0.00      2857\n",
            "\n",
            "    accuracy                           0.98    160479\n",
            "   macro avg       0.49      0.50      0.50    160479\n",
            "weighted avg       0.96      0.98      0.97    160479\n",
            "\n",
            "accuracy score :  0.98219081624387\n",
            "accuracy: 98 %\n",
            "Confusion matrix is \n",
            " [[157621      1]\n",
            " [  2857      0]]\n",
            "Sensitivity score :  0 %\n",
            "specificity score : 100 %\n"
          ]
        },
        {
          "output_type": "display_data",
          "data": {
            "text/plain": [
              "<Figure size 504x504 with 2 Axes>"
            ],
            "image/png": "[encoded data removed]"
          },
          "metadata": {
            "needs_background": "light"
          }
        }
      ]
    },
    {
      "cell_type": "code",
      "source": [
        "\n",
        "# Prediction using predict_proba\n",
        "y_pred_proba_n = model_smote.predict_proba(X_test)[:,1]\n",
        "fpr, tpr, _ = roc_curve(y_test,y_pred_proba_n)\n",
        "roc_auc=auc(fpr, tpr)\n",
        "\n",
        "#Draw ROC using fpr , tpr\n",
        "plt.plot([0, 1], [0, 1], 'k--',label='Random')\n",
        "plt.plot(fpr,tpr,label='ROC curve (area = %0.2f)' %roc_auc)\n",
        "plt.xlabel('False positive rate')\n",
        "plt.ylabel('True positive rate')\n",
        "plt.title('Logistic Regression ROC curve')\n",
        "plt.legend(loc='best')"
      ],
      "metadata": {
        "colab": {
          "base_uri": "https://localhost:8080/",
          "height": 312
        },
        "id": "9J8QDFXhMNfC",
        "outputId": "d8a8378c-2fa1-4bbc-b922-33ec5086770b"
      },
      "execution_count": null,
      "outputs": [
        {
          "output_type": "execute_result",
          "data": {
            "text/plain": [
              "<matplotlib.legend.Legend at 0x7f5c9022dc50>"
            ]
          },
          "metadata": {},
          "execution_count": 95
        },
        {
          "output_type": "display_data",
          "data": {
            "text/plain": [
              "<Figure size 432x288 with 1 Axes>"
            ],
            "image/png": "[encoded data removed]"
          },
          "metadata": {
            "needs_background": "light"
          }
        }
      ]
    }
  ],
  "metadata": {
    "colab": {
      "collapsed_sections": [
        "KAbdK-8hZmHu",
        "rb6rRffSZsNw",
        "NcLxTWG9ZwI3",
        "_FOUeKcbad0v",
        "IyW0jqphbm5F",
        "tGPdr-ZCS-By"
      ],
      "provenance": []
    },
    "kernelspec": {
      "display_name": "Python 3",
      "name": "python3"
    },
    "language_info": {
      "name": "python"
    }
  },
  "nbformat": 4,
  "nbformat_minor": 0
}